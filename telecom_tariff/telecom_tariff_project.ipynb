{
 "cells": [
  {
   "cell_type": "markdown",
   "id": "96e00679",
   "metadata": {},
   "source": [
    "# Определение перспективного тарифа для телеком-компании\n",
    "\n",
    "## Описание задачи\n",
    "\n",
    "Вы аналитик компании «Мегалайн» — федерального оператора сотовой связи. Клиентам предлагают два тарифных плана: **«Смарт»** и **«Ультра»**. Чтобы скорректировать рекламный бюджет, коммерческий департамент хочет понять, **какой тариф приносит больше денег**.\n",
    "\n",
    "Вам предстоит сделать предварительный анализ тарифов на небольшой выборке клиентов. В вашем распоряжении данные 500 пользователей «Мегалайна»: кто они, откуда, каким тарифом пользуются, сколько звонков и сообщений каждый отправил за 2018 год. Нужно проанализировать поведение клиентов и определить, какой тариф приносит больше денег."
   ]
  },
  {
   "cell_type": "markdown",
   "id": "04912cd6",
   "metadata": {},
   "source": [
    "тариф | **Смарт** | **Ультра**\n",
    "---:| :--- | :---\n",
    "Плата в месяц | 550₽ | 1950₽\n",
    "**Включено** |---|---\n",
    "связь | 500 мин | 3000 мин\n",
    "смс | 50 | 1000\n",
    "интернет | 15 Гб | 30 Гб\n",
    "**Стоимость услуг сверх тарифного пакета**|---|---\n",
    "связь | 3₽ за минуту | 1₽ за минуту\n",
    "смс | 3₽ | 1₽\n",
    "1 Гб | 200₽ | 150₽\n",
    "\n",
    "Секунды в рамках каждого звонка округляются до минут.<br>\n",
    "Суммараный веб-трафик за месяц округляется до гигабайтов.<br>\n",
    "1 гигабайт = 1024 мегабайта"
   ]
  },
  {
   "cell_type": "markdown",
   "id": "2a3fca37",
   "metadata": {},
   "source": [
    "- Опишите поведение клиентов оператора, исходя из выборки:\n",
    "    - Сколько минут разговора, сколько сообщений и какой объём интернет-трафика требуется пользователям каждого тарифа в месяц?\n",
    "    - Посчитайте среднее количество, дисперсию и стандартное отклонение.\n",
    "    - Постройте гистограммы. Опишите распределения.\n",
    "- Проверьте гипотезы:\n",
    "    - средняя выручка пользователей тарифов «Ультра» и «Смарт» различаются;\n",
    "    - средняя выручка пользователей из Москвы отличается от выручки пользователей из других регионов. Пороговое значение alpha задайте самостоятельно.\n",
    "- Поясните:\n",
    "    - как вы формулировали нулевую и альтернативную гипотезы;\n",
    "    - какой критерий использовали для проверки гипотез и почему.\n",
    "- Напишите общий вывод"
   ]
  },
  {
   "cell_type": "markdown",
   "id": "926a1e72",
   "metadata": {},
   "source": [
    "## Описание данных"
   ]
  },
  {
   "cell_type": "markdown",
   "id": "0d01b3a2",
   "metadata": {},
   "source": [
    "\n",
    "**Таблица users** (информация о пользователях):\n",
    "- `user_id` — уникальный идентификатор пользователя\n",
    "- `first_name` — имя пользователя\n",
    "- `last_name` — фамилия пользователя\n",
    "- `age` — возраст пользователя (годы)\n",
    "- `reg_date` — дата подключения тарифа (день, месяц, год)\n",
    "- `churn_date` — дата прекращения пользования тарифом (если значение пропущено, то тариф ещё действовал на момент выгрузки данных)\n",
    "- `city` — город проживания пользователя\n",
    "- `tarif` — название тарифного плана`\n",
    "----\n",
    "\n",
    "**Таблица calls** (информация о звонках):\n",
    "- `id` — уникальный номер звонка\n",
    "- `call_date` — дата звонка\n",
    "- `duration` — длительность звонка в минутах\n",
    "- `user_id` — идентификатор пользователя, сделавшего звонок\n",
    "----\n",
    "\n",
    "**Таблица messages** (информация о сообщениях):\n",
    "- `id` — уникальный номер сообщения\n",
    "- `message_date` — дата сообщения\n",
    "- `user_id` — идентификатор пользователя, отправившего сообщение\n",
    "----\n",
    "\n",
    "**Таблица internet** (информация об интернет-сессиях):\n",
    "- `id` — уникальный номер сессии\n",
    "- `mb_used` — объём потраченного за сессию интернет-трафика (в мегабайтах)\n",
    "- `session_date` — дата интернет-сессии\n",
    "- `user_id` — идентификатор пользователя\n",
    "----\n",
    "\n",
    "**Таблица tariffs** (информация о тарифах):\n",
    "- `tariff_name` — название тарифа\n",
    "- `rub_monthly_fee` — ежемесячная абонентская плата в рублях\n",
    "- `minutes_included` — количество минут разговора в месяц, включённых в абонентскую плату\n",
    "- `messages_included` — количество сообщений в месяц, включённых в абонентскую плату\n",
    "- `mb_per_month_included` — объём интернет-трафика, включённого в абонентскую плату (в мегабайтах)\n",
    "- `rub_per_minute` — стоимость минуты разговора сверх тарифного пакета\n",
    "- `rub_per_message` — стоимость отправки сообщения сверх тарифного пакета\n",
    "- `rub_per_gb` — стоимость дополнительного гигабайта интернет-трафика сверх тарифного пакета"
   ]
  },
  {
   "cell_type": "markdown",
   "id": "6936d85e",
   "metadata": {},
   "source": [
    "## Предобработка данных\n",
    "\n",
    "Соберём данные в удобный нам формат, заодно проверим, что с ними всё ок, уберём персональные данные.\n",
    "\n",
    "За основу возьмём таблицу ползователей. Для каждого посчитаем все интересующие нас параметры."
   ]
  },
  {
   "cell_type": "code",
   "execution_count": null,
   "id": "f7413e22",
   "metadata": {
    "scrolled": true
   },
   "outputs": [],
   "source": [
    "import numpy as np\n",
    "import pandas as pd\n",
    "import requests\n",
    "import zipfile\n",
    "\n",
    "from matplotlib import pyplot as plt\n",
    "from matplotlib.ticker import (AutoMinorLocator, MultipleLocator)\n",
    "from scipy import stats as st"
   ]
  },
  {
   "cell_type": "code",
   "execution_count": 2,
   "id": "6f4aa827",
   "metadata": {},
   "outputs": [],
   "source": [
    "# зададим дефолтные настройки отображения таблиц и графиков\n",
    "pd.set_option('display.float_format', '{:_.2f}'.format)\n",
    "#pd.set_option('display.max_columns', 100)\n",
    "pd.set_option('display.max_rows', 50)\n",
    "pd.set_option('display.min_rows', 30)\n",
    "plt.rcParams['font.size'] = '12'\n",
    "plt.rcParams['figure.figsize'] = (10, 6)"
   ]
  },
  {
   "cell_type": "code",
   "execution_count": 3,
   "id": "2a2353ac",
   "metadata": {},
   "outputs": [],
   "source": [
    "# наши данные\n",
    "\n",
    "# CALLS = '/datasets/calls.csv'\n",
    "# INTERNET = '/datasets/internet.csv'\n",
    "# MESSAGES = '/datasets/messages.csv'\n",
    "# USERS = '/datasets/users.csv'\n",
    "\n",
    "CALLS = 'data/calls.csv'\n",
    "INTERNET = 'data/internet.csv'\n",
    "MESSAGES = 'data/messages.csv'\n",
    "USERS = 'data/users.csv'"
   ]
  },
  {
   "cell_type": "code",
   "execution_count": 4,
   "id": "f37d1cab",
   "metadata": {},
   "outputs": [],
   "source": [
    "# заведём словарик с условиями тарифов\n",
    "TARIFF = {\n",
    "'smart': {\n",
    "    'price': 550,\n",
    "    \n",
    "    'limits': {\n",
    "        'calls': 500,\n",
    "        'sms': 50, \n",
    "        'web': 15},\n",
    "    \n",
    "    'fee': {\n",
    "        'calls': 3,\n",
    "        'sms': 3,\n",
    "        'web': 200}},\n",
    "\n",
    "'ultra': {\n",
    "   'price': 1950,\n",
    "   \n",
    "   'limits': {\n",
    "        'calls': 3000,\n",
    "        'sms': 1000,\n",
    "        'web': 30},\n",
    "    \n",
    "   'fee': {\n",
    "        'calls': 1,\n",
    "        'sms': 1,\n",
    "        'web': 150}}\n",
    "        }"
   ]
  },
  {
   "cell_type": "markdown",
   "id": "8560e54c",
   "metadata": {},
   "source": [
    "### Абоненты\n",
    "\n",
    "Посмотрим на наших абонентов."
   ]
  },
  {
   "cell_type": "code",
   "execution_count": 5,
   "id": "fb708877",
   "metadata": {},
   "outputs": [],
   "source": [
    "# загрузим данные: распарсим даты\n",
    "users_df = pd.read_csv(USERS, parse_dates=[2,6])"
   ]
  },
  {
   "cell_type": "code",
   "execution_count": 6,
   "id": "40bf63f3",
   "metadata": {},
   "outputs": [
    {
     "data": {
      "text/plain": [
       "0"
      ]
     },
     "execution_count": 6,
     "metadata": {},
     "output_type": "execute_result"
    }
   ],
   "source": [
    "# сразу проверим, нет ли дублей\n",
    "users_df.duplicated().sum()"
   ]
  },
  {
   "cell_type": "code",
   "execution_count": 7,
   "id": "dbe37218",
   "metadata": {},
   "outputs": [
    {
     "name": "stdout",
     "output_type": "stream",
     "text": [
      "<class 'pandas.core.frame.DataFrame'>\n",
      "RangeIndex: 500 entries, 0 to 499\n",
      "Data columns (total 8 columns):\n",
      " #   Column      Non-Null Count  Dtype         \n",
      "---  ------      --------------  -----         \n",
      " 0   user_id     500 non-null    int64         \n",
      " 1   age         500 non-null    int64         \n",
      " 2   churn_date  38 non-null     datetime64[ns]\n",
      " 3   city        500 non-null    object        \n",
      " 4   first_name  500 non-null    object        \n",
      " 5   last_name   500 non-null    object        \n",
      " 6   reg_date    500 non-null    datetime64[ns]\n",
      " 7   tariff      500 non-null    object        \n",
      "dtypes: datetime64[ns](2), int64(2), object(4)\n",
      "memory usage: 31.4+ KB\n"
     ]
    }
   ],
   "source": [
    "# посмотрим на типы данных, количество пропусков\n",
    "users_df.info()"
   ]
  },
  {
   "cell_type": "markdown",
   "id": "44567822",
   "metadata": {},
   "source": [
    "Пока всё выглядит ок. Пройдёмся по колонкам – убедимся, что в них всё правдоподобно.\n",
    "\n",
    "Еще кажется, что не мешало бы добавить пол пользователей – определим его по именам. Для этого из [интернетиков](https://mydata.biz/ru/catalog/databases/names_db) возьмём большой список имён.\n",
    "\n",
    "После того, как выставим пол, колонки с именами и фамилиями убьём – чем меньше ненужных персональных данных в работе, тем лучше."
   ]
  },
  {
   "cell_type": "code",
   "execution_count": 8,
   "id": "d33c5e69",
   "metadata": {},
   "outputs": [
    {
     "data": {
      "text/plain": [
       "first_name  last_name \n",
       "Авксентий   Алексеичев    1\n",
       "Милица      Меркулова     1\n",
       "Нателла     Бородина      1\n",
       "Наталья     Жарова        1\n",
       "Наида       Боброва       1\n",
       "            Авраменко     1\n",
       "Надежда     Чеснокова     1\n",
       "            Латышева      1\n",
       "            Аникина       1\n",
       "Мстислав    Демьянов      1\n",
       "            Ахматов       1\n",
       "            Алексеенко    1\n",
       "Михаил      Крюков        1\n",
       "            Кравцов       1\n",
       "Мирослава   Лазарева      1\n",
       "                         ..\n",
       "Джемма      Карасева      1\n",
       "Денис       Алфимов       1\n",
       "Демьян      Черняев       1\n",
       "            Логинов       1\n",
       "Дебора      Асафьева      1\n",
       "Даниэла     Пугачева      1\n",
       "            Горбачева     1\n",
       "Даниил      Алиев         1\n",
       "            Ёрохов        1\n",
       "Дана        Новикова      1\n",
       "            Меркулова     1\n",
       "            Астапенко     1\n",
       "Дайна       Березина      1\n",
       "Григорий    Давыдов       1\n",
       "Яна         Седова        1\n",
       "Name: user_id, Length: 500, dtype: int64"
      ]
     },
     "execution_count": 8,
     "metadata": {},
     "output_type": "execute_result"
    }
   ],
   "source": [
    "# на всякий случай, проверим, есть ли у нас полные тёзки\n",
    "# нет\n",
    "users_df.groupby(['first_name', 'last_name'])['user_id'].count().sort_values(ascending=False)"
   ]
  },
  {
   "cell_type": "code",
   "execution_count": 9,
   "id": "cd9b4e56",
   "metadata": {},
   "outputs": [
    {
     "data": {
      "text/plain": [
       "'/Users/noga/Documents/Docs/Моё/Praktikum/5_stat/russian_names.csv'"
      ]
     },
     "execution_count": 9,
     "metadata": {},
     "output_type": "execute_result"
    }
   ],
   "source": [
    "# скачаем файл с именами и полом\n",
    "url = 'https://mydata.biz/storage/download/ebcdfe6fb2d546398010e0d6564a79bb/База%20данных%20имен%20и%20фамилий%20в%20формате%20CSV.zip'\n",
    "names_file = requests.get(url)\n",
    "open('names.zip', 'wb').write(names_file.content)\n",
    "z = zipfile.ZipFile('names.zip')\n",
    "z.extract('russian_names.csv')"
   ]
  },
  {
   "cell_type": "code",
   "execution_count": 10,
   "id": "bffd7d8b",
   "metadata": {},
   "outputs": [],
   "source": [
    "# загрузим имена и добавим колонку с полом.\n",
    "names = pd.read_csv('russian_names.csv', sep=';')\n",
    "\n",
    "male = names[names.Sex == 'М'].Name.values\n",
    "female = names[names.Sex == 'Ж'].Name.values\n",
    "\n",
    "def get_sex(name):\n",
    "    if name in male and name in female:\n",
    "        return 'mf'\n",
    "    elif name in female:\n",
    "        return 'f'\n",
    "    elif name in male:\n",
    "        return 'm'\n",
    "    else:\n",
    "        return '??'\n",
    "    \n",
    "users_df['sex'] = users_df.first_name.apply(get_sex) "
   ]
  },
  {
   "cell_type": "code",
   "execution_count": 11,
   "id": "be90e39a",
   "metadata": {},
   "outputs": [
    {
     "data": {
      "text/html": [
       "<div>\n",
       "<style scoped>\n",
       "    .dataframe tbody tr th:only-of-type {\n",
       "        vertical-align: middle;\n",
       "    }\n",
       "\n",
       "    .dataframe tbody tr th {\n",
       "        vertical-align: top;\n",
       "    }\n",
       "\n",
       "    .dataframe thead th {\n",
       "        text-align: right;\n",
       "    }\n",
       "</style>\n",
       "<table border=\"1\" class=\"dataframe\">\n",
       "  <thead>\n",
       "    <tr style=\"text-align: right;\">\n",
       "      <th></th>\n",
       "      <th>user_id</th>\n",
       "      <th>age</th>\n",
       "      <th>churn_date</th>\n",
       "      <th>city</th>\n",
       "      <th>first_name</th>\n",
       "      <th>last_name</th>\n",
       "      <th>reg_date</th>\n",
       "      <th>tariff</th>\n",
       "      <th>sex</th>\n",
       "    </tr>\n",
       "  </thead>\n",
       "  <tbody>\n",
       "    <tr>\n",
       "      <th>8</th>\n",
       "      <td>1008</td>\n",
       "      <td>63</td>\n",
       "      <td>NaT</td>\n",
       "      <td>Челябинск</td>\n",
       "      <td>Рустэм</td>\n",
       "      <td>Пономарёв</td>\n",
       "      <td>2018-12-19</td>\n",
       "      <td>smart</td>\n",
       "      <td>??</td>\n",
       "    </tr>\n",
       "    <tr>\n",
       "      <th>83</th>\n",
       "      <td>1083</td>\n",
       "      <td>24</td>\n",
       "      <td>NaT</td>\n",
       "      <td>Сочи</td>\n",
       "      <td>Рустэм</td>\n",
       "      <td>Галкин</td>\n",
       "      <td>2018-04-24</td>\n",
       "      <td>smart</td>\n",
       "      <td>??</td>\n",
       "    </tr>\n",
       "  </tbody>\n",
       "</table>\n",
       "</div>"
      ],
      "text/plain": [
       "    user_id  age churn_date       city first_name  last_name   reg_date  \\\n",
       "8      1008   63        NaT  Челябинск     Рустэм  Пономарёв 2018-12-19   \n",
       "83     1083   24        NaT       Сочи     Рустэм     Галкин 2018-04-24   \n",
       "\n",
       "   tariff sex  \n",
       "8   smart  ??  \n",
       "83  smart  ??  "
      ]
     },
     "execution_count": 11,
     "metadata": {},
     "output_type": "execute_result"
    }
   ],
   "source": [
    "# посмотрим на проблемные строки\n",
    "users_df[users_df.sex.isin(['??', 'mf'])]"
   ]
  },
  {
   "cell_type": "code",
   "execution_count": 12,
   "id": "a1a7c7fe",
   "metadata": {},
   "outputs": [],
   "source": [
    "# поправим их руками\n",
    "users_df.loc[users_df.user_id.isin([1008, 1083]), 'sex'] = 'm'"
   ]
  },
  {
   "cell_type": "code",
   "execution_count": 13,
   "id": "7f28b159",
   "metadata": {},
   "outputs": [
    {
     "data": {
      "text/plain": [
       "f    261\n",
       "m    239\n",
       "Name: sex, dtype: int64"
      ]
     },
     "execution_count": 13,
     "metadata": {},
     "output_type": "execute_result"
    }
   ],
   "source": [
    "# убедимся, что всё получилось\n",
    "users_df.sex.value_counts()"
   ]
  },
  {
   "cell_type": "code",
   "execution_count": 14,
   "id": "131a2227",
   "metadata": {},
   "outputs": [],
   "source": [
    "# и убьём имена с фамилиями\n",
    "users_df = users_df.drop(['first_name', 'last_name'], axis='columns')"
   ]
  },
  {
   "cell_type": "code",
   "execution_count": 15,
   "id": "fbfe5fc2",
   "metadata": {},
   "outputs": [
    {
     "data": {
      "text/plain": [
       "count   500.00\n",
       "mean     46.59\n",
       "std      16.67\n",
       "min      18.00\n",
       "25%      32.00\n",
       "50%      46.00\n",
       "75%      62.00\n",
       "max      75.00\n",
       "Name: age, dtype: float64"
      ]
     },
     "execution_count": 15,
     "metadata": {},
     "output_type": "execute_result"
    }
   ],
   "source": [
    "# посмотрим на возраст\n",
    "users_df.age.describe()"
   ]
  },
  {
   "cell_type": "code",
   "execution_count": 16,
   "id": "480c23fb",
   "metadata": {},
   "outputs": [
    {
     "data": {
      "image/png": "[encoded data removed]",
      "text/plain": [
       "<Figure size 432x720 with 1 Axes>"
      ]
     },
     "metadata": {
      "needs_background": "light"
     },
     "output_type": "display_data"
    }
   ],
   "source": [
    "# построим половозрастную пирамиду\n",
    "data = users_df.pivot_table(index='age',\n",
    "                            columns='sex',\n",
    "                            values='user_id',\n",
    "                            aggfunc='count')\n",
    "\n",
    "x = data.index\n",
    "m = data.m\n",
    "f = -data.f\n",
    "\n",
    "fig, ax = plt.subplots(figsize=(6, 10))\n",
    "\n",
    "ax.barh(x, m, align='center')\n",
    "ax.barh(x, f, align='center')\n",
    "\n",
    "ax.xaxis.set_major_locator(MultipleLocator(2))\n",
    "ax.yaxis.set_major_locator(MultipleLocator(10))\n",
    "ax.yaxis.set_minor_locator(AutoMinorLocator(2))\n",
    "ax.grid(which='major', color='#CCCCCC', linestyle='--')\n",
    "ax.grid(which='minor', color='#CCCCCC', linestyle=':')\n",
    "\n",
    "ax.set_xlabel('Женщины -- Мужчины')\n",
    "ax.set_ylabel('Возраст')\n",
    "ax.set_title('Половозрастная структура абонентов')\n",
    "\n",
    "plt.show()"
   ]
  },
  {
   "cell_type": "code",
   "execution_count": 17,
   "id": "009921a0",
   "metadata": {},
   "outputs": [
    {
     "name": "stderr",
     "output_type": "stream",
     "text": [
      "/Users/noga/opt/anaconda3/envs/praktikum_env_macos/lib/python3.7/site-packages/ipykernel_launcher.py:17: UserWarning: FixedFormatter should only be used together with FixedLocator\n"
     ]
    },
    {
     "data": {
      "image/png": "[encoded data removed]",
      "text/plain": [
       "<Figure size 432x432 with 1 Axes>"
      ]
     },
     "metadata": {
      "needs_background": "light"
     },
     "output_type": "display_data"
    }
   ],
   "source": [
    "# что-то пирамида не похожа на пирамиду. укрупним возрастные группы\n",
    "\n",
    "data = users_df.pivot_table(index=pd.cut(users_df.age, bins=[17, 24, 34, 44, 54, 99]),\n",
    "                            columns='sex',\n",
    "                            values='user_id',\n",
    "                            aggfunc='count')\n",
    "\n",
    "x = range(5)\n",
    "m = data.m\n",
    "f = -data.f\n",
    "\n",
    "fig, ax = plt.subplots(figsize=(6, 6))\n",
    "\n",
    "ax.grid(which='major', color='#CCCCCC', linestyle='--')\n",
    "ax.grid(which='minor', color='#CCCCCC', linestyle=':')\n",
    "\n",
    "ax.set_yticklabels(['', '18-24', '25-34', '35-44', '45-54', '55+'])\n",
    "ax.set_xlabel('Женщины -- Мужчины')\n",
    "ax.set_ylabel('Возраст')\n",
    "ax.set_title('Половозрастная структура абонентов')\n",
    "\n",
    "ax.barh(x, m)\n",
    "ax.barh(x, f)\n",
    "plt.show()"
   ]
  },
  {
   "cell_type": "markdown",
   "id": "b9233ead",
   "metadata": {},
   "source": [
    "Нуу, в целом данные по возрастам выглядят скорее неправдоподобно – у нас примерно одинаковое число абонентов каждого возраста и пола. Обычно есть какой-то выраженный перекос. Спишем это на то, что это тренировочный сет. В реальной ситуации стоило бы выяснить, как так получилось."
   ]
  },
  {
   "cell_type": "code",
   "execution_count": 18,
   "id": "cb830ccc",
   "metadata": {},
   "outputs": [
    {
     "data": {
      "text/plain": [
       "Москва              99\n",
       "Санкт-Петербург     39\n",
       "Новосибирск         16\n",
       "Омск                14\n",
       "Казань              14\n",
       "Уфа                 12\n",
       "Краснодар           11\n",
       "Набережные Челны    11\n",
       "Ульяновск           11\n",
       "Екатеринбург        11\n",
       "Челябинск            9\n",
       "Самара               9\n",
       "Нижний Новгород      8\n",
       "Волгоград            8\n",
       "Пермь                8\n",
       "Улан-Удэ             7\n",
       "Новокузнецк          7\n",
       "Вологда              7\n",
       "Красноярск           7\n",
       "Сочи                 6\n",
       "Name: city, dtype: int64"
      ]
     },
     "execution_count": 18,
     "metadata": {},
     "output_type": "execute_result"
    }
   ],
   "source": [
    "# посмотрим на города\n",
    "users_df.city.value_counts().head(20)"
   ]
  },
  {
   "cell_type": "code",
   "execution_count": 19,
   "id": "8cb666dc",
   "metadata": {},
   "outputs": [
    {
     "data": {
      "text/plain": [
       "count                              500\n",
       "mean     2018-06-30 18:57:35.999999744\n",
       "min                2018-01-01 00:00:00\n",
       "25%                2018-04-07 12:00:00\n",
       "50%                2018-07-02 12:00:00\n",
       "75%                2018-09-29 00:00:00\n",
       "max                2018-12-31 00:00:00\n",
       "Name: reg_date, dtype: object"
      ]
     },
     "execution_count": 19,
     "metadata": {},
     "output_type": "execute_result"
    }
   ],
   "source": [
    "# посмотрим на даты\n",
    "users_df.reg_date.describe(datetime_is_numeric=True)"
   ]
  },
  {
   "cell_type": "code",
   "execution_count": 20,
   "id": "11ae27be",
   "metadata": {},
   "outputs": [
    {
     "data": {
      "image/png": "[encoded data removed]",
      "text/plain": [
       "<Figure size 720x432 with 1 Axes>"
      ]
     },
     "metadata": {
      "needs_background": "light"
     },
     "output_type": "display_data"
    }
   ],
   "source": [
    "# построим график регистраций и оттока. ну и сразу распилим его на тарифы\n",
    "\n",
    "reg = users_df.pivot_table(index=users_df.reg_date.dt.to_period('m'),\n",
    "                     columns='tariff',\n",
    "                     values='user_id',\n",
    "                     aggfunc='count')\n",
    "\n",
    "churn = users_df.pivot_table(index=users_df.churn_date.dt.to_period('m'),\n",
    "                     columns='tariff',\n",
    "                     values='user_id',\n",
    "                     aggfunc=lambda x: x.count()*-1)\n",
    "\n",
    "data = reg.merge(churn, how='left', left_index=True, right_index=True)\n",
    "\n",
    "fig, ax = plt.subplots()\n",
    "data.plot(kind='bar',\n",
    "          stacked=True,\n",
    "          ax=ax,\n",
    "          color=('#ff294d', '#1cac78', '#ff5c77', '#00945b'))\n",
    "ax.grid()\n",
    "zero_line = ax.get_ygridlines()[2]\n",
    "zero_line.set_color('black')\n",
    "zero_line.set_linewidth(2)\n",
    "ax.legend(labels=('Smart', 'Ultra', 'Smart - отток', 'Ultra - отток'), loc='lower left')\n",
    "ax.set_title('Регистрация и отток абонентов по месяцам')\n",
    "ax.set_xlabel('')\n",
    "ax.set_ylabel('Количество абонентов')\n",
    "\n",
    "plt.show()"
   ]
  },
  {
   "cell_type": "markdown",
   "id": "eb43f168",
   "metadata": {},
   "source": [
    "Тут тоже что-то очень странное – у нас каждый месяц добавляеся примерно одинаковое количество новых абонентов. И совсем нет пользователей из прошлого.\n",
    "\n",
    "Если предположить, что эти тарифы запустились только в январе 2018 года, то всё равно странно, что они так стабильны – по идее должен быть всплеск вскоре после запуска тарифа и постепенное убывание. Плюс какая-то сезонность. В общем, скорее непохоже на реальные данные. Но сделать ничего не можем – будем считать, что всё ок."
   ]
  },
  {
   "cell_type": "markdown",
   "id": "7de72779",
   "metadata": {},
   "source": [
    "К тому же в нашей выборке есть пользователи, у которых история действий начинается в декабре - у них не будет даже одного целого месяца истории. К сожалению, придётся убрать из данных всех, у кого дата регистрации позднее 2 декабря – все метрики мы будем считать по месяцам – неполные периоды перекосят нам статистику."
   ]
  },
  {
   "cell_type": "code",
   "execution_count": 21,
   "id": "daaae73f",
   "metadata": {},
   "outputs": [],
   "source": [
    "# убьём всех моложе 1 декабря\n",
    "users_df = users_df[users_df.reg_date < '2018.12.02']"
   ]
  },
  {
   "cell_type": "markdown",
   "id": "448650bb",
   "metadata": {},
   "source": [
    "Теперь надо рассчитать платёжные периоды для пользователей. Поскольку у пользователей разная дата начала тарифа, то и месячные периоды у каждого будут свои – в зависимости от даты начала договора. \n",
    "\n",
    "Чтобы не расчитывать период для каждой точки данных, мы рассчитаем их один раз для каждого дня начала договора и вынесем в словарик. Из него потом будем брать предпосчитанные периоды.  "
   ]
  },
  {
   "cell_type": "code",
   "execution_count": 22,
   "id": "db857349",
   "metadata": {},
   "outputs": [],
   "source": [
    "# составим список уникальных дат\n",
    "start_dates = users_df.reg_date.unique()"
   ]
  },
  {
   "cell_type": "code",
   "execution_count": 23,
   "id": "df12ac2b",
   "metadata": {},
   "outputs": [],
   "source": [
    "# составим словарь\n",
    "pay_periods_dict = {}\n",
    "\n",
    "def calculate_periods(start_date):\n",
    "    period = 1\n",
    "    break_date_list = [start_date]\n",
    "    break_num_list = []\n",
    "\n",
    "    while start_date + pd.DateOffset(months=period) <= pd.Timestamp('2019-01-01'):\n",
    "            break_date = start_date + pd.DateOffset(months=period)\n",
    "            break_date_list.append(break_date)\n",
    "            break_num_list.append(period)\n",
    "            period += 1\n",
    "\n",
    "    pay_periods = pd.Series(break_num_list,\n",
    "                            index=pd.IntervalIndex.from_breaks(break_date_list, closed='left')\n",
    "                           )\n",
    "    \n",
    "    pay_periods_dict[start_date] = pay_periods\n",
    "\n",
    "for date in start_dates:\n",
    "    calculate_periods(pd.Timestamp(date))"
   ]
  },
  {
   "cell_type": "code",
   "execution_count": 24,
   "id": "fab6e09d",
   "metadata": {
    "scrolled": true
   },
   "outputs": [
    {
     "data": {
      "text/plain": [
       "[2018-01-01, 2018-02-01)     1\n",
       "[2018-02-01, 2018-03-01)     2\n",
       "[2018-03-01, 2018-04-01)     3\n",
       "[2018-04-01, 2018-05-01)     4\n",
       "[2018-05-01, 2018-06-01)     5\n",
       "[2018-06-01, 2018-07-01)     6\n",
       "[2018-07-01, 2018-08-01)     7\n",
       "[2018-08-01, 2018-09-01)     8\n",
       "[2018-09-01, 2018-10-01)     9\n",
       "[2018-10-01, 2018-11-01)    10\n",
       "[2018-11-01, 2018-12-01)    11\n",
       "[2018-12-01, 2019-01-01)    12\n",
       "dtype: int64"
      ]
     },
     "execution_count": 24,
     "metadata": {},
     "output_type": "execute_result"
    }
   ],
   "source": [
    "# в ключах словаря – у нас даты начала договора.\n",
    "# в значениях - вектора с интервальным индексом – для каждого интервала дат указан номер платёжного периода.\n",
    "# например, у пользователей с датой начала договора 1 января 2018 будет 12 полных периодов\n",
    "pay_periods_dict[pd.Timestamp('2018-01-01')]"
   ]
  },
  {
   "cell_type": "code",
   "execution_count": 25,
   "id": "f8426586",
   "metadata": {},
   "outputs": [
    {
     "data": {
      "text/plain": [
       "2"
      ]
     },
     "execution_count": 25,
     "metadata": {},
     "output_type": "execute_result"
    }
   ],
   "source": [
    "# чтобы узнать, в какой платежный период попадает действие, достаточно обратиться к индексу датой. \n",
    "# например, посмотрим, какой платежный период будет у пользователя 28 февраля,\n",
    "# если он зарегистрировался 30 января \n",
    "# - уже второй (а не первый) – последний день февраля это первый день следующего периода\n",
    "pay_periods_dict[pd.Timestamp('2018-01-30')][pd.Timestamp('2018-02-28')]"
   ]
  },
  {
   "cell_type": "markdown",
   "id": "8de4152c",
   "metadata": {},
   "source": [
    "### Звонки"
   ]
  },
  {
   "cell_type": "markdown",
   "id": "c9657330",
   "metadata": {},
   "source": [
    "Проверим, что с данными всё ок. Посчитаем стоимость звонков."
   ]
  },
  {
   "cell_type": "code",
   "execution_count": 26,
   "id": "040a3391",
   "metadata": {},
   "outputs": [
    {
     "name": "stdout",
     "output_type": "stream",
     "text": [
      "<class 'pandas.core.frame.DataFrame'>\n",
      "RangeIndex: 202607 entries, 0 to 202606\n",
      "Data columns (total 4 columns):\n",
      " #   Column     Non-Null Count   Dtype         \n",
      "---  ------     --------------   -----         \n",
      " 0   id         202607 non-null  object        \n",
      " 1   call_date  202607 non-null  datetime64[ns]\n",
      " 2   duration   202607 non-null  float64       \n",
      " 3   user_id    202607 non-null  int64         \n",
      "dtypes: datetime64[ns](1), float64(1), int64(1), object(1)\n",
      "memory usage: 6.2+ MB\n"
     ]
    }
   ],
   "source": [
    "calls_df = pd.read_csv(CALLS, parse_dates=[1])\n",
    "calls_df.info()"
   ]
  },
  {
   "cell_type": "code",
   "execution_count": 27,
   "id": "2e7a7dff",
   "metadata": {},
   "outputs": [
    {
     "name": "stdout",
     "output_type": "stream",
     "text": [
      "Количество дубликатов – 0\n"
     ]
    }
   ],
   "source": [
    "print(f'Количество дубликатов – {calls_df.duplicated().sum()}')"
   ]
  },
  {
   "cell_type": "code",
   "execution_count": 28,
   "id": "add282d2",
   "metadata": {},
   "outputs": [
    {
     "data": {
      "text/plain": [
       "count                           202607\n",
       "mean     2018-09-02 20:01:37.583992832\n",
       "min                2018-01-01 00:00:00\n",
       "25%                2018-07-05 00:00:00\n",
       "50%                2018-09-17 00:00:00\n",
       "75%                2018-11-14 00:00:00\n",
       "max                2018-12-31 00:00:00\n",
       "Name: call_date, dtype: object"
      ]
     },
     "execution_count": 28,
     "metadata": {},
     "output_type": "execute_result"
    }
   ],
   "source": [
    "# убедимся, что период времени совпадает с периодом юзеров. совпадает – 2018 год.\n",
    "calls_df.call_date.describe(datetime_is_numeric=True)"
   ]
  },
  {
   "cell_type": "code",
   "execution_count": 29,
   "id": "8d74ec1d",
   "metadata": {},
   "outputs": [
    {
     "data": {
      "text/plain": [
       "count   202_607.00\n",
       "mean          6.76\n",
       "std           5.84\n",
       "min           0.00\n",
       "25%           1.30\n",
       "50%           6.00\n",
       "75%          10.70\n",
       "max          38.00\n",
       "Name: duration, dtype: float64"
      ]
     },
     "execution_count": 29,
     "metadata": {},
     "output_type": "execute_result"
    }
   ],
   "source": [
    "# проверим, что продолжительность звонков реалистичная. вполне: медиана - 6 минут. самый длинный - 38 минут.\n",
    "calls_df.duration.describe()"
   ]
  },
  {
   "cell_type": "code",
   "execution_count": 30,
   "id": "70c1372b",
   "metadata": {},
   "outputs": [],
   "source": [
    "# округлим вверх дробные минуты согласно условиям тарификации\n",
    "calls_df.duration = np.ceil(calls_df.duration).astype('int')"
   ]
  },
  {
   "cell_type": "code",
   "execution_count": 31,
   "id": "b9951ecd",
   "metadata": {},
   "outputs": [
    {
     "data": {
      "image/png": "[encoded data removed]",
      "text/plain": [
       "<Figure size 720x432 with 1 Axes>"
      ]
     },
     "metadata": {
      "needs_background": "light"
     },
     "output_type": "display_data"
    }
   ],
   "source": [
    "# и посмотрим на распределение по продолжительности\n",
    "fig, ax = plt.subplots()\n",
    "calls_df.duration.value_counts().sort_index().plot(kind='bar', ax=ax)\n",
    "\n",
    "\n",
    "ax.yaxis.set_major_locator(MultipleLocator(5000))\n",
    "# ax.yaxis.set_minor_locator(AutoMinorLocator(2))\n",
    "ax.xaxis.set_major_locator(MultipleLocator(5))\n",
    "ax.grid(which='major', color='#CCCCCC', linestyle='--')\n",
    "ax.grid(which='minor', color='#CCCCCC', linestyle=':')\n",
    "plt.setp(ax.get_xticklabels(), rotation=0)\n",
    "\n",
    "ax.set_xlabel('Продолжительнось, минуты')\n",
    "ax.set_ylabel('Количество звонков')\n",
    "ax.set_title('Распределение звонков по продолжительности')\n",
    "\n",
    "plt.show()"
   ]
  },
  {
   "cell_type": "code",
   "execution_count": 32,
   "id": "397c77fa",
   "metadata": {
    "scrolled": false
   },
   "outputs": [
    {
     "data": {
      "image/png": "[encoded data removed]",
      "text/plain": [
       "<Figure size 720x432 with 1 Axes>"
      ]
     },
     "metadata": {
      "needs_background": "light"
     },
     "output_type": "display_data"
    }
   ],
   "source": [
    "# и на распределение по неделям года. отдельно посчитаем нулевые звонки и обычные\n",
    "fig, ax = plt.subplots()\n",
    "\n",
    "(calls_df.pivot_table(index=calls_df['call_date'].dt.isocalendar().week,\n",
    "                      columns=calls_df.duration > 0,\n",
    "                      values='duration',\n",
    "                      aggfunc='count')\n",
    " .plot(kind='bar', stacked=True, ax=ax)\n",
    ")\n",
    "\n",
    "ax.yaxis.set_major_locator(MultipleLocator(1000))\n",
    "ax.yaxis.set_minor_locator(AutoMinorLocator(2))\n",
    "ax.xaxis.set_major_locator(MultipleLocator(4))\n",
    "ax.grid(which='major', color='#CCCCCC', linestyle='--')\n",
    "ax.grid(which='minor', color='#CCCCCC', linestyle=':')\n",
    "plt.setp(ax.get_xticklabels(), rotation=0)\n",
    "\n",
    "ax.legend(['Звонки с нулевой длительностью', 'Обычные звонки'])\n",
    "ax.set_xlabel('Номер недели')\n",
    "ax.set_ylabel('Количество звонков')\n",
    "ax.set_title('Распределение звонков в течение года')\n",
    "\n",
    "plt.show()"
   ]
  },
  {
   "cell_type": "markdown",
   "id": "be56f3e8",
   "metadata": {},
   "source": [
    "Из-за того, что у нас количество абонентов монотонно прибывает в течение года, количество звонков так же монотонно растёт. Чтобы окончательно убедиться, что с данными всё ок, нормируем звонки и продолжительность на количество пользователей."
   ]
  },
  {
   "cell_type": "code",
   "execution_count": 33,
   "id": "8aca56c6",
   "metadata": {},
   "outputs": [
    {
     "data": {
      "image/png": "[encoded data removed]",
      "text/plain": [
       "<Figure size 720x432 with 2 Axes>"
      ]
     },
     "metadata": {
      "needs_background": "light"
     },
     "output_type": "display_data"
    }
   ],
   "source": [
    "fig, ax = plt.subplots()\n",
    "\n",
    "unique_users = calls_df.pivot_table(index=calls_df['call_date'].dt.isocalendar().week,\n",
    "                      values='user_id',\n",
    "                      aggfunc=lambda x: x.nunique())\n",
    "\n",
    "calls_count = calls_df.pivot_table(index=calls_df['call_date'].dt.isocalendar().week,\n",
    "                      values='id',\n",
    "                      aggfunc=\"count\")\n",
    "\n",
    "calls_duration = calls_df.pivot_table(index=calls_df['call_date'].dt.isocalendar().week,\n",
    "                      values='duration',\n",
    "                      aggfunc=\"sum\")\n",
    "\n",
    "(calls_count.id / unique_users.user_id).plot(kind='bar', ax=ax)\n",
    "ax2 = ax.twinx()\n",
    "(calls_duration.duration / unique_users.user_id).plot(kind='line', ax=ax2, color='r')\n",
    "\n",
    "ax.xaxis.set_major_locator(MultipleLocator(4))\n",
    "ax.grid(which='major', color='#CCCCCC', linestyle='--')\n",
    "ax.grid(which='minor', color='#CCCCCC', linestyle=':')\n",
    "plt.setp(ax.get_xticklabels(), rotation=0)\n",
    "\n",
    "\n",
    "ax.set_xlabel('Номер недели')\n",
    "ax.set_ylabel('Количество звонков')\n",
    "\n",
    "ax2.set_ylabel('Продолжительность звонков')\n",
    "ax.set_title('Количество и продолжительность звонков на одного абонента в течение года')\n",
    "\n",
    "plt.show()"
   ]
  },
  {
   "cell_type": "markdown",
   "id": "15df8bdc",
   "metadata": {},
   "source": [
    "С данными, похоже, всё ок.\n",
    "\n",
    "Теперь для каждого абонента посчитаем продолжительность по месяцам и рассчитаем стоимость звонков, но сначала выставим абонентам платежные периоды. Сумму минут и деньги будем считать уже по этим периодам."
   ]
  },
  {
   "cell_type": "code",
   "execution_count": 34,
   "id": "d610946c",
   "metadata": {},
   "outputs": [],
   "source": [
    "# функцию для установки периодов будем использовать и для расчёта стоимости смс и интернета,\n",
    "# поэтому в датасете переименуем колонки\n",
    "calls_df = calls_df.rename({'call_date': 'date'}, axis=1)"
   ]
  },
  {
   "cell_type": "code",
   "execution_count": 35,
   "id": "c714bb96",
   "metadata": {},
   "outputs": [],
   "source": [
    "# мы убрали декабрьских пользователей из данных о пользователях - уберём их и из звонков\n",
    "calls_df = calls_df.query('user_id in @users_df.user_id')"
   ]
  },
  {
   "cell_type": "code",
   "execution_count": 36,
   "id": "a7a6a75b",
   "metadata": {},
   "outputs": [],
   "source": [
    "# функция, которая будет выставлять платежный период по дате регистрации и дате действия \n",
    "def set_pay_period(row):\n",
    "    reg = row.reg_date\n",
    "    action = row.date\n",
    "    if pay_periods_dict[reg].index.contains(action).any():\n",
    "        return pay_periods_dict[reg][action]\n",
    "    else:\n",
    "        return np.nan"
   ]
  },
  {
   "cell_type": "code",
   "execution_count": 37,
   "id": "f1f6c8f1",
   "metadata": {
    "scrolled": true
   },
   "outputs": [
    {
     "data": {
      "text/html": [
       "<div>\n",
       "<style scoped>\n",
       "    .dataframe tbody tr th:only-of-type {\n",
       "        vertical-align: middle;\n",
       "    }\n",
       "\n",
       "    .dataframe tbody tr th {\n",
       "        vertical-align: top;\n",
       "    }\n",
       "\n",
       "    .dataframe thead th {\n",
       "        text-align: right;\n",
       "    }\n",
       "</style>\n",
       "<table border=\"1\" class=\"dataframe\">\n",
       "  <thead>\n",
       "    <tr style=\"text-align: right;\">\n",
       "      <th></th>\n",
       "      <th>reg_date</th>\n",
       "      <th>date</th>\n",
       "      <th>pay_period</th>\n",
       "    </tr>\n",
       "  </thead>\n",
       "  <tbody>\n",
       "    <tr>\n",
       "      <th>0</th>\n",
       "      <td>2018-01-01</td>\n",
       "      <td>2018-01-01</td>\n",
       "      <td>1.00</td>\n",
       "    </tr>\n",
       "    <tr>\n",
       "      <th>1</th>\n",
       "      <td>2018-01-01</td>\n",
       "      <td>2018-01-02</td>\n",
       "      <td>1.00</td>\n",
       "    </tr>\n",
       "    <tr>\n",
       "      <th>2</th>\n",
       "      <td>2018-01-01</td>\n",
       "      <td>2018-01-03</td>\n",
       "      <td>1.00</td>\n",
       "    </tr>\n",
       "    <tr>\n",
       "      <th>3</th>\n",
       "      <td>2018-01-01</td>\n",
       "      <td>2018-01-04</td>\n",
       "      <td>1.00</td>\n",
       "    </tr>\n",
       "    <tr>\n",
       "      <th>4</th>\n",
       "      <td>2018-01-01</td>\n",
       "      <td>2018-01-05</td>\n",
       "      <td>1.00</td>\n",
       "    </tr>\n",
       "  </tbody>\n",
       "</table>\n",
       "</div>"
      ],
      "text/plain": [
       "    reg_date       date  pay_period\n",
       "0 2018-01-01 2018-01-01        1.00\n",
       "1 2018-01-01 2018-01-02        1.00\n",
       "2 2018-01-01 2018-01-03        1.00\n",
       "3 2018-01-01 2018-01-04        1.00\n",
       "4 2018-01-01 2018-01-05        1.00"
      ]
     },
     "execution_count": 37,
     "metadata": {},
     "output_type": "execute_result"
    }
   ],
   "source": [
    "# запускать функцию на все данные слишком медленно. \n",
    "# так что сначала выделим все уникальные сочетания даты регистрации и даты звонка\n",
    "# рассчитаем платежные периоды для этих сочетаний\n",
    "# и смержим эти данные с данными о звонках\n",
    "dates_periods = (calls_df\n",
    "                     .merge(users_df[['user_id', 'reg_date']],\n",
    "                            how='left',\n",
    "                            on='user_id')\n",
    "                     .groupby(['reg_date', 'date'])['duration']\n",
    "                     .agg('count')\n",
    "                     .reset_index()\n",
    "                     .drop('duration', axis=1)\n",
    "                    )\n",
    "\n",
    "dates_periods['pay_period'] = dates_periods.apply(set_pay_period, axis=1)\n",
    "dates_periods.head()"
   ]
  },
  {
   "cell_type": "code",
   "execution_count": 38,
   "id": "cd9aa315",
   "metadata": {},
   "outputs": [],
   "source": [
    "# теперь добавим платежные периоды ко всем звонкам\n",
    "calls_users = (calls_df.merge(users_df[['user_id', 'reg_date']],\n",
    "                                         how='left',\n",
    "                                         on='user_id'))\n",
    "calls_df = calls_users.merge(dates_periods, on=['reg_date', 'date'], how='left')"
   ]
  },
  {
   "cell_type": "markdown",
   "id": "8d749506",
   "metadata": {},
   "source": [
    "Теперь можно завести новый датасет, куда будем складывать все данные по стоимости разных услуг.\n",
    "\n",
    "Но сначала придётся забить один костыль (( - дело в том, что не все пользователи совершали звонки (отправляли смс, пользовались интернетом) – чтобы из-за таких пользователей не нарушились данные, придётся руками выставить им для соответствующих услуг нули. Это упражнение придётся проделывать и для смс, и для интернета.\n",
    "\n",
    "Это весьма костыльное решение, но ничего лучше не придумал. К сожалению, в пандасе при мердже нельзя указать значение, которым бы заполнялись отсутствующие данные."
   ]
  },
  {
   "cell_type": "code",
   "execution_count": 39,
   "id": "13a4f86f",
   "metadata": {},
   "outputs": [
    {
     "data": {
      "text/plain": [
       "[1473, 1091, 1231, 1328, 1489, 1106]"
      ]
     },
     "execution_count": 39,
     "metadata": {},
     "output_type": "execute_result"
    }
   ],
   "source": [
    "# найдем id пользователей, которые не совершали звонков\n",
    "users_with_calls = set((calls_df\n",
    "                        .pivot_table(index='user_id',\n",
    "                                     columns='pay_period',\n",
    "                                     values='duration',\n",
    "                                     aggfunc=['sum'])['sum'])\n",
    "                       .index)\n",
    "\n",
    "all_users = set(users_df.user_id)\n",
    "users_without_calls = list(all_users - users_with_calls)\n",
    "\n",
    "users_without_calls"
   ]
  },
  {
   "cell_type": "code",
   "execution_count": 40,
   "id": "b3ab811a",
   "metadata": {},
   "outputs": [
    {
     "data": {
      "text/html": [
       "<div>\n",
       "<style scoped>\n",
       "    .dataframe tbody tr th:only-of-type {\n",
       "        vertical-align: middle;\n",
       "    }\n",
       "\n",
       "    .dataframe tbody tr th {\n",
       "        vertical-align: top;\n",
       "    }\n",
       "\n",
       "    .dataframe thead th {\n",
       "        text-align: right;\n",
       "    }\n",
       "</style>\n",
       "<table border=\"1\" class=\"dataframe\">\n",
       "  <thead>\n",
       "    <tr style=\"text-align: right;\">\n",
       "      <th></th>\n",
       "      <th>1.00</th>\n",
       "      <th>2.00</th>\n",
       "      <th>3.00</th>\n",
       "      <th>4.00</th>\n",
       "      <th>5.00</th>\n",
       "      <th>6.00</th>\n",
       "      <th>7.00</th>\n",
       "      <th>8.00</th>\n",
       "      <th>9.00</th>\n",
       "      <th>10.00</th>\n",
       "      <th>11.00</th>\n",
       "      <th>12.00</th>\n",
       "    </tr>\n",
       "  </thead>\n",
       "  <tbody>\n",
       "    <tr>\n",
       "      <th>1473</th>\n",
       "      <td>0</td>\n",
       "      <td>0</td>\n",
       "      <td>0</td>\n",
       "      <td>0</td>\n",
       "      <td>0</td>\n",
       "      <td>0</td>\n",
       "      <td>0</td>\n",
       "      <td>0</td>\n",
       "      <td>0</td>\n",
       "      <td>0</td>\n",
       "      <td>0</td>\n",
       "      <td>0</td>\n",
       "    </tr>\n",
       "    <tr>\n",
       "      <th>1091</th>\n",
       "      <td>0</td>\n",
       "      <td>0</td>\n",
       "      <td>0</td>\n",
       "      <td>0</td>\n",
       "      <td>0</td>\n",
       "      <td>0</td>\n",
       "      <td>0</td>\n",
       "      <td>0</td>\n",
       "      <td>0</td>\n",
       "      <td>0</td>\n",
       "      <td>0</td>\n",
       "      <td>0</td>\n",
       "    </tr>\n",
       "    <tr>\n",
       "      <th>1231</th>\n",
       "      <td>0</td>\n",
       "      <td>0</td>\n",
       "      <td>0</td>\n",
       "      <td>0</td>\n",
       "      <td>0</td>\n",
       "      <td>0</td>\n",
       "      <td>0</td>\n",
       "      <td>0</td>\n",
       "      <td>0</td>\n",
       "      <td>0</td>\n",
       "      <td>0</td>\n",
       "      <td>0</td>\n",
       "    </tr>\n",
       "    <tr>\n",
       "      <th>1328</th>\n",
       "      <td>0</td>\n",
       "      <td>0</td>\n",
       "      <td>0</td>\n",
       "      <td>0</td>\n",
       "      <td>0</td>\n",
       "      <td>0</td>\n",
       "      <td>0</td>\n",
       "      <td>0</td>\n",
       "      <td>0</td>\n",
       "      <td>0</td>\n",
       "      <td>0</td>\n",
       "      <td>0</td>\n",
       "    </tr>\n",
       "    <tr>\n",
       "      <th>1489</th>\n",
       "      <td>0</td>\n",
       "      <td>0</td>\n",
       "      <td>0</td>\n",
       "      <td>0</td>\n",
       "      <td>0</td>\n",
       "      <td>0</td>\n",
       "      <td>0</td>\n",
       "      <td>0</td>\n",
       "      <td>0</td>\n",
       "      <td>0</td>\n",
       "      <td>0</td>\n",
       "      <td>0</td>\n",
       "    </tr>\n",
       "    <tr>\n",
       "      <th>1106</th>\n",
       "      <td>0</td>\n",
       "      <td>0</td>\n",
       "      <td>0</td>\n",
       "      <td>0</td>\n",
       "      <td>0</td>\n",
       "      <td>0</td>\n",
       "      <td>0</td>\n",
       "      <td>0</td>\n",
       "      <td>0</td>\n",
       "      <td>0</td>\n",
       "      <td>0</td>\n",
       "      <td>0</td>\n",
       "    </tr>\n",
       "  </tbody>\n",
       "</table>\n",
       "</div>"
      ],
      "text/plain": [
       "      1.00   2.00   3.00   4.00   5.00   6.00   7.00   8.00   9.00   10.00  \\\n",
       "1473      0      0      0      0      0      0      0      0      0      0   \n",
       "1091      0      0      0      0      0      0      0      0      0      0   \n",
       "1231      0      0      0      0      0      0      0      0      0      0   \n",
       "1328      0      0      0      0      0      0      0      0      0      0   \n",
       "1489      0      0      0      0      0      0      0      0      0      0   \n",
       "1106      0      0      0      0      0      0      0      0      0      0   \n",
       "\n",
       "      11.00  12.00  \n",
       "1473      0      0  \n",
       "1091      0      0  \n",
       "1231      0      0  \n",
       "1328      0      0  \n",
       "1489      0      0  \n",
       "1106      0      0  "
      ]
     },
     "execution_count": 40,
     "metadata": {},
     "output_type": "execute_result"
    }
   ],
   "source": [
    "# сделаем для них датасет c нулями\n",
    "users_zeroes = pd.DataFrame(data=[[0 for _ in range(12)] for _ in range(len(users_without_calls))],\n",
    "                          index=users_without_calls,\n",
    "                          columns=[float(x) for x in range(1, 13)])\n",
    "users_zeroes"
   ]
  },
  {
   "cell_type": "code",
   "execution_count": 41,
   "id": "fe25eb5b",
   "metadata": {
    "scrolled": true
   },
   "outputs": [
    {
     "data": {
      "text/html": [
       "<div>\n",
       "<style scoped>\n",
       "    .dataframe tbody tr th:only-of-type {\n",
       "        vertical-align: middle;\n",
       "    }\n",
       "\n",
       "    .dataframe tbody tr th {\n",
       "        vertical-align: top;\n",
       "    }\n",
       "\n",
       "    .dataframe thead th {\n",
       "        text-align: right;\n",
       "    }\n",
       "</style>\n",
       "<table border=\"1\" class=\"dataframe\">\n",
       "  <thead>\n",
       "    <tr style=\"text-align: right;\">\n",
       "      <th></th>\n",
       "      <th>1.0</th>\n",
       "      <th>2.0</th>\n",
       "      <th>3.0</th>\n",
       "      <th>4.0</th>\n",
       "      <th>5.0</th>\n",
       "      <th>6.0</th>\n",
       "      <th>7.0</th>\n",
       "      <th>8.0</th>\n",
       "      <th>9.0</th>\n",
       "      <th>10.0</th>\n",
       "      <th>11.0</th>\n",
       "      <th>12.0</th>\n",
       "      <th>user_id</th>\n",
       "      <th>tariff</th>\n",
       "    </tr>\n",
       "  </thead>\n",
       "  <tbody>\n",
       "    <tr>\n",
       "      <th>0</th>\n",
       "      <td>299.00</td>\n",
       "      <td>284.00</td>\n",
       "      <td>403.00</td>\n",
       "      <td>482.00</td>\n",
       "      <td>368.00</td>\n",
       "      <td>341.00</td>\n",
       "      <td>340.00</td>\n",
       "      <td>NaN</td>\n",
       "      <td>NaN</td>\n",
       "      <td>NaN</td>\n",
       "      <td>NaN</td>\n",
       "      <td>NaN</td>\n",
       "      <td>1000</td>\n",
       "      <td>ultra</td>\n",
       "    </tr>\n",
       "    <tr>\n",
       "      <th>1</th>\n",
       "      <td>430.00</td>\n",
       "      <td>414.00</td>\n",
       "      <td>NaN</td>\n",
       "      <td>NaN</td>\n",
       "      <td>NaN</td>\n",
       "      <td>NaN</td>\n",
       "      <td>NaN</td>\n",
       "      <td>NaN</td>\n",
       "      <td>NaN</td>\n",
       "      <td>NaN</td>\n",
       "      <td>NaN</td>\n",
       "      <td>NaN</td>\n",
       "      <td>1001</td>\n",
       "      <td>smart</td>\n",
       "    </tr>\n",
       "    <tr>\n",
       "      <th>2</th>\n",
       "      <td>220.00</td>\n",
       "      <td>262.00</td>\n",
       "      <td>227.00</td>\n",
       "      <td>191.00</td>\n",
       "      <td>219.00</td>\n",
       "      <td>300.00</td>\n",
       "      <td>NaN</td>\n",
       "      <td>NaN</td>\n",
       "      <td>NaN</td>\n",
       "      <td>NaN</td>\n",
       "      <td>NaN</td>\n",
       "      <td>NaN</td>\n",
       "      <td>1002</td>\n",
       "      <td>smart</td>\n",
       "    </tr>\n",
       "    <tr>\n",
       "      <th>3</th>\n",
       "      <td>938.00</td>\n",
       "      <td>851.00</td>\n",
       "      <td>806.00</td>\n",
       "      <td>922.00</td>\n",
       "      <td>NaN</td>\n",
       "      <td>NaN</td>\n",
       "      <td>NaN</td>\n",
       "      <td>NaN</td>\n",
       "      <td>NaN</td>\n",
       "      <td>NaN</td>\n",
       "      <td>NaN</td>\n",
       "      <td>NaN</td>\n",
       "      <td>1003</td>\n",
       "      <td>ultra</td>\n",
       "    </tr>\n",
       "    <tr>\n",
       "      <th>4</th>\n",
       "      <td>92.00</td>\n",
       "      <td>154.00</td>\n",
       "      <td>141.00</td>\n",
       "      <td>151.00</td>\n",
       "      <td>102.00</td>\n",
       "      <td>176.00</td>\n",
       "      <td>58.00</td>\n",
       "      <td>NaN</td>\n",
       "      <td>NaN</td>\n",
       "      <td>NaN</td>\n",
       "      <td>NaN</td>\n",
       "      <td>NaN</td>\n",
       "      <td>1004</td>\n",
       "      <td>ultra</td>\n",
       "    </tr>\n",
       "  </tbody>\n",
       "</table>\n",
       "</div>"
      ],
      "text/plain": [
       "     1.0    2.0    3.0    4.0    5.0    6.0    7.0  8.0  9.0  10.0  11.0  \\\n",
       "0 299.00 284.00 403.00 482.00 368.00 341.00 340.00  NaN  NaN   NaN   NaN   \n",
       "1 430.00 414.00    NaN    NaN    NaN    NaN    NaN  NaN  NaN   NaN   NaN   \n",
       "2 220.00 262.00 227.00 191.00 219.00 300.00    NaN  NaN  NaN   NaN   NaN   \n",
       "3 938.00 851.00 806.00 922.00    NaN    NaN    NaN  NaN  NaN   NaN   NaN   \n",
       "4  92.00 154.00 141.00 151.00 102.00 176.00  58.00  NaN  NaN   NaN   NaN   \n",
       "\n",
       "   12.0  user_id tariff  \n",
       "0   NaN     1000  ultra  \n",
       "1   NaN     1001  smart  \n",
       "2   NaN     1002  smart  \n",
       "3   NaN     1003  ultra  \n",
       "4   NaN     1004  ultra  "
      ]
     },
     "execution_count": 41,
     "metadata": {},
     "output_type": "execute_result"
    }
   ],
   "source": [
    "# теперь можно, наконец, сделать новый сет, в котором будем собирать данные\n",
    "\n",
    "# склеенные значения: пользователи со звонками и нулевые пользователи\n",
    "concatenated_calls = pd.concat([(calls_df\n",
    "                                 .pivot_table(index='user_id',\n",
    "                                              columns='pay_period',\n",
    "                                              values='duration',\n",
    "                                              aggfunc=['sum'])\n",
    "                                 ['sum']),\n",
    "                                users_zeroes\n",
    "                               ]\n",
    "                              )\n",
    "# добавим их в новый сет\n",
    "user_fees = (concatenated_calls\n",
    "             .merge(users_df[['user_id', 'tariff']],\n",
    "                    how='outer',\n",
    "                    left_index=True,\n",
    "                    right_on='user_id')\n",
    "            )\n",
    "\n",
    "user_fees.head()"
   ]
  },
  {
   "cell_type": "code",
   "execution_count": 42,
   "id": "6e117ee4",
   "metadata": {},
   "outputs": [
    {
     "data": {
      "text/html": [
       "<div>\n",
       "<style scoped>\n",
       "    .dataframe tbody tr th:only-of-type {\n",
       "        vertical-align: middle;\n",
       "    }\n",
       "\n",
       "    .dataframe tbody tr th {\n",
       "        vertical-align: top;\n",
       "    }\n",
       "\n",
       "    .dataframe thead th {\n",
       "        text-align: right;\n",
       "    }\n",
       "</style>\n",
       "<table border=\"1\" class=\"dataframe\">\n",
       "  <thead>\n",
       "    <tr style=\"text-align: right;\">\n",
       "      <th></th>\n",
       "      <th>user_id</th>\n",
       "      <th>tariff</th>\n",
       "      <th>calls_duration</th>\n",
       "    </tr>\n",
       "  </thead>\n",
       "  <tbody>\n",
       "    <tr>\n",
       "      <th>0</th>\n",
       "      <td>1000</td>\n",
       "      <td>ultra</td>\n",
       "      <td>[299.0, 284.0, 403.0, 482.0, 368.0, 341.0, 340...</td>\n",
       "    </tr>\n",
       "    <tr>\n",
       "      <th>1</th>\n",
       "      <td>1001</td>\n",
       "      <td>smart</td>\n",
       "      <td>[430.0, 414.0, nan, nan, nan, nan, nan, nan, n...</td>\n",
       "    </tr>\n",
       "    <tr>\n",
       "      <th>2</th>\n",
       "      <td>1002</td>\n",
       "      <td>smart</td>\n",
       "      <td>[220.0, 262.0, 227.0, 191.0, 219.0, 300.0, nan...</td>\n",
       "    </tr>\n",
       "    <tr>\n",
       "      <th>3</th>\n",
       "      <td>1003</td>\n",
       "      <td>ultra</td>\n",
       "      <td>[938.0, 851.0, 806.0, 922.0, nan, nan, nan, na...</td>\n",
       "    </tr>\n",
       "    <tr>\n",
       "      <th>4</th>\n",
       "      <td>1004</td>\n",
       "      <td>ultra</td>\n",
       "      <td>[92.0, 154.0, 141.0, 151.0, 102.0, 176.0, 58.0...</td>\n",
       "    </tr>\n",
       "  </tbody>\n",
       "</table>\n",
       "</div>"
      ],
      "text/plain": [
       "   user_id tariff                                     calls_duration\n",
       "0     1000  ultra  [299.0, 284.0, 403.0, 482.0, 368.0, 341.0, 340...\n",
       "1     1001  smart  [430.0, 414.0, nan, nan, nan, nan, nan, nan, n...\n",
       "2     1002  smart  [220.0, 262.0, 227.0, 191.0, 219.0, 300.0, nan...\n",
       "3     1003  ultra  [938.0, 851.0, 806.0, 922.0, nan, nan, nan, na...\n",
       "4     1004  ultra  [92.0, 154.0, 141.0, 151.0, 102.0, 176.0, 58.0..."
      ]
     },
     "execution_count": 42,
     "metadata": {},
     "output_type": "execute_result"
    }
   ],
   "source": [
    "# для удобства 12 колонок с суммами минут по периодам схлопнем в одну\n",
    "user_fees['calls_duration'] = user_fees.apply(lambda row: list(row.loc[1:12]), axis=1)\n",
    "user_fees = user_fees[['user_id', 'tariff', 'calls_duration']]\n",
    "\n",
    "user_fees.head()"
   ]
  },
  {
   "cell_type": "code",
   "execution_count": 43,
   "id": "79602aac",
   "metadata": {},
   "outputs": [],
   "source": [
    "# напишем функцию для расчёта стоимости звонков и интернета.\n",
    "# кроме строки датасета она принимает словарь с условиями тарифов\n",
    "# и название услуги, для которой мы считаем деньги.\n",
    "# колонки с количеством услуги в датасете должны называться\n",
    "# 'calls_duration', 'sms_duration' или 'web_duration'\n",
    "\n",
    "def calculate_fees(row, tariffs, service):\n",
    "    service_row = service + '_duration'\n",
    "    service_duration = row[service_row]\n",
    "    limit = tariffs[row.tariff]['limits'][service]\n",
    "    fee = tariffs[row.tariff]['fee'][service]\n",
    "    payment_list = []\n",
    "    \n",
    "    for duration in service_duration:\n",
    "        if np.isnan(duration):\n",
    "            payment_list.append(np.nan)\n",
    "        else:\n",
    "            if duration <= limit:\n",
    "                payment_list.append(0) \n",
    "            else:\n",
    "                payment_list.append((duration - limit) * fee)\n",
    "             \n",
    "    return np.array(payment_list)"
   ]
  },
  {
   "cell_type": "code",
   "execution_count": 44,
   "id": "b74f63e8",
   "metadata": {},
   "outputs": [],
   "source": [
    "# добавим колонку со стоимостью звонков\n",
    "user_fees['calls_fees'] = user_fees.apply(calculate_fees, args=[TARIFF, 'calls'], axis=1)"
   ]
  },
  {
   "cell_type": "code",
   "execution_count": 45,
   "id": "a2810147",
   "metadata": {
    "scrolled": true
   },
   "outputs": [
    {
     "data": {
      "text/html": [
       "<div>\n",
       "<style scoped>\n",
       "    .dataframe tbody tr th:only-of-type {\n",
       "        vertical-align: middle;\n",
       "    }\n",
       "\n",
       "    .dataframe tbody tr th {\n",
       "        vertical-align: top;\n",
       "    }\n",
       "\n",
       "    .dataframe thead th {\n",
       "        text-align: right;\n",
       "    }\n",
       "</style>\n",
       "<table border=\"1\" class=\"dataframe\">\n",
       "  <thead>\n",
       "    <tr style=\"text-align: right;\">\n",
       "      <th></th>\n",
       "      <th>user_id</th>\n",
       "      <th>tariff</th>\n",
       "      <th>calls_duration</th>\n",
       "      <th>calls_fees</th>\n",
       "    </tr>\n",
       "  </thead>\n",
       "  <tbody>\n",
       "    <tr>\n",
       "      <th>0</th>\n",
       "      <td>1000</td>\n",
       "      <td>ultra</td>\n",
       "      <td>[299.0, 284.0, 403.0, 482.0, 368.0, 341.0, 340...</td>\n",
       "      <td>[0.0, 0.0, 0.0, 0.0, 0.0, 0.0, 0.0, nan, nan, ...</td>\n",
       "    </tr>\n",
       "    <tr>\n",
       "      <th>1</th>\n",
       "      <td>1001</td>\n",
       "      <td>smart</td>\n",
       "      <td>[430.0, 414.0, nan, nan, nan, nan, nan, nan, n...</td>\n",
       "      <td>[0.0, 0.0, nan, nan, nan, nan, nan, nan, nan, ...</td>\n",
       "    </tr>\n",
       "    <tr>\n",
       "      <th>2</th>\n",
       "      <td>1002</td>\n",
       "      <td>smart</td>\n",
       "      <td>[220.0, 262.0, 227.0, 191.0, 219.0, 300.0, nan...</td>\n",
       "      <td>[0.0, 0.0, 0.0, 0.0, 0.0, 0.0, nan, nan, nan, ...</td>\n",
       "    </tr>\n",
       "    <tr>\n",
       "      <th>3</th>\n",
       "      <td>1003</td>\n",
       "      <td>ultra</td>\n",
       "      <td>[938.0, 851.0, 806.0, 922.0, nan, nan, nan, na...</td>\n",
       "      <td>[0.0, 0.0, 0.0, 0.0, nan, nan, nan, nan, nan, ...</td>\n",
       "    </tr>\n",
       "    <tr>\n",
       "      <th>4</th>\n",
       "      <td>1004</td>\n",
       "      <td>ultra</td>\n",
       "      <td>[92.0, 154.0, 141.0, 151.0, 102.0, 176.0, 58.0...</td>\n",
       "      <td>[0.0, 0.0, 0.0, 0.0, 0.0, 0.0, 0.0, nan, nan, ...</td>\n",
       "    </tr>\n",
       "  </tbody>\n",
       "</table>\n",
       "</div>"
      ],
      "text/plain": [
       "   user_id tariff                                     calls_duration  \\\n",
       "0     1000  ultra  [299.0, 284.0, 403.0, 482.0, 368.0, 341.0, 340...   \n",
       "1     1001  smart  [430.0, 414.0, nan, nan, nan, nan, nan, nan, n...   \n",
       "2     1002  smart  [220.0, 262.0, 227.0, 191.0, 219.0, 300.0, nan...   \n",
       "3     1003  ultra  [938.0, 851.0, 806.0, 922.0, nan, nan, nan, na...   \n",
       "4     1004  ultra  [92.0, 154.0, 141.0, 151.0, 102.0, 176.0, 58.0...   \n",
       "\n",
       "                                          calls_fees  \n",
       "0  [0.0, 0.0, 0.0, 0.0, 0.0, 0.0, 0.0, nan, nan, ...  \n",
       "1  [0.0, 0.0, nan, nan, nan, nan, nan, nan, nan, ...  \n",
       "2  [0.0, 0.0, 0.0, 0.0, 0.0, 0.0, nan, nan, nan, ...  \n",
       "3  [0.0, 0.0, 0.0, 0.0, nan, nan, nan, nan, nan, ...  \n",
       "4  [0.0, 0.0, 0.0, 0.0, 0.0, 0.0, 0.0, nan, nan, ...  "
      ]
     },
     "execution_count": 45,
     "metadata": {},
     "output_type": "execute_result"
    }
   ],
   "source": [
    "# посмотрим, что получилось\n",
    "user_fees.head()"
   ]
  },
  {
   "cell_type": "markdown",
   "id": "211a94e5",
   "metadata": {},
   "source": [
    "### СМС\n",
    "\n",
    "Проверим, что всё ок, и посчитаем стоимость."
   ]
  },
  {
   "cell_type": "code",
   "execution_count": 46,
   "id": "6ea971ac",
   "metadata": {},
   "outputs": [],
   "source": [
    "sms_df = pd.read_csv(MESSAGES, parse_dates=[1])"
   ]
  },
  {
   "cell_type": "code",
   "execution_count": 47,
   "id": "c046d19b",
   "metadata": {},
   "outputs": [
    {
     "name": "stdout",
     "output_type": "stream",
     "text": [
      "<class 'pandas.core.frame.DataFrame'>\n",
      "RangeIndex: 123036 entries, 0 to 123035\n",
      "Data columns (total 3 columns):\n",
      " #   Column        Non-Null Count   Dtype         \n",
      "---  ------        --------------   -----         \n",
      " 0   id            123036 non-null  object        \n",
      " 1   message_date  123036 non-null  datetime64[ns]\n",
      " 2   user_id       123036 non-null  int64         \n",
      "dtypes: datetime64[ns](1), int64(1), object(1)\n",
      "memory usage: 2.8+ MB\n"
     ]
    }
   ],
   "source": [
    "sms_df.info()"
   ]
  },
  {
   "cell_type": "code",
   "execution_count": 48,
   "id": "02795940",
   "metadata": {
    "scrolled": true
   },
   "outputs": [
    {
     "name": "stdout",
     "output_type": "stream",
     "text": [
      "Количество дубликатов – 0\n"
     ]
    }
   ],
   "source": [
    "print(f'Количество дубликатов – {sms_df.duplicated().sum()}')"
   ]
  },
  {
   "cell_type": "code",
   "execution_count": 49,
   "id": "de9801a4",
   "metadata": {
    "scrolled": true
   },
   "outputs": [
    {
     "data": {
      "text/plain": [
       "count                           123036\n",
       "mean     2018-09-04 15:28:42.227640576\n",
       "min                2018-01-02 00:00:00\n",
       "25%                2018-07-09 00:00:00\n",
       "50%                2018-09-20 00:00:00\n",
       "75%                2018-11-14 00:00:00\n",
       "max                2018-12-31 00:00:00\n",
       "Name: message_date, dtype: object"
      ]
     },
     "execution_count": 49,
     "metadata": {},
     "output_type": "execute_result"
    }
   ],
   "source": [
    "# проверим диапазон дат\n",
    "sms_df.message_date.describe(datetime_is_numeric=True)"
   ]
  },
  {
   "cell_type": "code",
   "execution_count": 50,
   "id": "d15c18ff",
   "metadata": {},
   "outputs": [
    {
     "data": {
      "image/png": "[encoded data removed]",
      "text/plain": [
       "<Figure size 720x432 with 1 Axes>"
      ]
     },
     "metadata": {
      "needs_background": "light"
     },
     "output_type": "display_data"
    }
   ],
   "source": [
    "# построим диаграмму количества смсок по неделям\n",
    "fig, ax = plt.subplots()\n",
    "\n",
    "(sms_df.pivot_table(index=sms_df['message_date'].dt.isocalendar().week,\n",
    "                      values='user_id',\n",
    "                      aggfunc='count')\n",
    " .plot(kind='bar', ax=ax)\n",
    ")\n",
    "\n",
    "ax.yaxis.set_major_locator(MultipleLocator(1000))\n",
    "ax.yaxis.set_minor_locator(AutoMinorLocator(2))\n",
    "ax.xaxis.set_major_locator(MultipleLocator(4))\n",
    "ax.grid(which='major', color='#CCCCCC', linestyle='--')\n",
    "ax.grid(which='minor', color='#CCCCCC', linestyle=':')\n",
    "plt.setp(ax.get_xticklabels(), rotation=0)\n",
    "\n",
    "# ax.legend(['Звонки с нулевой длительностью', 'Обычные звонки'])\n",
    "ax.set_xlabel('Номер недели')\n",
    "ax.set_ylabel('Количество SMS-сообщений')\n",
    "ax.set_title('Распределение SMS-сообщений в течение года')\n",
    "\n",
    "plt.show()"
   ]
  },
  {
   "cell_type": "code",
   "execution_count": 51,
   "id": "4c2d5870",
   "metadata": {},
   "outputs": [
    {
     "data": {
      "image/png": "[encoded data removed]",
      "text/plain": [
       "<Figure size 720x432 with 1 Axes>"
      ]
     },
     "metadata": {
      "needs_background": "light"
     },
     "output_type": "display_data"
    }
   ],
   "source": [
    "# из-за того, что количество абонентов у нас растёт с начала года, распределение странное. \n",
    "# нормируем на количество абонентов. \n",
    "\n",
    "fig, ax = plt.subplots()\n",
    "\n",
    "unique_users = sms_df.pivot_table(index=sms_df['message_date'].dt.isocalendar().week,\n",
    "                      values='user_id',\n",
    "                      aggfunc=lambda x: x.nunique())\n",
    "\n",
    "sms_count = sms_df.pivot_table(index=sms_df['message_date'].dt.isocalendar().week,\n",
    "                      values='id',\n",
    "                      aggfunc=\"count\")\n",
    "\n",
    "(sms_count.id / unique_users.user_id).plot(kind='line', ax=ax)\n",
    "\n",
    "ax.yaxis.set_major_locator(MultipleLocator(5))\n",
    "ax.yaxis.set_minor_locator(AutoMinorLocator(5))\n",
    "ax.xaxis.set_major_locator(MultipleLocator(4))\n",
    "ax.grid(which='major', color='#CCCCCC', linestyle='--')\n",
    "ax.grid(which='minor', color='#CCCCCC', linestyle=':')\n",
    "plt.setp(ax.get_xticklabels(), rotation=0)\n",
    "\n",
    "# ax.legend(['Звонки с нулевой длительностью', 'Обычные звонки'])\n",
    "ax.set_ylim(0, 15)\n",
    "ax.set_xlabel('Номер недели')\n",
    "ax.set_ylabel('Количество смс в неделю')\n",
    "ax.set_title('Среднее количество SMS-сообщений в неделю на одного абонента')\n",
    "\n",
    "plt.show()"
   ]
  },
  {
   "cell_type": "markdown",
   "id": "6f61ba38",
   "metadata": {},
   "source": [
    "Ну, в целом с данными всё ок. Есть какая-то болтанка в начале года – там наверно мало данных. И почему-то незначительный рост среднего количества смс – вероятно, объясняется увеличением среднего стажа абонентов к концу года. Ну это всё мелочи.\n",
    "\n",
    "Теперь посчитаем стоимость смс и добавим их в наш датасет."
   ]
  },
  {
   "cell_type": "code",
   "execution_count": 52,
   "id": "2322f49f",
   "metadata": {},
   "outputs": [],
   "source": [
    "# переименуем колонку с датами, чтобы наша функция сработала,\n",
    "# и уберём декабрьских пользователей\n",
    "sms_df = sms_df.rename({'message_date': 'date'}, axis=1)\n",
    "sms_df = sms_df.query('user_id in @users_df.user_id')"
   ]
  },
  {
   "cell_type": "code",
   "execution_count": 53,
   "id": "8931dd55",
   "metadata": {},
   "outputs": [
    {
     "data": {
      "text/html": [
       "<div>\n",
       "<style scoped>\n",
       "    .dataframe tbody tr th:only-of-type {\n",
       "        vertical-align: middle;\n",
       "    }\n",
       "\n",
       "    .dataframe tbody tr th {\n",
       "        vertical-align: top;\n",
       "    }\n",
       "\n",
       "    .dataframe thead th {\n",
       "        text-align: right;\n",
       "    }\n",
       "</style>\n",
       "<table border=\"1\" class=\"dataframe\">\n",
       "  <thead>\n",
       "    <tr style=\"text-align: right;\">\n",
       "      <th></th>\n",
       "      <th>id</th>\n",
       "      <th>date</th>\n",
       "      <th>user_id</th>\n",
       "      <th>reg_date</th>\n",
       "      <th>pay_period</th>\n",
       "    </tr>\n",
       "  </thead>\n",
       "  <tbody>\n",
       "    <tr>\n",
       "      <th>0</th>\n",
       "      <td>1000_0</td>\n",
       "      <td>2018-06-27</td>\n",
       "      <td>1000</td>\n",
       "      <td>2018-05-25</td>\n",
       "      <td>2.00</td>\n",
       "    </tr>\n",
       "    <tr>\n",
       "      <th>1</th>\n",
       "      <td>1000_1</td>\n",
       "      <td>2018-10-08</td>\n",
       "      <td>1000</td>\n",
       "      <td>2018-05-25</td>\n",
       "      <td>5.00</td>\n",
       "    </tr>\n",
       "    <tr>\n",
       "      <th>2</th>\n",
       "      <td>1000_2</td>\n",
       "      <td>2018-08-04</td>\n",
       "      <td>1000</td>\n",
       "      <td>2018-05-25</td>\n",
       "      <td>3.00</td>\n",
       "    </tr>\n",
       "    <tr>\n",
       "      <th>3</th>\n",
       "      <td>1000_3</td>\n",
       "      <td>2018-06-16</td>\n",
       "      <td>1000</td>\n",
       "      <td>2018-05-25</td>\n",
       "      <td>1.00</td>\n",
       "    </tr>\n",
       "    <tr>\n",
       "      <th>4</th>\n",
       "      <td>1000_4</td>\n",
       "      <td>2018-12-05</td>\n",
       "      <td>1000</td>\n",
       "      <td>2018-05-25</td>\n",
       "      <td>7.00</td>\n",
       "    </tr>\n",
       "  </tbody>\n",
       "</table>\n",
       "</div>"
      ],
      "text/plain": [
       "       id       date  user_id   reg_date  pay_period\n",
       "0  1000_0 2018-06-27     1000 2018-05-25        2.00\n",
       "1  1000_1 2018-10-08     1000 2018-05-25        5.00\n",
       "2  1000_2 2018-08-04     1000 2018-05-25        3.00\n",
       "3  1000_3 2018-06-16     1000 2018-05-25        1.00\n",
       "4  1000_4 2018-12-05     1000 2018-05-25        7.00"
      ]
     },
     "execution_count": 53,
     "metadata": {},
     "output_type": "execute_result"
    }
   ],
   "source": [
    "# выделим уникальные сочетания регистрация-дата для смс.\n",
    "# посчитаем платёжные периоды и выставим их смскам.\n",
    "dates_periods = (sms_df\n",
    "                     .merge(users_df[['user_id', 'reg_date']],\n",
    "                            how='left',\n",
    "                            on='user_id')\n",
    "                     .groupby(['reg_date', 'date'])['id']\n",
    "                     .agg('count')\n",
    "                     .reset_index()\n",
    "                     .drop('id', axis=1)\n",
    "                    )\n",
    "\n",
    "dates_periods['pay_period'] = dates_periods.apply(set_pay_period, axis=1)\n",
    "\n",
    "sms_df = (sms_df\n",
    "          .merge(users_df[['user_id', 'reg_date']],\n",
    "                 how='left',\n",
    "                 on='user_id')\n",
    "          .merge(dates_periods,\n",
    "                 on=['reg_date', 'date'],\n",
    "                 how='left')\n",
    "         )\n",
    "\n",
    "sms_df.head()"
   ]
  },
  {
   "cell_type": "code",
   "execution_count": 54,
   "id": "37576a90",
   "metadata": {
    "scrolled": true
   },
   "outputs": [
    {
     "data": {
      "text/plain": [
       "[1024,\n",
       " 1152,\n",
       " 1153,\n",
       " 1157,\n",
       " 1162,\n",
       " 1290,\n",
       " 1291,\n",
       " 1292,\n",
       " 1040,\n",
       " 1428,\n",
       " 1301,\n",
       " 1429,\n",
       " 1175,\n",
       " 1049,\n",
       " 1177,\n",
       " 1179,\n",
       " 1305,\n",
       " 1053,\n",
       " 1306,\n",
       " 1435,\n",
       " 1185,\n",
       " 1442,\n",
       " 1063,\n",
       " 1322,\n",
       " 1195,\n",
       " 1456,\n",
       " 1201,\n",
       " 1204,\n",
       " 1078,\n",
       " 1334,\n",
       " 1208,\n",
       " 1462,\n",
       " 1210,\n",
       " 1339,\n",
       " 1466,\n",
       " 1085,\n",
       " 1469,\n",
       " 1220,\n",
       " 1479,\n",
       " 1224,\n",
       " 1225,\n",
       " 1228,\n",
       " 1101,\n",
       " 1360,\n",
       " 1107,\n",
       " 1363,\n",
       " 1494,\n",
       " 1367,\n",
       " 1240,\n",
       " 1114,\n",
       " 1242,\n",
       " 1116,\n",
       " 1370,\n",
       " 1118,\n",
       " 1120,\n",
       " 1248,\n",
       " 1376,\n",
       " 1254,\n",
       " 1255,\n",
       " 1001,\n",
       " 1132,\n",
       " 1260,\n",
       " 1006,\n",
       " 1388,\n",
       " 1010,\n",
       " 1143,\n",
       " 1017]"
      ]
     },
     "execution_count": 54,
     "metadata": {},
     "output_type": "execute_result"
    }
   ],
   "source": [
    "# найдем id пользователей, у которых не было смсок\n",
    "users_with_sms = set((sms_df\n",
    "                        .pivot_table(index='user_id',\n",
    "                                     columns='pay_period',\n",
    "                                     values='id',\n",
    "                                     aggfunc=['count'])['count'])\n",
    "                       .index)\n",
    "\n",
    "all_users = set(users_df.user_id)\n",
    "users_without_sms = list(all_users - users_with_sms)\n",
    "\n",
    "users_without_sms"
   ]
  },
  {
   "cell_type": "code",
   "execution_count": 55,
   "id": "eca2146b",
   "metadata": {
    "scrolled": true
   },
   "outputs": [
    {
     "data": {
      "text/html": [
       "<div>\n",
       "<style scoped>\n",
       "    .dataframe tbody tr th:only-of-type {\n",
       "        vertical-align: middle;\n",
       "    }\n",
       "\n",
       "    .dataframe tbody tr th {\n",
       "        vertical-align: top;\n",
       "    }\n",
       "\n",
       "    .dataframe thead th {\n",
       "        text-align: right;\n",
       "    }\n",
       "</style>\n",
       "<table border=\"1\" class=\"dataframe\">\n",
       "  <thead>\n",
       "    <tr style=\"text-align: right;\">\n",
       "      <th></th>\n",
       "      <th>1.00</th>\n",
       "      <th>2.00</th>\n",
       "      <th>3.00</th>\n",
       "      <th>4.00</th>\n",
       "      <th>5.00</th>\n",
       "      <th>6.00</th>\n",
       "      <th>7.00</th>\n",
       "      <th>8.00</th>\n",
       "      <th>9.00</th>\n",
       "      <th>10.00</th>\n",
       "      <th>11.00</th>\n",
       "      <th>12.00</th>\n",
       "    </tr>\n",
       "  </thead>\n",
       "  <tbody>\n",
       "    <tr>\n",
       "      <th>1024</th>\n",
       "      <td>0</td>\n",
       "      <td>0</td>\n",
       "      <td>0</td>\n",
       "      <td>0</td>\n",
       "      <td>0</td>\n",
       "      <td>0</td>\n",
       "      <td>0</td>\n",
       "      <td>0</td>\n",
       "      <td>0</td>\n",
       "      <td>0</td>\n",
       "      <td>0</td>\n",
       "      <td>0</td>\n",
       "    </tr>\n",
       "    <tr>\n",
       "      <th>1152</th>\n",
       "      <td>0</td>\n",
       "      <td>0</td>\n",
       "      <td>0</td>\n",
       "      <td>0</td>\n",
       "      <td>0</td>\n",
       "      <td>0</td>\n",
       "      <td>0</td>\n",
       "      <td>0</td>\n",
       "      <td>0</td>\n",
       "      <td>0</td>\n",
       "      <td>0</td>\n",
       "      <td>0</td>\n",
       "    </tr>\n",
       "    <tr>\n",
       "      <th>1153</th>\n",
       "      <td>0</td>\n",
       "      <td>0</td>\n",
       "      <td>0</td>\n",
       "      <td>0</td>\n",
       "      <td>0</td>\n",
       "      <td>0</td>\n",
       "      <td>0</td>\n",
       "      <td>0</td>\n",
       "      <td>0</td>\n",
       "      <td>0</td>\n",
       "      <td>0</td>\n",
       "      <td>0</td>\n",
       "    </tr>\n",
       "    <tr>\n",
       "      <th>1157</th>\n",
       "      <td>0</td>\n",
       "      <td>0</td>\n",
       "      <td>0</td>\n",
       "      <td>0</td>\n",
       "      <td>0</td>\n",
       "      <td>0</td>\n",
       "      <td>0</td>\n",
       "      <td>0</td>\n",
       "      <td>0</td>\n",
       "      <td>0</td>\n",
       "      <td>0</td>\n",
       "      <td>0</td>\n",
       "    </tr>\n",
       "    <tr>\n",
       "      <th>1162</th>\n",
       "      <td>0</td>\n",
       "      <td>0</td>\n",
       "      <td>0</td>\n",
       "      <td>0</td>\n",
       "      <td>0</td>\n",
       "      <td>0</td>\n",
       "      <td>0</td>\n",
       "      <td>0</td>\n",
       "      <td>0</td>\n",
       "      <td>0</td>\n",
       "      <td>0</td>\n",
       "      <td>0</td>\n",
       "    </tr>\n",
       "  </tbody>\n",
       "</table>\n",
       "</div>"
      ],
      "text/plain": [
       "      1.00   2.00   3.00   4.00   5.00   6.00   7.00   8.00   9.00   10.00  \\\n",
       "1024      0      0      0      0      0      0      0      0      0      0   \n",
       "1152      0      0      0      0      0      0      0      0      0      0   \n",
       "1153      0      0      0      0      0      0      0      0      0      0   \n",
       "1157      0      0      0      0      0      0      0      0      0      0   \n",
       "1162      0      0      0      0      0      0      0      0      0      0   \n",
       "\n",
       "      11.00  12.00  \n",
       "1024      0      0  \n",
       "1152      0      0  \n",
       "1153      0      0  \n",
       "1157      0      0  \n",
       "1162      0      0  "
      ]
     },
     "execution_count": 55,
     "metadata": {},
     "output_type": "execute_result"
    }
   ],
   "source": [
    "# сделаем для них датасет c нулями\n",
    "users_zeroes = pd.DataFrame(data=[[0 for _ in range(12)] for _ in range(len(users_without_sms))],\n",
    "                          index=users_without_sms,\n",
    "                          columns=[float(x) for x in range(1, 13)])\n",
    "users_zeroes.head()"
   ]
  },
  {
   "cell_type": "code",
   "execution_count": 56,
   "id": "0b9cc688",
   "metadata": {},
   "outputs": [
    {
     "data": {
      "text/html": [
       "<div>\n",
       "<style scoped>\n",
       "    .dataframe tbody tr th:only-of-type {\n",
       "        vertical-align: middle;\n",
       "    }\n",
       "\n",
       "    .dataframe tbody tr th {\n",
       "        vertical-align: top;\n",
       "    }\n",
       "\n",
       "    .dataframe thead th {\n",
       "        text-align: right;\n",
       "    }\n",
       "</style>\n",
       "<table border=\"1\" class=\"dataframe\">\n",
       "  <thead>\n",
       "    <tr style=\"text-align: right;\">\n",
       "      <th></th>\n",
       "      <th>user_id</th>\n",
       "      <th>tariff</th>\n",
       "      <th>calls_duration</th>\n",
       "      <th>calls_fees</th>\n",
       "      <th>sms_duration</th>\n",
       "    </tr>\n",
       "  </thead>\n",
       "  <tbody>\n",
       "    <tr>\n",
       "      <th>0</th>\n",
       "      <td>1000</td>\n",
       "      <td>ultra</td>\n",
       "      <td>[299.0, 284.0, 403.0, 482.0, 368.0, 341.0, 340...</td>\n",
       "      <td>[0.0, 0.0, 0.0, 0.0, 0.0, 0.0, 0.0, nan, nan, ...</td>\n",
       "      <td>[63.0, 70.0, 81.0, 74.0, 56.0, 70.0, 69.0, nan...</td>\n",
       "    </tr>\n",
       "    <tr>\n",
       "      <th>2</th>\n",
       "      <td>1002</td>\n",
       "      <td>smart</td>\n",
       "      <td>[220.0, 262.0, 227.0, 191.0, 219.0, 300.0, nan...</td>\n",
       "      <td>[0.0, 0.0, 0.0, 0.0, 0.0, 0.0, nan, nan, nan, ...</td>\n",
       "      <td>[8.0, 14.0, 8.0, 6.0, 13.0, 17.0, nan, nan, na...</td>\n",
       "    </tr>\n",
       "    <tr>\n",
       "      <th>3</th>\n",
       "      <td>1003</td>\n",
       "      <td>ultra</td>\n",
       "      <td>[938.0, 851.0, 806.0, 922.0, nan, nan, nan, na...</td>\n",
       "      <td>[0.0, 0.0, 0.0, 0.0, nan, nan, nan, nan, nan, ...</td>\n",
       "      <td>[81.0, 95.0, 85.0, 82.0, nan, nan, nan, nan, n...</td>\n",
       "    </tr>\n",
       "    <tr>\n",
       "      <th>4</th>\n",
       "      <td>1004</td>\n",
       "      <td>ultra</td>\n",
       "      <td>[92.0, 154.0, 141.0, 151.0, 102.0, 176.0, 58.0...</td>\n",
       "      <td>[0.0, 0.0, 0.0, 0.0, 0.0, 0.0, 0.0, nan, nan, ...</td>\n",
       "      <td>[154.0, 155.0, 163.0, 160.0, 141.0, 165.0, 170...</td>\n",
       "    </tr>\n",
       "    <tr>\n",
       "      <th>5</th>\n",
       "      <td>1005</td>\n",
       "      <td>smart</td>\n",
       "      <td>[519.0, 477.0, 763.0, 538.0, 635.0, 584.0, 608...</td>\n",
       "      <td>[57.0, 0.0, 789.0, 114.0, 405.0, 252.0, 324.0,...</td>\n",
       "      <td>[40.0, 48.0, 48.0, 42.0, 42.0, 53.0, 55.0, 62....</td>\n",
       "    </tr>\n",
       "  </tbody>\n",
       "</table>\n",
       "</div>"
      ],
      "text/plain": [
       "   user_id tariff                                     calls_duration  \\\n",
       "0     1000  ultra  [299.0, 284.0, 403.0, 482.0, 368.0, 341.0, 340...   \n",
       "2     1002  smart  [220.0, 262.0, 227.0, 191.0, 219.0, 300.0, nan...   \n",
       "3     1003  ultra  [938.0, 851.0, 806.0, 922.0, nan, nan, nan, na...   \n",
       "4     1004  ultra  [92.0, 154.0, 141.0, 151.0, 102.0, 176.0, 58.0...   \n",
       "5     1005  smart  [519.0, 477.0, 763.0, 538.0, 635.0, 584.0, 608...   \n",
       "\n",
       "                                          calls_fees  \\\n",
       "0  [0.0, 0.0, 0.0, 0.0, 0.0, 0.0, 0.0, nan, nan, ...   \n",
       "2  [0.0, 0.0, 0.0, 0.0, 0.0, 0.0, nan, nan, nan, ...   \n",
       "3  [0.0, 0.0, 0.0, 0.0, nan, nan, nan, nan, nan, ...   \n",
       "4  [0.0, 0.0, 0.0, 0.0, 0.0, 0.0, 0.0, nan, nan, ...   \n",
       "5  [57.0, 0.0, 789.0, 114.0, 405.0, 252.0, 324.0,...   \n",
       "\n",
       "                                        sms_duration  \n",
       "0  [63.0, 70.0, 81.0, 74.0, 56.0, 70.0, 69.0, nan...  \n",
       "2  [8.0, 14.0, 8.0, 6.0, 13.0, 17.0, nan, nan, na...  \n",
       "3  [81.0, 95.0, 85.0, 82.0, nan, nan, nan, nan, n...  \n",
       "4  [154.0, 155.0, 163.0, 160.0, 141.0, 165.0, 170...  \n",
       "5  [40.0, 48.0, 48.0, 42.0, 42.0, 53.0, 55.0, 62....  "
      ]
     },
     "execution_count": 56,
     "metadata": {},
     "output_type": "execute_result"
    }
   ],
   "source": [
    "# склеим нулевых и обычных пользователей,\n",
    "# добавим всё в итоговый датасет\n",
    "concatenated_sms = pd.concat([(sms_df.pivot_table(index='user_id',\n",
    "                                              columns='pay_period',\n",
    "                                              values='id',\n",
    "                                              aggfunc='count')),\n",
    "                                users_zeroes]\n",
    "                              )\n",
    "\n",
    "user_fees = concatenated_sms.merge(user_fees,\n",
    "                                   left_index=True,\n",
    "                                   right_on='user_id',\n",
    "                                   how='outer')\n",
    "\n",
    "# 12 колонок с суммами смс по периодам схлопнем в одну\n",
    "user_fees['sms_duration'] = user_fees.apply(lambda row: list(row.loc[1:12]), axis=1)\n",
    "user_fees = user_fees[['user_id', 'tariff', 'calls_duration', 'calls_fees', 'sms_duration']]\n",
    "\n",
    "user_fees.head()"
   ]
  },
  {
   "cell_type": "code",
   "execution_count": 57,
   "id": "5bac52df",
   "metadata": {},
   "outputs": [],
   "source": [
    "# посчитаем стоимость смс\n",
    "user_fees['sms_fees'] = user_fees.apply(calculate_fees, args=[TARIFF, 'sms'], axis=1)"
   ]
  },
  {
   "cell_type": "code",
   "execution_count": 58,
   "id": "0305b846",
   "metadata": {},
   "outputs": [
    {
     "data": {
      "text/html": [
       "<div>\n",
       "<style scoped>\n",
       "    .dataframe tbody tr th:only-of-type {\n",
       "        vertical-align: middle;\n",
       "    }\n",
       "\n",
       "    .dataframe tbody tr th {\n",
       "        vertical-align: top;\n",
       "    }\n",
       "\n",
       "    .dataframe thead th {\n",
       "        text-align: right;\n",
       "    }\n",
       "</style>\n",
       "<table border=\"1\" class=\"dataframe\">\n",
       "  <thead>\n",
       "    <tr style=\"text-align: right;\">\n",
       "      <th></th>\n",
       "      <th>user_id</th>\n",
       "      <th>tariff</th>\n",
       "      <th>calls_duration</th>\n",
       "      <th>calls_fees</th>\n",
       "      <th>sms_duration</th>\n",
       "      <th>sms_fees</th>\n",
       "    </tr>\n",
       "  </thead>\n",
       "  <tbody>\n",
       "    <tr>\n",
       "      <th>0</th>\n",
       "      <td>1000</td>\n",
       "      <td>ultra</td>\n",
       "      <td>[299.0, 284.0, 403.0, 482.0, 368.0, 341.0, 340...</td>\n",
       "      <td>[0.0, 0.0, 0.0, 0.0, 0.0, 0.0, 0.0, nan, nan, ...</td>\n",
       "      <td>[63.0, 70.0, 81.0, 74.0, 56.0, 70.0, 69.0, nan...</td>\n",
       "      <td>[0.0, 0.0, 0.0, 0.0, 0.0, 0.0, 0.0, nan, nan, ...</td>\n",
       "    </tr>\n",
       "    <tr>\n",
       "      <th>2</th>\n",
       "      <td>1002</td>\n",
       "      <td>smart</td>\n",
       "      <td>[220.0, 262.0, 227.0, 191.0, 219.0, 300.0, nan...</td>\n",
       "      <td>[0.0, 0.0, 0.0, 0.0, 0.0, 0.0, nan, nan, nan, ...</td>\n",
       "      <td>[8.0, 14.0, 8.0, 6.0, 13.0, 17.0, nan, nan, na...</td>\n",
       "      <td>[0.0, 0.0, 0.0, 0.0, 0.0, 0.0, nan, nan, nan, ...</td>\n",
       "    </tr>\n",
       "    <tr>\n",
       "      <th>3</th>\n",
       "      <td>1003</td>\n",
       "      <td>ultra</td>\n",
       "      <td>[938.0, 851.0, 806.0, 922.0, nan, nan, nan, na...</td>\n",
       "      <td>[0.0, 0.0, 0.0, 0.0, nan, nan, nan, nan, nan, ...</td>\n",
       "      <td>[81.0, 95.0, 85.0, 82.0, nan, nan, nan, nan, n...</td>\n",
       "      <td>[0.0, 0.0, 0.0, 0.0, nan, nan, nan, nan, nan, ...</td>\n",
       "    </tr>\n",
       "    <tr>\n",
       "      <th>4</th>\n",
       "      <td>1004</td>\n",
       "      <td>ultra</td>\n",
       "      <td>[92.0, 154.0, 141.0, 151.0, 102.0, 176.0, 58.0...</td>\n",
       "      <td>[0.0, 0.0, 0.0, 0.0, 0.0, 0.0, 0.0, nan, nan, ...</td>\n",
       "      <td>[154.0, 155.0, 163.0, 160.0, 141.0, 165.0, 170...</td>\n",
       "      <td>[0.0, 0.0, 0.0, 0.0, 0.0, 0.0, 0.0, nan, nan, ...</td>\n",
       "    </tr>\n",
       "    <tr>\n",
       "      <th>5</th>\n",
       "      <td>1005</td>\n",
       "      <td>smart</td>\n",
       "      <td>[519.0, 477.0, 763.0, 538.0, 635.0, 584.0, 608...</td>\n",
       "      <td>[57.0, 0.0, 789.0, 114.0, 405.0, 252.0, 324.0,...</td>\n",
       "      <td>[40.0, 48.0, 48.0, 42.0, 42.0, 53.0, 55.0, 62....</td>\n",
       "      <td>[0.0, 0.0, 0.0, 0.0, 0.0, 9.0, 15.0, 36.0, 3.0...</td>\n",
       "    </tr>\n",
       "  </tbody>\n",
       "</table>\n",
       "</div>"
      ],
      "text/plain": [
       "   user_id tariff                                     calls_duration  \\\n",
       "0     1000  ultra  [299.0, 284.0, 403.0, 482.0, 368.0, 341.0, 340...   \n",
       "2     1002  smart  [220.0, 262.0, 227.0, 191.0, 219.0, 300.0, nan...   \n",
       "3     1003  ultra  [938.0, 851.0, 806.0, 922.0, nan, nan, nan, na...   \n",
       "4     1004  ultra  [92.0, 154.0, 141.0, 151.0, 102.0, 176.0, 58.0...   \n",
       "5     1005  smart  [519.0, 477.0, 763.0, 538.0, 635.0, 584.0, 608...   \n",
       "\n",
       "                                          calls_fees  \\\n",
       "0  [0.0, 0.0, 0.0, 0.0, 0.0, 0.0, 0.0, nan, nan, ...   \n",
       "2  [0.0, 0.0, 0.0, 0.0, 0.0, 0.0, nan, nan, nan, ...   \n",
       "3  [0.0, 0.0, 0.0, 0.0, nan, nan, nan, nan, nan, ...   \n",
       "4  [0.0, 0.0, 0.0, 0.0, 0.0, 0.0, 0.0, nan, nan, ...   \n",
       "5  [57.0, 0.0, 789.0, 114.0, 405.0, 252.0, 324.0,...   \n",
       "\n",
       "                                        sms_duration  \\\n",
       "0  [63.0, 70.0, 81.0, 74.0, 56.0, 70.0, 69.0, nan...   \n",
       "2  [8.0, 14.0, 8.0, 6.0, 13.0, 17.0, nan, nan, na...   \n",
       "3  [81.0, 95.0, 85.0, 82.0, nan, nan, nan, nan, n...   \n",
       "4  [154.0, 155.0, 163.0, 160.0, 141.0, 165.0, 170...   \n",
       "5  [40.0, 48.0, 48.0, 42.0, 42.0, 53.0, 55.0, 62....   \n",
       "\n",
       "                                            sms_fees  \n",
       "0  [0.0, 0.0, 0.0, 0.0, 0.0, 0.0, 0.0, nan, nan, ...  \n",
       "2  [0.0, 0.0, 0.0, 0.0, 0.0, 0.0, nan, nan, nan, ...  \n",
       "3  [0.0, 0.0, 0.0, 0.0, nan, nan, nan, nan, nan, ...  \n",
       "4  [0.0, 0.0, 0.0, 0.0, 0.0, 0.0, 0.0, nan, nan, ...  \n",
       "5  [0.0, 0.0, 0.0, 0.0, 0.0, 9.0, 15.0, 36.0, 3.0...  "
      ]
     },
     "execution_count": 58,
     "metadata": {},
     "output_type": "execute_result"
    }
   ],
   "source": [
    "# проверим, что всё успешно\n",
    "user_fees.head()"
   ]
  },
  {
   "cell_type": "markdown",
   "id": "f965f578",
   "metadata": {},
   "source": [
    "### Интернет\n",
    "\n",
    "Проверим данные и рассчитаем стоимость."
   ]
  },
  {
   "cell_type": "code",
   "execution_count": 59,
   "id": "7ff4221f",
   "metadata": {},
   "outputs": [],
   "source": [
    "web_df = pd.read_csv(INTERNET, parse_dates=[2], usecols=[1, 2, 3, 4])"
   ]
  },
  {
   "cell_type": "code",
   "execution_count": 60,
   "id": "e6df84b8",
   "metadata": {},
   "outputs": [
    {
     "name": "stdout",
     "output_type": "stream",
     "text": [
      "<class 'pandas.core.frame.DataFrame'>\n",
      "RangeIndex: 149396 entries, 0 to 149395\n",
      "Data columns (total 4 columns):\n",
      " #   Column        Non-Null Count   Dtype         \n",
      "---  ------        --------------   -----         \n",
      " 0   id            149396 non-null  object        \n",
      " 1   mb_used       149396 non-null  float64       \n",
      " 2   session_date  149396 non-null  datetime64[ns]\n",
      " 3   user_id       149396 non-null  int64         \n",
      "dtypes: datetime64[ns](1), float64(1), int64(1), object(1)\n",
      "memory usage: 4.6+ MB\n"
     ]
    }
   ],
   "source": [
    "web_df.info()"
   ]
  },
  {
   "cell_type": "code",
   "execution_count": 61,
   "id": "c18c39f9",
   "metadata": {
    "scrolled": true
   },
   "outputs": [
    {
     "name": "stdout",
     "output_type": "stream",
     "text": [
      "Количество дубликатов – 0\n"
     ]
    }
   ],
   "source": [
    "print(f'Количество дубликатов – {web_df.duplicated().sum()}')"
   ]
  },
  {
   "cell_type": "code",
   "execution_count": 62,
   "id": "8e085222",
   "metadata": {
    "scrolled": true
   },
   "outputs": [
    {
     "data": {
      "text/plain": [
       "count                           149396\n",
       "mean     2018-09-02 12:55:35.221826560\n",
       "min                2018-01-01 00:00:00\n",
       "25%                2018-07-05 00:00:00\n",
       "50%                2018-09-17 00:00:00\n",
       "75%                2018-11-14 00:00:00\n",
       "max                2018-12-31 00:00:00\n",
       "Name: session_date, dtype: object"
      ]
     },
     "execution_count": 62,
     "metadata": {},
     "output_type": "execute_result"
    }
   ],
   "source": [
    "# проверим диапазон дат\n",
    "web_df.session_date.describe(datetime_is_numeric=True)"
   ]
  },
  {
   "cell_type": "code",
   "execution_count": 63,
   "id": "5df2f273",
   "metadata": {},
   "outputs": [
    {
     "data": {
      "image/png": "[encoded data removed]",
      "text/plain": [
       "<Figure size 720x432 with 2 Axes>"
      ]
     },
     "metadata": {
      "needs_background": "light"
     },
     "output_type": "display_data"
    }
   ],
   "source": [
    "# посмотрим на график\n",
    "fig, ax = plt.subplots()\n",
    "\n",
    "sessions_sum = web_df.pivot_table(index=web_df['session_date'].dt.isocalendar().week,\n",
    "                      values='mb_used',\n",
    "                      aggfunc=\"sum\")\n",
    "\n",
    "sessions_count = web_df.pivot_table(index=web_df['session_date'].dt.isocalendar().week,\n",
    "                      values='id',\n",
    "                      aggfunc=\"count\")\n",
    "\n",
    "sessions_count.plot(kind='bar', ax=ax)\n",
    "ax2 = ax.twinx()\n",
    "sessions_sum.plot(kind='line', ax=ax2, color='r')\n",
    "\n",
    "ax.xaxis.set_major_locator(MultipleLocator(4))\n",
    "ax.grid(which='major', color='#CCCCCC', linestyle='--')\n",
    "ax.grid(which='minor', color='#CCCCCC', linestyle=':')\n",
    "plt.setp(ax.get_xticklabels(), rotation=0)\n",
    "\n",
    "\n",
    "ax.set_xlabel('Номер недели')\n",
    "ax.set_ylabel('Количество сессий')\n",
    "\n",
    "ax2.set_ylabel('Суммарный интернет-трафик')\n",
    "ax.set_title('Распределение интернет-сессий и трафика в течение года')\n",
    "\n",
    "plt.show()"
   ]
  },
  {
   "cell_type": "code",
   "execution_count": 64,
   "id": "6cf5eed7",
   "metadata": {},
   "outputs": [
    {
     "data": {
      "image/png": "[encoded data removed]",
      "text/plain": [
       "<Figure size 720x432 with 2 Axes>"
      ]
     },
     "metadata": {
      "needs_background": "light"
     },
     "output_type": "display_data"
    }
   ],
   "source": [
    "# и то же самое – нормированно на пользователей\n",
    "fig, ax = plt.subplots()\n",
    "\n",
    "sessions_sum = web_df.pivot_table(index=web_df['session_date'].dt.isocalendar().week,\n",
    "                      values='mb_used',\n",
    "                      aggfunc=\"sum\")\n",
    "\n",
    "sessions_count = web_df.pivot_table(index=web_df['session_date'].dt.isocalendar().week,\n",
    "                      values='id',\n",
    "                      aggfunc=\"count\")\n",
    "\n",
    "unique_users = web_df.pivot_table(index=web_df['session_date'].dt.isocalendar().week,\n",
    "                      values='user_id',\n",
    "                      aggfunc=lambda x: x.nunique())\n",
    "\n",
    "(sessions_count.id / unique_users.user_id).plot(kind='bar', ax=ax)\n",
    "ax2 = ax.twinx()\n",
    "(sessions_sum.mb_used / unique_users.user_id).plot(kind='line', ax=ax2, color='r')\n",
    "\n",
    "# ax.yaxis.set_major_locator(MultipleLocator(1000))\n",
    "# ax.yaxis.set_minor_locator(AutoMinorLocator(2))\n",
    "# ax.xaxis.set_major_locator(MultipleLocator(4))\n",
    "# ax.grid(which='major', color='#CCCCCC', linestyle='--')\n",
    "# ax.grid(which='minor', color='#CCCCCC', linestyle=':')\n",
    "# plt.setp(ax.get_xticklabels(), rotation=0)\n",
    "\n",
    "\n",
    "ax.set_xlabel('Номер недели')\n",
    "ax.set_ylabel('Количество сессий')\n",
    "\n",
    "ax2.set_ylabel('Интерент-трафик, Мб')\n",
    "ax.set_title('Среднее количество интернет-сессий и объём трафика на пользователя в неделю, 2018')\n",
    "\n",
    "plt.show()"
   ]
  },
  {
   "cell_type": "markdown",
   "id": "3bdc7a6b",
   "metadata": {},
   "source": [
    "Всё ок. Выставим платёжные периоды. Превратим мегабайты в гигабайты с округлением. И посчитаем стоимость."
   ]
  },
  {
   "cell_type": "code",
   "execution_count": 65,
   "id": "207efd41",
   "metadata": {},
   "outputs": [],
   "source": [
    "# переименуем колонку с датами, чтобы наша функция сработала,\n",
    "# уберём декабрьских пользователей\n",
    "# \n",
    "web_df = web_df.rename({'session_date': 'date'}, axis=1)\n",
    "web_df = web_df.query('user_id in @users_df.user_id')"
   ]
  },
  {
   "cell_type": "code",
   "execution_count": 66,
   "id": "3ec66a8a",
   "metadata": {
    "scrolled": true
   },
   "outputs": [
    {
     "data": {
      "text/html": [
       "<div>\n",
       "<style scoped>\n",
       "    .dataframe tbody tr th:only-of-type {\n",
       "        vertical-align: middle;\n",
       "    }\n",
       "\n",
       "    .dataframe tbody tr th {\n",
       "        vertical-align: top;\n",
       "    }\n",
       "\n",
       "    .dataframe thead th {\n",
       "        text-align: right;\n",
       "    }\n",
       "</style>\n",
       "<table border=\"1\" class=\"dataframe\">\n",
       "  <thead>\n",
       "    <tr style=\"text-align: right;\">\n",
       "      <th></th>\n",
       "      <th>id</th>\n",
       "      <th>mb_used</th>\n",
       "      <th>date</th>\n",
       "      <th>user_id</th>\n",
       "      <th>reg_date</th>\n",
       "      <th>pay_period</th>\n",
       "    </tr>\n",
       "  </thead>\n",
       "  <tbody>\n",
       "    <tr>\n",
       "      <th>0</th>\n",
       "      <td>1000_0</td>\n",
       "      <td>112.95</td>\n",
       "      <td>2018-11-25</td>\n",
       "      <td>1000</td>\n",
       "      <td>2018-05-25</td>\n",
       "      <td>7.00</td>\n",
       "    </tr>\n",
       "    <tr>\n",
       "      <th>1</th>\n",
       "      <td>1000_1</td>\n",
       "      <td>1_052.81</td>\n",
       "      <td>2018-09-07</td>\n",
       "      <td>1000</td>\n",
       "      <td>2018-05-25</td>\n",
       "      <td>4.00</td>\n",
       "    </tr>\n",
       "    <tr>\n",
       "      <th>2</th>\n",
       "      <td>1000_2</td>\n",
       "      <td>1_197.26</td>\n",
       "      <td>2018-06-25</td>\n",
       "      <td>1000</td>\n",
       "      <td>2018-05-25</td>\n",
       "      <td>2.00</td>\n",
       "    </tr>\n",
       "    <tr>\n",
       "      <th>3</th>\n",
       "      <td>1000_3</td>\n",
       "      <td>550.27</td>\n",
       "      <td>2018-08-22</td>\n",
       "      <td>1000</td>\n",
       "      <td>2018-05-25</td>\n",
       "      <td>3.00</td>\n",
       "    </tr>\n",
       "    <tr>\n",
       "      <th>4</th>\n",
       "      <td>1000_4</td>\n",
       "      <td>302.56</td>\n",
       "      <td>2018-09-24</td>\n",
       "      <td>1000</td>\n",
       "      <td>2018-05-25</td>\n",
       "      <td>4.00</td>\n",
       "    </tr>\n",
       "  </tbody>\n",
       "</table>\n",
       "</div>"
      ],
      "text/plain": [
       "       id  mb_used       date  user_id   reg_date  pay_period\n",
       "0  1000_0   112.95 2018-11-25     1000 2018-05-25        7.00\n",
       "1  1000_1 1_052.81 2018-09-07     1000 2018-05-25        4.00\n",
       "2  1000_2 1_197.26 2018-06-25     1000 2018-05-25        2.00\n",
       "3  1000_3   550.27 2018-08-22     1000 2018-05-25        3.00\n",
       "4  1000_4   302.56 2018-09-24     1000 2018-05-25        4.00"
      ]
     },
     "execution_count": 66,
     "metadata": {},
     "output_type": "execute_result"
    }
   ],
   "source": [
    "# выделим уникальные сочетания регистрация-дата для интернет-сессий.\n",
    "# посчитаем платёжные периоды и выставим их сессиям.\n",
    "dates_periods = (web_df\n",
    "                     .merge(users_df[['user_id', 'reg_date']],\n",
    "                            how='left',\n",
    "                            on='user_id')\n",
    "                     .groupby(['reg_date', 'date'])['id']\n",
    "                     .agg('count')\n",
    "                     .reset_index()\n",
    "                     .drop('id', axis=1)\n",
    "                    )\n",
    "\n",
    "dates_periods['pay_period'] = dates_periods.apply(set_pay_period, axis=1)\n",
    "\n",
    "web_df = (web_df\n",
    "          .merge(users_df[['user_id', 'reg_date']],\n",
    "                 how='left',\n",
    "                 on='user_id')\n",
    "          .merge(dates_periods,\n",
    "                 on=['reg_date', 'date'],\n",
    "                 how='left')\n",
    "         )\n",
    "\n",
    "web_df.head()"
   ]
  },
  {
   "cell_type": "code",
   "execution_count": 67,
   "id": "58096ce1",
   "metadata": {},
   "outputs": [
    {
     "data": {
      "text/plain": [
       "[1273]"
      ]
     },
     "execution_count": 67,
     "metadata": {},
     "output_type": "execute_result"
    }
   ],
   "source": [
    "# найдем id пользователей, у которых не было веб-сессий\n",
    "users_with_web = set((web_df\n",
    "                        .pivot_table(index='user_id',\n",
    "                                     columns='pay_period',\n",
    "                                     values='id',\n",
    "                                     aggfunc=['count'])['count'])\n",
    "                       .index)\n",
    "\n",
    "all_users = set(users_df.user_id)\n",
    "users_without_web = list(all_users - users_with_web)\n",
    "\n",
    "users_without_web"
   ]
  },
  {
   "cell_type": "code",
   "execution_count": 68,
   "id": "e1a64368",
   "metadata": {},
   "outputs": [
    {
     "data": {
      "text/html": [
       "<div>\n",
       "<style scoped>\n",
       "    .dataframe tbody tr th:only-of-type {\n",
       "        vertical-align: middle;\n",
       "    }\n",
       "\n",
       "    .dataframe tbody tr th {\n",
       "        vertical-align: top;\n",
       "    }\n",
       "\n",
       "    .dataframe thead th {\n",
       "        text-align: right;\n",
       "    }\n",
       "</style>\n",
       "<table border=\"1\" class=\"dataframe\">\n",
       "  <thead>\n",
       "    <tr style=\"text-align: right;\">\n",
       "      <th></th>\n",
       "      <th>1.00</th>\n",
       "      <th>2.00</th>\n",
       "      <th>3.00</th>\n",
       "      <th>4.00</th>\n",
       "      <th>5.00</th>\n",
       "      <th>6.00</th>\n",
       "      <th>7.00</th>\n",
       "      <th>8.00</th>\n",
       "      <th>9.00</th>\n",
       "      <th>10.00</th>\n",
       "      <th>11.00</th>\n",
       "      <th>12.00</th>\n",
       "    </tr>\n",
       "  </thead>\n",
       "  <tbody>\n",
       "    <tr>\n",
       "      <th>1273</th>\n",
       "      <td>0</td>\n",
       "      <td>0</td>\n",
       "      <td>0</td>\n",
       "      <td>0</td>\n",
       "      <td>0</td>\n",
       "      <td>0</td>\n",
       "      <td>0</td>\n",
       "      <td>0</td>\n",
       "      <td>0</td>\n",
       "      <td>0</td>\n",
       "      <td>0</td>\n",
       "      <td>0</td>\n",
       "    </tr>\n",
       "  </tbody>\n",
       "</table>\n",
       "</div>"
      ],
      "text/plain": [
       "      1.00   2.00   3.00   4.00   5.00   6.00   7.00   8.00   9.00   10.00  \\\n",
       "1273      0      0      0      0      0      0      0      0      0      0   \n",
       "\n",
       "      11.00  12.00  \n",
       "1273      0      0  "
      ]
     },
     "execution_count": 68,
     "metadata": {},
     "output_type": "execute_result"
    }
   ],
   "source": [
    "# сделаем для этого несчастного датасет c нулями\n",
    "users_zeroes = pd.DataFrame(data=[[0 for _ in range(12)] for _ in range(len(users_without_web))],\n",
    "                          index=users_without_web,\n",
    "                          columns=[float(x) for x in range(1, 13)])\n",
    "\n",
    "users_zeroes.head()"
   ]
  },
  {
   "cell_type": "code",
   "execution_count": 69,
   "id": "d64f8ddc",
   "metadata": {},
   "outputs": [
    {
     "data": {
      "text/html": [
       "<div>\n",
       "<style scoped>\n",
       "    .dataframe tbody tr th:only-of-type {\n",
       "        vertical-align: middle;\n",
       "    }\n",
       "\n",
       "    .dataframe tbody tr th {\n",
       "        vertical-align: top;\n",
       "    }\n",
       "\n",
       "    .dataframe thead th {\n",
       "        text-align: right;\n",
       "    }\n",
       "</style>\n",
       "<table border=\"1\" class=\"dataframe\">\n",
       "  <thead>\n",
       "    <tr style=\"text-align: right;\">\n",
       "      <th></th>\n",
       "      <th>user_id</th>\n",
       "      <th>tariff</th>\n",
       "      <th>calls_duration</th>\n",
       "      <th>calls_fees</th>\n",
       "      <th>sms_duration</th>\n",
       "      <th>sms_fees</th>\n",
       "      <th>web_duration</th>\n",
       "    </tr>\n",
       "  </thead>\n",
       "  <tbody>\n",
       "    <tr>\n",
       "      <th>0</th>\n",
       "      <td>1000</td>\n",
       "      <td>ultra</td>\n",
       "      <td>[299.0, 284.0, 403.0, 482.0, 368.0, 341.0, 340...</td>\n",
       "      <td>[0.0, 0.0, 0.0, 0.0, 0.0, 0.0, 0.0, nan, nan, ...</td>\n",
       "      <td>[63.0, 70.0, 81.0, 74.0, 56.0, 70.0, 69.0, nan...</td>\n",
       "      <td>[0.0, 0.0, 0.0, 0.0, 0.0, 0.0, 0.0, nan, nan, ...</td>\n",
       "      <td>[18.0, 19.0, 12.0, 17.0, 16.0, 16.0, 9.0, nan,...</td>\n",
       "    </tr>\n",
       "    <tr>\n",
       "      <th>1</th>\n",
       "      <td>1001</td>\n",
       "      <td>smart</td>\n",
       "      <td>[430.0, 414.0, nan, nan, nan, nan, nan, nan, n...</td>\n",
       "      <td>[0.0, 0.0, nan, nan, nan, nan, nan, nan, nan, ...</td>\n",
       "      <td>[0.0, 0.0, 0.0, 0.0, 0.0, 0.0, 0.0, 0.0, 0.0, ...</td>\n",
       "      <td>[0, 0, 0, 0, 0, 0, 0, 0, 0, 0, 0, 0]</td>\n",
       "      <td>[18.0, 14.0, nan, nan, nan, nan, nan, nan, nan...</td>\n",
       "    </tr>\n",
       "    <tr>\n",
       "      <th>2</th>\n",
       "      <td>1002</td>\n",
       "      <td>smart</td>\n",
       "      <td>[220.0, 262.0, 227.0, 191.0, 219.0, 300.0, nan...</td>\n",
       "      <td>[0.0, 0.0, 0.0, 0.0, 0.0, 0.0, nan, nan, nan, ...</td>\n",
       "      <td>[8.0, 14.0, 8.0, 6.0, 13.0, 17.0, nan, nan, na...</td>\n",
       "      <td>[0.0, 0.0, 0.0, 0.0, 0.0, 0.0, nan, nan, nan, ...</td>\n",
       "      <td>[19.0, 17.0, 21.0, 13.0, 18.0, 18.0, nan, nan,...</td>\n",
       "    </tr>\n",
       "    <tr>\n",
       "      <th>3</th>\n",
       "      <td>1003</td>\n",
       "      <td>ultra</td>\n",
       "      <td>[938.0, 851.0, 806.0, 922.0, nan, nan, nan, na...</td>\n",
       "      <td>[0.0, 0.0, 0.0, 0.0, nan, nan, nan, nan, nan, ...</td>\n",
       "      <td>[81.0, 95.0, 85.0, 82.0, nan, nan, nan, nan, n...</td>\n",
       "      <td>[0.0, 0.0, 0.0, 0.0, nan, nan, nan, nan, nan, ...</td>\n",
       "      <td>[12.0, 17.0, 16.0, 7.0, nan, nan, nan, nan, na...</td>\n",
       "    </tr>\n",
       "    <tr>\n",
       "      <th>4</th>\n",
       "      <td>1004</td>\n",
       "      <td>ultra</td>\n",
       "      <td>[92.0, 154.0, 141.0, 151.0, 102.0, 176.0, 58.0...</td>\n",
       "      <td>[0.0, 0.0, 0.0, 0.0, 0.0, 0.0, 0.0, nan, nan, ...</td>\n",
       "      <td>[154.0, 155.0, 163.0, 160.0, 141.0, 165.0, 170...</td>\n",
       "      <td>[0.0, 0.0, 0.0, 0.0, 0.0, 0.0, 0.0, nan, nan, ...</td>\n",
       "      <td>[21.0, 20.0, 25.0, 22.0, 19.0, 15.0, 16.0, nan...</td>\n",
       "    </tr>\n",
       "  </tbody>\n",
       "</table>\n",
       "</div>"
      ],
      "text/plain": [
       "   user_id tariff                                     calls_duration  \\\n",
       "0     1000  ultra  [299.0, 284.0, 403.0, 482.0, 368.0, 341.0, 340...   \n",
       "1     1001  smart  [430.0, 414.0, nan, nan, nan, nan, nan, nan, n...   \n",
       "2     1002  smart  [220.0, 262.0, 227.0, 191.0, 219.0, 300.0, nan...   \n",
       "3     1003  ultra  [938.0, 851.0, 806.0, 922.0, nan, nan, nan, na...   \n",
       "4     1004  ultra  [92.0, 154.0, 141.0, 151.0, 102.0, 176.0, 58.0...   \n",
       "\n",
       "                                          calls_fees  \\\n",
       "0  [0.0, 0.0, 0.0, 0.0, 0.0, 0.0, 0.0, nan, nan, ...   \n",
       "1  [0.0, 0.0, nan, nan, nan, nan, nan, nan, nan, ...   \n",
       "2  [0.0, 0.0, 0.0, 0.0, 0.0, 0.0, nan, nan, nan, ...   \n",
       "3  [0.0, 0.0, 0.0, 0.0, nan, nan, nan, nan, nan, ...   \n",
       "4  [0.0, 0.0, 0.0, 0.0, 0.0, 0.0, 0.0, nan, nan, ...   \n",
       "\n",
       "                                        sms_duration  \\\n",
       "0  [63.0, 70.0, 81.0, 74.0, 56.0, 70.0, 69.0, nan...   \n",
       "1  [0.0, 0.0, 0.0, 0.0, 0.0, 0.0, 0.0, 0.0, 0.0, ...   \n",
       "2  [8.0, 14.0, 8.0, 6.0, 13.0, 17.0, nan, nan, na...   \n",
       "3  [81.0, 95.0, 85.0, 82.0, nan, nan, nan, nan, n...   \n",
       "4  [154.0, 155.0, 163.0, 160.0, 141.0, 165.0, 170...   \n",
       "\n",
       "                                            sms_fees  \\\n",
       "0  [0.0, 0.0, 0.0, 0.0, 0.0, 0.0, 0.0, nan, nan, ...   \n",
       "1               [0, 0, 0, 0, 0, 0, 0, 0, 0, 0, 0, 0]   \n",
       "2  [0.0, 0.0, 0.0, 0.0, 0.0, 0.0, nan, nan, nan, ...   \n",
       "3  [0.0, 0.0, 0.0, 0.0, nan, nan, nan, nan, nan, ...   \n",
       "4  [0.0, 0.0, 0.0, 0.0, 0.0, 0.0, 0.0, nan, nan, ...   \n",
       "\n",
       "                                        web_duration  \n",
       "0  [18.0, 19.0, 12.0, 17.0, 16.0, 16.0, 9.0, nan,...  \n",
       "1  [18.0, 14.0, nan, nan, nan, nan, nan, nan, nan...  \n",
       "2  [19.0, 17.0, 21.0, 13.0, 18.0, 18.0, nan, nan,...  \n",
       "3  [12.0, 17.0, 16.0, 7.0, nan, nan, nan, nan, na...  \n",
       "4  [21.0, 20.0, 25.0, 22.0, 19.0, 15.0, 16.0, nan...  "
      ]
     },
     "execution_count": 69,
     "metadata": {},
     "output_type": "execute_result"
    }
   ],
   "source": [
    "# посчитаем объём трафика по периодам, округлим вверх\n",
    "# добавим нулевого пользователя\n",
    "# и запишем всё в итоговый датасет\n",
    "\n",
    "concatenated_web = pd.concat([web_df.pivot_table(index='user_id',\n",
    "                                                 columns='pay_period',\n",
    "                                                 values='mb_used',\n",
    "                                                 aggfunc=lambda x: np.ceil((np.sum(x) / 1024))),\n",
    "                                users_zeroes]\n",
    "                              )\n",
    "\n",
    "user_fees = concatenated_web.merge(user_fees,\n",
    "                                   left_index=True,\n",
    "                                   right_on='user_id',\n",
    "                                   how='outer')\n",
    "\n",
    "# 12 колонок с суммами трафика по периодам схлопнем в одну\n",
    "user_fees['web_duration'] = user_fees.apply(lambda row: list(row.loc[1:12]), axis=1)\n",
    "user_fees = user_fees[['user_id', 'tariff',\n",
    "                       'calls_duration', 'calls_fees',\n",
    "                       'sms_duration', 'sms_fees',\n",
    "                       'web_duration']]\n",
    "\n",
    "user_fees.head()"
   ]
  },
  {
   "cell_type": "code",
   "execution_count": 70,
   "id": "5fb79a87",
   "metadata": {},
   "outputs": [
    {
     "data": {
      "text/html": [
       "<div>\n",
       "<style scoped>\n",
       "    .dataframe tbody tr th:only-of-type {\n",
       "        vertical-align: middle;\n",
       "    }\n",
       "\n",
       "    .dataframe tbody tr th {\n",
       "        vertical-align: top;\n",
       "    }\n",
       "\n",
       "    .dataframe thead th {\n",
       "        text-align: right;\n",
       "    }\n",
       "</style>\n",
       "<table border=\"1\" class=\"dataframe\">\n",
       "  <thead>\n",
       "    <tr style=\"text-align: right;\">\n",
       "      <th></th>\n",
       "      <th>user_id</th>\n",
       "      <th>tariff</th>\n",
       "      <th>calls_duration</th>\n",
       "      <th>calls_fees</th>\n",
       "      <th>sms_duration</th>\n",
       "      <th>sms_fees</th>\n",
       "      <th>web_duration</th>\n",
       "      <th>web_fees</th>\n",
       "    </tr>\n",
       "  </thead>\n",
       "  <tbody>\n",
       "    <tr>\n",
       "      <th>0</th>\n",
       "      <td>1000</td>\n",
       "      <td>ultra</td>\n",
       "      <td>[299.0, 284.0, 403.0, 482.0, 368.0, 341.0, 340...</td>\n",
       "      <td>[0.0, 0.0, 0.0, 0.0, 0.0, 0.0, 0.0, nan, nan, ...</td>\n",
       "      <td>[63.0, 70.0, 81.0, 74.0, 56.0, 70.0, 69.0, nan...</td>\n",
       "      <td>[0.0, 0.0, 0.0, 0.0, 0.0, 0.0, 0.0, nan, nan, ...</td>\n",
       "      <td>[18.0, 19.0, 12.0, 17.0, 16.0, 16.0, 9.0, nan,...</td>\n",
       "      <td>[0.0, 0.0, 0.0, 0.0, 0.0, 0.0, 0.0, nan, nan, ...</td>\n",
       "    </tr>\n",
       "    <tr>\n",
       "      <th>1</th>\n",
       "      <td>1001</td>\n",
       "      <td>smart</td>\n",
       "      <td>[430.0, 414.0, nan, nan, nan, nan, nan, nan, n...</td>\n",
       "      <td>[0.0, 0.0, nan, nan, nan, nan, nan, nan, nan, ...</td>\n",
       "      <td>[0.0, 0.0, 0.0, 0.0, 0.0, 0.0, 0.0, 0.0, 0.0, ...</td>\n",
       "      <td>[0, 0, 0, 0, 0, 0, 0, 0, 0, 0, 0, 0]</td>\n",
       "      <td>[18.0, 14.0, nan, nan, nan, nan, nan, nan, nan...</td>\n",
       "      <td>[600.0, 0.0, nan, nan, nan, nan, nan, nan, nan...</td>\n",
       "    </tr>\n",
       "    <tr>\n",
       "      <th>2</th>\n",
       "      <td>1002</td>\n",
       "      <td>smart</td>\n",
       "      <td>[220.0, 262.0, 227.0, 191.0, 219.0, 300.0, nan...</td>\n",
       "      <td>[0.0, 0.0, 0.0, 0.0, 0.0, 0.0, nan, nan, nan, ...</td>\n",
       "      <td>[8.0, 14.0, 8.0, 6.0, 13.0, 17.0, nan, nan, na...</td>\n",
       "      <td>[0.0, 0.0, 0.0, 0.0, 0.0, 0.0, nan, nan, nan, ...</td>\n",
       "      <td>[19.0, 17.0, 21.0, 13.0, 18.0, 18.0, nan, nan,...</td>\n",
       "      <td>[800.0, 400.0, 1200.0, 0.0, 600.0, 600.0, nan,...</td>\n",
       "    </tr>\n",
       "    <tr>\n",
       "      <th>3</th>\n",
       "      <td>1003</td>\n",
       "      <td>ultra</td>\n",
       "      <td>[938.0, 851.0, 806.0, 922.0, nan, nan, nan, na...</td>\n",
       "      <td>[0.0, 0.0, 0.0, 0.0, nan, nan, nan, nan, nan, ...</td>\n",
       "      <td>[81.0, 95.0, 85.0, 82.0, nan, nan, nan, nan, n...</td>\n",
       "      <td>[0.0, 0.0, 0.0, 0.0, nan, nan, nan, nan, nan, ...</td>\n",
       "      <td>[12.0, 17.0, 16.0, 7.0, nan, nan, nan, nan, na...</td>\n",
       "      <td>[0.0, 0.0, 0.0, 0.0, nan, nan, nan, nan, nan, ...</td>\n",
       "    </tr>\n",
       "    <tr>\n",
       "      <th>4</th>\n",
       "      <td>1004</td>\n",
       "      <td>ultra</td>\n",
       "      <td>[92.0, 154.0, 141.0, 151.0, 102.0, 176.0, 58.0...</td>\n",
       "      <td>[0.0, 0.0, 0.0, 0.0, 0.0, 0.0, 0.0, nan, nan, ...</td>\n",
       "      <td>[154.0, 155.0, 163.0, 160.0, 141.0, 165.0, 170...</td>\n",
       "      <td>[0.0, 0.0, 0.0, 0.0, 0.0, 0.0, 0.0, nan, nan, ...</td>\n",
       "      <td>[21.0, 20.0, 25.0, 22.0, 19.0, 15.0, 16.0, nan...</td>\n",
       "      <td>[0.0, 0.0, 0.0, 0.0, 0.0, 0.0, 0.0, nan, nan, ...</td>\n",
       "    </tr>\n",
       "  </tbody>\n",
       "</table>\n",
       "</div>"
      ],
      "text/plain": [
       "   user_id tariff                                     calls_duration  \\\n",
       "0     1000  ultra  [299.0, 284.0, 403.0, 482.0, 368.0, 341.0, 340...   \n",
       "1     1001  smart  [430.0, 414.0, nan, nan, nan, nan, nan, nan, n...   \n",
       "2     1002  smart  [220.0, 262.0, 227.0, 191.0, 219.0, 300.0, nan...   \n",
       "3     1003  ultra  [938.0, 851.0, 806.0, 922.0, nan, nan, nan, na...   \n",
       "4     1004  ultra  [92.0, 154.0, 141.0, 151.0, 102.0, 176.0, 58.0...   \n",
       "\n",
       "                                          calls_fees  \\\n",
       "0  [0.0, 0.0, 0.0, 0.0, 0.0, 0.0, 0.0, nan, nan, ...   \n",
       "1  [0.0, 0.0, nan, nan, nan, nan, nan, nan, nan, ...   \n",
       "2  [0.0, 0.0, 0.0, 0.0, 0.0, 0.0, nan, nan, nan, ...   \n",
       "3  [0.0, 0.0, 0.0, 0.0, nan, nan, nan, nan, nan, ...   \n",
       "4  [0.0, 0.0, 0.0, 0.0, 0.0, 0.0, 0.0, nan, nan, ...   \n",
       "\n",
       "                                        sms_duration  \\\n",
       "0  [63.0, 70.0, 81.0, 74.0, 56.0, 70.0, 69.0, nan...   \n",
       "1  [0.0, 0.0, 0.0, 0.0, 0.0, 0.0, 0.0, 0.0, 0.0, ...   \n",
       "2  [8.0, 14.0, 8.0, 6.0, 13.0, 17.0, nan, nan, na...   \n",
       "3  [81.0, 95.0, 85.0, 82.0, nan, nan, nan, nan, n...   \n",
       "4  [154.0, 155.0, 163.0, 160.0, 141.0, 165.0, 170...   \n",
       "\n",
       "                                            sms_fees  \\\n",
       "0  [0.0, 0.0, 0.0, 0.0, 0.0, 0.0, 0.0, nan, nan, ...   \n",
       "1               [0, 0, 0, 0, 0, 0, 0, 0, 0, 0, 0, 0]   \n",
       "2  [0.0, 0.0, 0.0, 0.0, 0.0, 0.0, nan, nan, nan, ...   \n",
       "3  [0.0, 0.0, 0.0, 0.0, nan, nan, nan, nan, nan, ...   \n",
       "4  [0.0, 0.0, 0.0, 0.0, 0.0, 0.0, 0.0, nan, nan, ...   \n",
       "\n",
       "                                        web_duration  \\\n",
       "0  [18.0, 19.0, 12.0, 17.0, 16.0, 16.0, 9.0, nan,...   \n",
       "1  [18.0, 14.0, nan, nan, nan, nan, nan, nan, nan...   \n",
       "2  [19.0, 17.0, 21.0, 13.0, 18.0, 18.0, nan, nan,...   \n",
       "3  [12.0, 17.0, 16.0, 7.0, nan, nan, nan, nan, na...   \n",
       "4  [21.0, 20.0, 25.0, 22.0, 19.0, 15.0, 16.0, nan...   \n",
       "\n",
       "                                            web_fees  \n",
       "0  [0.0, 0.0, 0.0, 0.0, 0.0, 0.0, 0.0, nan, nan, ...  \n",
       "1  [600.0, 0.0, nan, nan, nan, nan, nan, nan, nan...  \n",
       "2  [800.0, 400.0, 1200.0, 0.0, 600.0, 600.0, nan,...  \n",
       "3  [0.0, 0.0, 0.0, 0.0, nan, nan, nan, nan, nan, ...  \n",
       "4  [0.0, 0.0, 0.0, 0.0, 0.0, 0.0, 0.0, nan, nan, ...  "
      ]
     },
     "execution_count": 70,
     "metadata": {},
     "output_type": "execute_result"
    }
   ],
   "source": [
    "# добавим колонку со стоимостью интернета\n",
    "user_fees['web_fees'] = user_fees.apply(calculate_fees, args=[TARIFF, 'web'], axis=1)\n",
    "user_fees.head()"
   ]
  },
  {
   "cell_type": "markdown",
   "id": "a575a3e0",
   "metadata": {},
   "source": [
    "### Сводные показатели\n",
    "\n",
    "Исходные данные готовы – теперь можно добавить несколько сводных показателей."
   ]
  },
  {
   "cell_type": "code",
   "execution_count": 71,
   "id": "d4a0d9c6",
   "metadata": {},
   "outputs": [],
   "source": [
    "# посчитаем для каждого пользователя и платежного периода общую сумму доплаты\n",
    "user_fees['total_extra_fees'] = user_fees.calls_fees + user_fees.sms_fees + user_fees.web_fees"
   ]
  },
  {
   "cell_type": "code",
   "execution_count": 72,
   "id": "d38a061f",
   "metadata": {},
   "outputs": [],
   "source": [
    "# посчитаем среднюю сумму, которую пользователи платили по месяцам с учётом фиксированной абонентской платы\n",
    "def calc_mean_total_fee(row):\n",
    "    total_extra_fees = row.total_extra_fees\n",
    "    tariff_price = TARIFF[row.tariff]['price']\n",
    "    mean_fee = np.nanmean([extra_fee + tariff_price for extra_fee in total_extra_fees])\n",
    "    return mean_fee\n",
    "                \n",
    "user_fees['mean_total_fee'] = user_fees.apply(calc_mean_total_fee ,axis=1)"
   ]
  },
  {
   "cell_type": "code",
   "execution_count": 73,
   "id": "5a859dd1",
   "metadata": {},
   "outputs": [],
   "source": [
    "# посчитаем среднемесячную сумму доплаты\n",
    "user_fees['mean_extra_fee'] = user_fees.apply(lambda row: np.nanmean(row.total_extra_fees),axis=1)"
   ]
  },
  {
   "cell_type": "code",
   "execution_count": 74,
   "id": "7b202f1f",
   "metadata": {},
   "outputs": [],
   "source": [
    "# посчитаем средние объёмы потребления для разных видов услуг\n",
    "user_fees['mean_calls'] = user_fees.apply(lambda row: np.nanmean(row.calls_duration),axis=1)\n",
    "user_fees['mean_sms'] = user_fees.apply(lambda row: np.nanmean(row.sms_duration),axis=1)\n",
    "user_fees['mean_web'] = user_fees.apply(lambda row: np.nanmean(row.web_duration),axis=1)"
   ]
  },
  {
   "cell_type": "code",
   "execution_count": 75,
   "id": "1cedec07",
   "metadata": {},
   "outputs": [],
   "source": [
    "# добавим данные по пользователям: город, пол, возраст, количество периодов, что пользователь с нами\n",
    "user_fees = user_fees.merge(users_df[['age', 'sex', 'city', 'churn_date', 'user_id']],\n",
    "                            how='left',\n",
    "                            on='user_id')\n",
    "\n",
    "user_fees['periods_count'] = user_fees.total_extra_fees.apply(lambda x: sum(~np.isnan(x)))"
   ]
  },
  {
   "cell_type": "code",
   "execution_count": 76,
   "id": "c7151cac",
   "metadata": {},
   "outputs": [],
   "source": [
    "# # и добавим галочку, с нами ещё пользователь или уже ушёл\n",
    "# user_fees['is_active_user'] = user_fees.churn_date.apply(lambda x: x!=x)"
   ]
  },
  {
   "cell_type": "markdown",
   "id": "dea06b18",
   "metadata": {},
   "source": [
    "## Анализ\n",
    "\n",
    "Перейдём к анализу данных и ответу на поставленные вопросы."
   ]
  },
  {
   "cell_type": "markdown",
   "id": "178b7927",
   "metadata": {},
   "source": [
    "### Потребление услуг\n",
    "\n",
    "Посмотрим объём потребляемых услуг в среднем у абонентов с разными тарифами. И ради интереса посмотрим также на некоторые другие срезы."
   ]
  },
  {
   "cell_type": "code",
   "execution_count": 77,
   "id": "6faad122",
   "metadata": {},
   "outputs": [
    {
     "data": {
      "text/html": [
       "<style type=\"text/css\">\n",
       "</style>\n",
       "<table id=\"T_2ee9e_\">\n",
       "  <thead>\n",
       "    <tr>\n",
       "      <th class=\"blank level0\" >&nbsp;</th>\n",
       "      <th class=\"col_heading level0 col0\" colspan=\"2\">mean</th>\n",
       "    </tr>\n",
       "    <tr>\n",
       "      <th class=\"index_name level1\" >tariff</th>\n",
       "      <th class=\"col_heading level1 col0\" >smart</th>\n",
       "      <th class=\"col_heading level1 col1\" >ultra</th>\n",
       "    </tr>\n",
       "  </thead>\n",
       "  <tbody>\n",
       "    <tr>\n",
       "      <th id=\"T_2ee9e_level0_row0\" class=\"row_heading level0 row0\" >mean_calls</th>\n",
       "      <td id=\"T_2ee9e_row0_col0\" class=\"data row0 col0\" >464</td>\n",
       "      <td id=\"T_2ee9e_row0_col1\" class=\"data row0 col1\" >576</td>\n",
       "    </tr>\n",
       "    <tr>\n",
       "      <th id=\"T_2ee9e_level0_row1\" class=\"row_heading level0 row1\" >mean_sms</th>\n",
       "      <td id=\"T_2ee9e_row1_col0\" class=\"data row1 col0\" >36</td>\n",
       "      <td id=\"T_2ee9e_row1_col1\" class=\"data row1 col1\" >59</td>\n",
       "    </tr>\n",
       "    <tr>\n",
       "      <th id=\"T_2ee9e_level0_row2\" class=\"row_heading level0 row2\" >mean_web</th>\n",
       "      <td id=\"T_2ee9e_row2_col0\" class=\"data row2 col0\" >18</td>\n",
       "      <td id=\"T_2ee9e_row2_col1\" class=\"data row2 col1\" >21</td>\n",
       "    </tr>\n",
       "  </tbody>\n",
       "</table>\n"
      ],
      "text/plain": [
       "<pandas.io.formats.style.Styler at 0x1232d1810>"
      ]
     },
     "metadata": {},
     "output_type": "display_data"
    },
    {
     "data": {
      "text/html": [
       "<style type=\"text/css\">\n",
       "</style>\n",
       "<table id=\"T_b55b9_\">\n",
       "  <thead>\n",
       "    <tr>\n",
       "      <th class=\"blank level0\" >&nbsp;</th>\n",
       "      <th class=\"col_heading level0 col0\" colspan=\"2\">median</th>\n",
       "      <th class=\"col_heading level0 col2\" colspan=\"2\">std</th>\n",
       "      <th class=\"col_heading level0 col4\" colspan=\"2\">var</th>\n",
       "    </tr>\n",
       "    <tr>\n",
       "      <th class=\"index_name level1\" >tariff</th>\n",
       "      <th class=\"col_heading level1 col0\" >smart</th>\n",
       "      <th class=\"col_heading level1 col1\" >ultra</th>\n",
       "      <th class=\"col_heading level1 col2\" >smart</th>\n",
       "      <th class=\"col_heading level1 col3\" >ultra</th>\n",
       "      <th class=\"col_heading level1 col4\" >smart</th>\n",
       "      <th class=\"col_heading level1 col5\" >ultra</th>\n",
       "    </tr>\n",
       "  </thead>\n",
       "  <tbody>\n",
       "    <tr>\n",
       "      <th id=\"T_b55b9_level0_row0\" class=\"row_heading level0 row0\" >mean_calls</th>\n",
       "      <td id=\"T_b55b9_row0_col0\" class=\"data row0 col0\" >461</td>\n",
       "      <td id=\"T_b55b9_row0_col1\" class=\"data row0 col1\" >563</td>\n",
       "      <td id=\"T_b55b9_row0_col2\" class=\"data row0 col2\" >177</td>\n",
       "      <td id=\"T_b55b9_row0_col3\" class=\"data row0 col3\" >319</td>\n",
       "      <td id=\"T_b55b9_row0_col4\" class=\"data row0 col4\" >31350</td>\n",
       "      <td id=\"T_b55b9_row0_col5\" class=\"data row0 col5\" >101924</td>\n",
       "    </tr>\n",
       "    <tr>\n",
       "      <th id=\"T_b55b9_level0_row1\" class=\"row_heading level0 row1\" >mean_sms</th>\n",
       "      <td id=\"T_b55b9_row1_col0\" class=\"data row1 col0\" >30</td>\n",
       "      <td id=\"T_b55b9_row1_col1\" class=\"data row1 col1\" >48</td>\n",
       "      <td id=\"T_b55b9_row1_col2\" class=\"data row1 col2\" >29</td>\n",
       "      <td id=\"T_b55b9_row1_col3\" class=\"data row1 col3\" >51</td>\n",
       "      <td id=\"T_b55b9_row1_col4\" class=\"data row1 col4\" >829</td>\n",
       "      <td id=\"T_b55b9_row1_col5\" class=\"data row1 col5\" >2567</td>\n",
       "    </tr>\n",
       "    <tr>\n",
       "      <th id=\"T_b55b9_level0_row2\" class=\"row_heading level0 row2\" >mean_web</th>\n",
       "      <td id=\"T_b55b9_row2_col0\" class=\"data row2 col0\" >18</td>\n",
       "      <td id=\"T_b55b9_row2_col1\" class=\"data row2 col1\" >21</td>\n",
       "      <td id=\"T_b55b9_row2_col2\" class=\"data row2 col2\" >4</td>\n",
       "      <td id=\"T_b55b9_row2_col3\" class=\"data row2 col3\" >9</td>\n",
       "      <td id=\"T_b55b9_row2_col4\" class=\"data row2 col4\" >19</td>\n",
       "      <td id=\"T_b55b9_row2_col5\" class=\"data row2 col5\" >87</td>\n",
       "    </tr>\n",
       "  </tbody>\n",
       "</table>\n"
      ],
      "text/plain": [
       "<pandas.io.formats.style.Styler at 0x125375c90>"
      ]
     },
     "execution_count": 77,
     "metadata": {},
     "output_type": "execute_result"
    }
   ],
   "source": [
    "# Посчитаем главные метрики\n",
    "display(user_fees.pivot_table(columns='tariff', \n",
    "                      values=['mean_calls', 'mean_sms', 'mean_web'], \n",
    "                      aggfunc=['mean']).style.format('{:.0f}'))\n",
    "\n",
    "user_fees.pivot_table(columns='tariff', \n",
    "                      values=['mean_calls', 'mean_sms', 'mean_web'], \n",
    "                      aggfunc=['median', 'std', 'var']).style.format('{:.0f}')\n",
    "\n"
   ]
  },
  {
   "cell_type": "code",
   "execution_count": 78,
   "id": "f1dab16e",
   "metadata": {},
   "outputs": [
    {
     "data": {
      "image/png": "[encoded data removed]",
      "text/plain": [
       "<Figure size 720x432 with 3 Axes>"
      ]
     },
     "metadata": {
      "needs_background": "light"
     },
     "output_type": "display_data"
    }
   ],
   "source": [
    "# и посмотрим на боксплоты по основным услугам\n",
    "fig, (ax1, ax2, ax3) = plt.subplots(1, 3)\n",
    "\n",
    "for param, ax, name in zip(['mean_calls', 'mean_sms', 'mean_web'],\n",
    "                           [ax1, ax2, ax3],\n",
    "                           ['Продолжительность звонков', 'Количество сообщений', 'Объём интернет-трафика']):\n",
    "    param_grouped  = user_fees.groupby('tariff')[param]\n",
    "    parameter = [col[1] for col in param_grouped]\n",
    "    labels = [col[0] for col in param_grouped]\n",
    "    ax.boxplot(parameter, labels=labels)\n",
    "    ax.grid()\n",
    "    ax.set_title(name)\n",
    "fig.tight_layout()\n",
    "plt.suptitle('Среднемесячное потребление услуг у абонентов тарифов Smart и Ultra, 2018', y=1.05, fontsize=16)\n",
    "plt.show()"
   ]
  },
  {
   "cell_type": "code",
   "execution_count": 79,
   "id": "8707bff4",
   "metadata": {},
   "outputs": [
    {
     "data": {
      "image/png": "[encoded data removed]",
      "text/plain": [
       "<Figure size 576x864 with 3 Axes>"
      ]
     },
     "metadata": {
      "needs_background": "light"
     },
     "output_type": "display_data"
    }
   ],
   "source": [
    "# и то же самое – нормированными гистограммами\n",
    "fig, (ax1, ax2, ax3) = plt.subplots(3, 1)\n",
    "fig.set_figwidth(8)\n",
    "fig.set_figheight(12)\n",
    "\n",
    "for param, ax, name in zip(['mean_calls', 'mean_sms', 'mean_web'],\n",
    "                           [ax1, ax2, ax3],\n",
    "                           ['Продолжительность звонков', 'Количество сообщений', 'Объём интернет-трафика']):\n",
    "    param_grouped  = user_fees.groupby('tariff')[param]\n",
    "    parameter = [col[1] for col in param_grouped]\n",
    "    labels = [col[0] for col in param_grouped]\n",
    "    ax.hist(parameter,\n",
    "            histtype='step',\n",
    "            linewidth=3,\n",
    "            density=True)\n",
    "    \n",
    "    x = TARIFF['smart']['limits'][(param.split('mean_')[1])]\n",
    "    y = ax.get_ylim()[1]\n",
    "    ax.vlines(x=x,\n",
    "              ymin=0,\n",
    "              ymax=y,\n",
    "              linestyles='dashed',\n",
    "              linewidth=2,\n",
    "              alpha=0.7)\n",
    "    ax.text(x, y*0.7, 'Бесплатный лимит Smart')\n",
    "    \n",
    "    ax.grid()\n",
    "    ax.legend(['ultra', 'smart'])\n",
    "    ax.set_title(name)\n",
    "fig.tight_layout()\n",
    "plt.suptitle('Среднемесячное потребление услуг у абонентов тарифов Smart и Ultra, 2018', fontsize=16, y=1.03)\n",
    "plt.show()"
   ]
  },
  {
   "cell_type": "code",
   "execution_count": 80,
   "id": "a2d204d9",
   "metadata": {},
   "outputs": [],
   "source": [
    "# сделаем для абонентов разных тарифов именованные срезы\n",
    "ultra_df = user_fees.query('tariff == \"ultra\"')\n",
    "smart_df = user_fees.query('tariff == \"smart\"')"
   ]
  },
  {
   "cell_type": "code",
   "execution_count": 81,
   "id": "0ef680ab",
   "metadata": {},
   "outputs": [
    {
     "name": "stdout",
     "output_type": "stream",
     "text": [
      "Среднее по mean_calls у абонентов Ultra на 24% больше, чем у абонентов Smart\n",
      "Среднее по mean_sms у абонентов Ultra на 66% больше, чем у абонентов Smart\n",
      "Среднее по mean_web у абонентов Ultra на 19% больше, чем у абонентов Smart\n"
     ]
    }
   ],
   "source": [
    "# посчитаем разницу средних по услугам\n",
    "params = ['mean_calls', 'mean_sms', 'mean_web']\n",
    "\n",
    "for param in params:\n",
    "    diff = ultra_df[param].mean() / smart_df[param].mean() - 1\n",
    "    print(f'Среднее по {param} у абонентов Ultra на {diff:.0%} больше, чем у абонентов Smart')"
   ]
  },
  {
   "cell_type": "code",
   "execution_count": 82,
   "id": "bf199b0f",
   "metadata": {},
   "outputs": [
    {
     "name": "stdout",
     "output_type": "stream",
     "text": [
      "P-value для параметра mean_calls равно 0.00013\n",
      "P-value для параметра mean_sms равно 0.00000\n",
      "P-value для параметра mean_web равно 0.00004\n"
     ]
    }
   ],
   "source": [
    "# рассчитаем p-value для нулевой гипотезы,\n",
    "# что средние значения (потребление услуг) двух генеральных совокупностей (абоненты ultra и smart) не отличаются,\n",
    "# а разницу в выборочных средних мы получили случайно\n",
    "\n",
    "params = ['mean_calls', 'mean_sms', 'mean_web']\n",
    "\n",
    "for param in params:\n",
    "    pvalue = st.ttest_ind(ultra_df[param],\n",
    "                          smart_df[param],\n",
    "                          equal_var=False).pvalue\n",
    "    \n",
    "    print(f'P-value для параметра {param} равно {pvalue:.5f}')"
   ]
  },
  {
   "cell_type": "markdown",
   "id": "308e3a9b",
   "metadata": {},
   "source": [
    "Очевидно, что **абоненты тарифа Ultra потребляют в среднем больше услуг связи, чем абоненты Smart**: у них на четверть больше продолжительность голосовой связи и на одну пятую – объём интернет-трафика.\n",
    "\n",
    "Статистический тест подтверждает, что полученная разница выборочных средних неслучайна. Значения p-value для всех трёх параметров – меньше 0.001.\n",
    "\n",
    "Распределения абонентов по объёму потребляемых услуг между тарифами различается. **Распределение у абонентов Smart – более плотное, у Ultra – более рассеянное**. Вероятно, это объясняется значением лимита услуг, включенных в абонентскую плату.\n",
    "\n",
    "У Smart – лимиты по голосовой связи и интернету относительно невысокие – и значительная часть абонентов их превышает. Поскольку за превышение надо платить – абоненты стараются экономить. Поэтому распределение достаточно плотно группируется вокруг лимита.\n",
    "\n",
    "У Ultra – лимиты выставлены с очень большим запасом – выбрать их почти невозможно. Поэтому абоненты потребляют столько, сколько им надо – и распределение получается более равномерным."
   ]
  },
  {
   "cell_type": "markdown",
   "id": "61015602",
   "metadata": {},
   "source": [
    "Посмотрим, есть ли разница в потреблении услуг по другим срезам – сравнивать будем абонентов в рамках одного и то же тарифа. "
   ]
  },
  {
   "cell_type": "code",
   "execution_count": 83,
   "id": "7a485f3e",
   "metadata": {},
   "outputs": [
    {
     "data": {
      "image/png": "[encoded data removed]",
      "text/plain": [
       "<Figure size 432x432 with 2 Axes>"
      ]
     },
     "metadata": {
      "needs_background": "light"
     },
     "output_type": "display_data"
    },
    {
     "data": {
      "image/png": "[encoded data removed]",
      "text/plain": [
       "<Figure size 432x432 with 2 Axes>"
      ]
     },
     "metadata": {
      "needs_background": "light"
     },
     "output_type": "display_data"
    },
    {
     "data": {
      "image/png": "[encoded data removed]",
      "text/plain": [
       "<Figure size 432x432 with 2 Axes>"
      ]
     },
     "metadata": {
      "needs_background": "light"
     },
     "output_type": "display_data"
    }
   ],
   "source": [
    "# боксплоты по тарифу и полу абонента\n",
    "for param, name in zip(['mean_calls', 'mean_sms', 'mean_web'],\n",
    "                       ['Продолжительность звонков', 'Количество сообщений', 'Объём интернет-трафика']):\n",
    "    fig, (ax1, ax2) = plt.subplots(1, 2)\n",
    "    fig.set_figwidth(6)\n",
    "    fig.set_figheight(6)\n",
    "\n",
    "    for tariff, ax in zip(['smart', 'ultra'],\n",
    "                               [ax1, ax2]):\n",
    "        param_grouped  = user_fees[user_fees.tariff == tariff].groupby(['sex'])[param]\n",
    "        parameter = [col[1] for col in param_grouped]\n",
    "        labels = [col[0] for col in param_grouped]\n",
    "        ax.boxplot(parameter, labels=labels)\n",
    "        ax.set_xlabel('Пол абонентов')\n",
    "        ax.grid()\n",
    "        ax.set_title(tariff)\n",
    "\n",
    "    ax1.sharey(ax2)\n",
    "    plt.suptitle(name, fontsize=14)\n",
    "    fig.tight_layout()\n",
    "    plt.show()"
   ]
  },
  {
   "cell_type": "code",
   "execution_count": 84,
   "id": "5eb321aa",
   "metadata": {
    "scrolled": false
   },
   "outputs": [
    {
     "data": {
      "image/png": "[encoded data removed]",
      "text/plain": [
       "<Figure size 720x432 with 2 Axes>"
      ]
     },
     "metadata": {
      "needs_background": "light"
     },
     "output_type": "display_data"
    },
    {
     "data": {
      "image/png": "[encoded data removed]",
      "text/plain": [
       "<Figure size 720x432 with 2 Axes>"
      ]
     },
     "metadata": {
      "needs_background": "light"
     },
     "output_type": "display_data"
    },
    {
     "data": {
      "image/png": "[encoded data removed]",
      "text/plain": [
       "<Figure size 720x432 with 2 Axes>"
      ]
     },
     "metadata": {
      "needs_background": "light"
     },
     "output_type": "display_data"
    }
   ],
   "source": [
    "# боксплоты по возрастам\n",
    "for param, name in zip(['mean_calls', 'mean_sms', 'mean_web'],\n",
    "                       ['Продолжительность звонков', 'Количество сообщений', 'Объём интернет-трафика']):\n",
    "    fig, (ax1, ax2) = plt.subplots(1, 2)\n",
    "    fig.set_figwidth(10)\n",
    "    fig.set_figheight(6)\n",
    "\n",
    "    for tariff, ax in zip(['smart', 'ultra'],\n",
    "                               [ax1, ax2]):\n",
    "        tariff_sample = user_fees[user_fees.tariff == tariff]\n",
    "        param_grouped  = tariff_sample.groupby(pd.cut(tariff_sample.age, bins=[17, 24, 34, 44, 54, 99]))[param]\n",
    "        parameter = [col[1] for col in param_grouped]\n",
    "        labels = [col[0] for col in param_grouped]\n",
    "        ax.boxplot(parameter, labels=labels)\n",
    "        ax.set_xlabel('Возраст абонентов')\n",
    "        ax.grid()\n",
    "        ax.set_title(tariff)\n",
    "\n",
    "    ax1.sharey(ax2)\n",
    "    fig.tight_layout()\n",
    "    plt.suptitle(name, fontsize=16, y=1.03)\n",
    "    plt.show()"
   ]
  },
  {
   "cell_type": "code",
   "execution_count": 85,
   "id": "35791d23",
   "metadata": {},
   "outputs": [
    {
     "data": {
      "image/png": "[encoded data removed]",
      "text/plain": [
       "<Figure size 720x432 with 2 Axes>"
      ]
     },
     "metadata": {
      "needs_background": "light"
     },
     "output_type": "display_data"
    },
    {
     "data": {
      "image/png": "[encoded data removed]",
      "text/plain": [
       "<Figure size 720x432 with 2 Axes>"
      ]
     },
     "metadata": {
      "needs_background": "light"
     },
     "output_type": "display_data"
    },
    {
     "data": {
      "image/png": "[encoded data removed]",
      "text/plain": [
       "<Figure size 720x432 with 2 Axes>"
      ]
     },
     "metadata": {
      "needs_background": "light"
     },
     "output_type": "display_data"
    }
   ],
   "source": [
    "# боксплоты по городу\n",
    "\n",
    "def city_type(row):\n",
    "    if row.city != 'Москва':\n",
    "        return 'другие'\n",
    "    else:\n",
    "        return 'Москва'\n",
    "\n",
    "for param, name in zip(['mean_calls', 'mean_sms', 'mean_web'],\n",
    "                       ['Продолжительность звонков', 'Количество сообщений', 'Объём интернет-трафика']):\n",
    "    fig, (ax1, ax2) = plt.subplots(1, 2)\n",
    "\n",
    "    for tariff, ax in zip(['smart', 'ultra'],\n",
    "                               [ax1, ax2]):\n",
    "        tariff_sample = user_fees[user_fees.tariff == tariff]\n",
    "        param_grouped  = tariff_sample.groupby(user_fees.apply(city_type, axis=1))[param]\n",
    "        parameter = [col[1] for col in param_grouped]\n",
    "        labels = [col[0] for col in param_grouped]\n",
    "        ax.boxplot(parameter, labels=labels)\n",
    "        ax.grid()\n",
    "        ax.set_title(tariff)\n",
    "\n",
    "    ax1.sharey(ax2)\n",
    "    fig.tight_layout()\n",
    "    plt.suptitle(name, fontsize=16, y=1.03)\n",
    "    plt.show()"
   ]
  },
  {
   "cell_type": "markdown",
   "id": "f0882e4d",
   "metadata": {},
   "source": [
    "В общем, кажется, что **никакой особой разницы другие параметры абонентов не дают**. Разве что Москва на тарифе Ultra немного отличается от других городов. Но, как показывает статистический тест ниже, есть высокая вероятность, что наблюдаемые в выборках отличия на самом деле случайны."
   ]
  },
  {
   "cell_type": "code",
   "execution_count": 86,
   "id": "80279040",
   "metadata": {},
   "outputs": [
    {
     "name": "stdout",
     "output_type": "stream",
     "text": [
      "P-value для параметра mean_calls равно 0.23644\n",
      "P-value для параметра mean_sms равно 0.48503\n",
      "P-value для параметра mean_web равно 0.57285\n"
     ]
    }
   ],
   "source": [
    "# рассчитаем p-value для нулевой гипотезы,\n",
    "# что средние значения (потребление услуг) двух генеральных совокупностей \n",
    "# (абоненты ultra из Москвы и других городов) не отличаются,\n",
    "# а разницу в выборочных средних мы получили случайно\n",
    "\n",
    "params = ['mean_calls', 'mean_sms', 'mean_web']\n",
    "\n",
    "for param in params:\n",
    "    pvalue = st.ttest_ind(ultra_df.query('city == \"Москва\"')[param],\n",
    "                          ultra_df.query('city != \"Москва\"')[param],\n",
    "                          equal_var=False).pvalue\n",
    "    \n",
    "    print(f'P-value для параметра {param} равно {pvalue:.5f}')"
   ]
  },
  {
   "cell_type": "markdown",
   "id": "c38933d5",
   "metadata": {},
   "source": [
    "### Платежи\n",
    "\n",
    "Сравним, как различается выручка оператора от абонентов разных тарифов и в разных городах."
   ]
  },
  {
   "cell_type": "markdown",
   "id": "98e4fd4a",
   "metadata": {},
   "source": [
    "#### Разница между тарифами"
   ]
  },
  {
   "cell_type": "code",
   "execution_count": 87,
   "id": "eaab3b32",
   "metadata": {},
   "outputs": [
    {
     "data": {
      "text/html": [
       "<style type=\"text/css\">\n",
       "</style>\n",
       "<table id=\"T_b933c_\">\n",
       "  <thead>\n",
       "    <tr>\n",
       "      <th class=\"blank level0\" >&nbsp;</th>\n",
       "      <th class=\"col_heading level0 col0\" colspan=\"2\">mean</th>\n",
       "      <th class=\"col_heading level0 col2\" colspan=\"2\">median</th>\n",
       "      <th class=\"col_heading level0 col4\" colspan=\"2\">std</th>\n",
       "      <th class=\"col_heading level0 col6\" colspan=\"2\">var</th>\n",
       "    </tr>\n",
       "    <tr>\n",
       "      <th class=\"index_name level1\" >tariff</th>\n",
       "      <th class=\"col_heading level1 col0\" >smart</th>\n",
       "      <th class=\"col_heading level1 col1\" >ultra</th>\n",
       "      <th class=\"col_heading level1 col2\" >smart</th>\n",
       "      <th class=\"col_heading level1 col3\" >ultra</th>\n",
       "      <th class=\"col_heading level1 col4\" >smart</th>\n",
       "      <th class=\"col_heading level1 col5\" >ultra</th>\n",
       "      <th class=\"col_heading level1 col6\" >smart</th>\n",
       "      <th class=\"col_heading level1 col7\" >ultra</th>\n",
       "    </tr>\n",
       "  </thead>\n",
       "  <tbody>\n",
       "    <tr>\n",
       "      <th id=\"T_b933c_level0_row0\" class=\"row_heading level0 row0\" >mean_extra_fee</th>\n",
       "      <td id=\"T_b933c_row0_col0\" class=\"data row0 col0\" >944</td>\n",
       "      <td id=\"T_b933c_row0_col1\" class=\"data row0 col1\" >190</td>\n",
       "      <td id=\"T_b933c_row0_col2\" class=\"data row0 col2\" >751</td>\n",
       "      <td id=\"T_b933c_row0_col3\" class=\"data row0 col3\" >0</td>\n",
       "      <td id=\"T_b933c_row0_col4\" class=\"data row0 col4\" >835</td>\n",
       "      <td id=\"T_b933c_row0_col5\" class=\"data row0 col5\" >435</td>\n",
       "      <td id=\"T_b933c_row0_col6\" class=\"data row0 col6\" >697_086</td>\n",
       "      <td id=\"T_b933c_row0_col7\" class=\"data row0 col7\" >188_942</td>\n",
       "    </tr>\n",
       "    <tr>\n",
       "      <th id=\"T_b933c_level0_row1\" class=\"row_heading level0 row1\" >mean_total_fee</th>\n",
       "      <td id=\"T_b933c_row1_col0\" class=\"data row1 col0\" >1_494</td>\n",
       "      <td id=\"T_b933c_row1_col1\" class=\"data row1 col1\" >2_140</td>\n",
       "      <td id=\"T_b933c_row1_col2\" class=\"data row1 col2\" >1_301</td>\n",
       "      <td id=\"T_b933c_row1_col3\" class=\"data row1 col3\" >1_950</td>\n",
       "      <td id=\"T_b933c_row1_col4\" class=\"data row1 col4\" >835</td>\n",
       "      <td id=\"T_b933c_row1_col5\" class=\"data row1 col5\" >435</td>\n",
       "      <td id=\"T_b933c_row1_col6\" class=\"data row1 col6\" >697_086</td>\n",
       "      <td id=\"T_b933c_row1_col7\" class=\"data row1 col7\" >188_942</td>\n",
       "    </tr>\n",
       "  </tbody>\n",
       "</table>\n"
      ],
      "text/plain": [
       "<pandas.io.formats.style.Styler at 0x12333ec90>"
      ]
     },
     "execution_count": 87,
     "metadata": {},
     "output_type": "execute_result"
    }
   ],
   "source": [
    "# посчитаем основные статистики\n",
    "user_fees.pivot_table(columns='tariff', \n",
    "                      values=['mean_extra_fee', 'mean_total_fee',], \n",
    "                      aggfunc=['mean', 'median', 'std', 'var']).style.format('{:_.0f}')"
   ]
  },
  {
   "cell_type": "code",
   "execution_count": 88,
   "id": "61a1c910",
   "metadata": {},
   "outputs": [
    {
     "data": {
      "image/png": "[encoded data removed]",
      "text/plain": [
       "<Figure size 720x432 with 2 Axes>"
      ]
     },
     "metadata": {
      "needs_background": "light"
     },
     "output_type": "display_data"
    }
   ],
   "source": [
    "fig, (ax1, ax2) = plt.subplots(1, 2)\n",
    "\n",
    "for param, ax, name in zip(['mean_total_fee', 'mean_extra_fee'],\n",
    "                           [ax1, ax2],\n",
    "                          ['Абонентская и доплата', 'Доплата']):\n",
    "    param_grouped  = user_fees.groupby('tariff')[param]\n",
    "    parameter = [col[1] for col in param_grouped]\n",
    "    labels = [col[0] for col in param_grouped]\n",
    "    ax.boxplot(parameter, labels=labels)\n",
    "    ax.grid()\n",
    "    ax.set_title(name)\n",
    "\n",
    "ax1.set_ylim(0, 4000)\n",
    "ax1.sharey(ax2)\n",
    "fig.tight_layout()\n",
    "plt.suptitle('Среднемесячный платеж от одного абонента тарифов Smart и Ultra, 2018', y=1.05, fontsize=16)\n",
    "plt.show()"
   ]
  },
  {
   "cell_type": "code",
   "execution_count": 89,
   "id": "7e2f0b09",
   "metadata": {
    "scrolled": false
   },
   "outputs": [
    {
     "data": {
      "image/png": "[encoded data removed]",
      "text/plain": [
       "<Figure size 720x432 with 2 Axes>"
      ]
     },
     "metadata": {
      "needs_background": "light"
     },
     "output_type": "display_data"
    }
   ],
   "source": [
    "# и то же самое нормированными гистограммами\n",
    "fig, (ax1, ax2) = plt.subplots(1, 2)\n",
    "\n",
    "for param, ax, name in zip(['mean_total_fee', 'mean_extra_fee'],\n",
    "                           [ax1, ax2],\n",
    "                          ['Абонентская и доплата', 'Доплата']):\n",
    "    param_grouped  = user_fees.groupby('tariff')[param]\n",
    "    parameter = [col[1] for col in param_grouped]\n",
    "    labels = [col[0] for col in param_grouped]\n",
    "    ax.hist(parameter,\n",
    "            histtype='step',\n",
    "            linewidth=3,\n",
    "            density=True, \n",
    "            bins=20)\n",
    "    ax.grid()\n",
    "    ax.set_title(name)\n",
    "    ax.legend(['Ultra', 'Smart'])\n",
    "\n",
    "ax1.sharey(ax2)\n",
    "ax1.sharex(ax2)\n",
    "fig.tight_layout()\n",
    "plt.suptitle('Среднемесячный платеж от одного абонента тарифов Smart и Ultra, 2018', y=1.05, fontsize=16)\n",
    "plt.show()"
   ]
  },
  {
   "cell_type": "code",
   "execution_count": 90,
   "id": "6ef5d3b0",
   "metadata": {},
   "outputs": [
    {
     "name": "stdout",
     "output_type": "stream",
     "text": [
      "Значение p-value для нулевой гипотезы, что у двух \n",
      "генеральных совокупностей (абоненты Ultra и Smart) \n",
      "средние значения параметра (размер выручки) равны, составляет 0.00000\n"
     ]
    }
   ],
   "source": [
    "pvalue = st.ttest_ind(smart_df.mean_total_fee, ultra_df.mean_total_fee, equal_var=False).pvalue\n",
    "print(f'''Значение p-value для нулевой гипотезы, что у двух \n",
    "генеральных совокупностей (абоненты Ultra и Smart) \n",
    "средние значения параметра (размер выручки) равны, составляет {pvalue:.5f}''')"
   ]
  },
  {
   "cell_type": "markdown",
   "id": "f6892ba1",
   "metadata": {},
   "source": [
    "Cредний месячный платеж (абонентская плата + доплата за превышение лимита) абонентов тарифа Ultra значительно выше, чем платеж абонентов Smart.\n",
    "\n",
    " Месячный платеж|Smart|Ultra|-\n",
    "--- | :--- | :---|---\n",
    "Среднее|1494|2140|+43%\n",
    "Медиана|1301|1950|+50%\n",
    "\n",
    "Статистический тест показывает, что вероятность получить такое отличие в выборке случайно, крайне низка."
   ]
  },
  {
   "cell_type": "markdown",
   "id": "e0fc4761",
   "metadata": {},
   "source": [
    "#### Разница между Москвой и остальными городами\n",
    "\n",
    "Теперь посмотрим, отличаются ли московские пользователи от остальных абонентов по размеру платежей."
   ]
  },
  {
   "cell_type": "code",
   "execution_count": 91,
   "id": "1d7fc846",
   "metadata": {},
   "outputs": [
    {
     "data": {
      "text/html": [
       "<style type=\"text/css\">\n",
       "</style>\n",
       "<table id=\"T_3a6a8_\">\n",
       "  <thead>\n",
       "    <tr>\n",
       "      <th class=\"blank level0\" >&nbsp;</th>\n",
       "      <th class=\"col_heading level0 col0\" >mean_total_fee</th>\n",
       "      <th class=\"col_heading level0 col1\" >отклонение от среднего</th>\n",
       "    </tr>\n",
       "  </thead>\n",
       "  <tbody>\n",
       "    <tr>\n",
       "      <th id=\"T_3a6a8_level0_row0\" class=\"row_heading level0 row0\" >Другие города</th>\n",
       "      <td id=\"T_3a6a8_row0_col0\" class=\"data row0 col0\" >1_703</td>\n",
       "      <td id=\"T_3a6a8_row0_col1\" class=\"data row0 col1\" >0.7%</td>\n",
       "    </tr>\n",
       "    <tr>\n",
       "      <th id=\"T_3a6a8_level0_row1\" class=\"row_heading level0 row1\" >Москва</th>\n",
       "      <td id=\"T_3a6a8_row1_col0\" class=\"data row1 col0\" >1_640</td>\n",
       "      <td id=\"T_3a6a8_row1_col1\" class=\"data row1 col1\" >-3.0%</td>\n",
       "    </tr>\n",
       "  </tbody>\n",
       "</table>\n"
      ],
      "text/plain": [
       "<pandas.io.formats.style.Styler at 0x11e40e490>"
      ]
     },
     "execution_count": 91,
     "metadata": {},
     "output_type": "execute_result"
    }
   ],
   "source": [
    "# посчитаем средний размер платежей без разбивки по тарифам\n",
    "cities = user_fees.groupby(user_fees.city=='Москва')['mean_total_fee'].agg(lambda x: round(np.mean(x)))\n",
    "cities.index = ['Другие города', 'Москва']\n",
    "cities = pd.DataFrame(cities)\n",
    "cities['отклонение от среднего'] = cities.mean_total_fee / user_fees.mean_total_fee.mean() - 1\n",
    "cities.style.format({'mean_total_fee': '{:_.0f}', 'отклонение от среднего': '{:_.1%}'})"
   ]
  },
  {
   "cell_type": "code",
   "execution_count": 92,
   "id": "98d3f459",
   "metadata": {},
   "outputs": [
    {
     "name": "stdout",
     "output_type": "stream",
     "text": [
      "Средний размер платежей у пользователей из разных городов:\n",
      "\n",
      "тариф smart\n"
     ]
    },
    {
     "data": {
      "text/html": [
       "<style type=\"text/css\">\n",
       "</style>\n",
       "<table id=\"T_db56b_\">\n",
       "  <thead>\n",
       "    <tr>\n",
       "      <th class=\"blank level0\" >&nbsp;</th>\n",
       "      <th class=\"col_heading level0 col0\" >mean_total_fee</th>\n",
       "      <th class=\"col_heading level0 col1\" >отклонение от среднего</th>\n",
       "    </tr>\n",
       "  </thead>\n",
       "  <tbody>\n",
       "    <tr>\n",
       "      <th id=\"T_db56b_level0_row0\" class=\"row_heading level0 row0\" >Другие города</th>\n",
       "      <td id=\"T_db56b_row0_col0\" class=\"data row0 col0\" >1_516</td>\n",
       "      <td id=\"T_db56b_row0_col1\" class=\"data row0 col1\" >1.4%</td>\n",
       "    </tr>\n",
       "    <tr>\n",
       "      <th id=\"T_db56b_level0_row1\" class=\"row_heading level0 row1\" >Москва</th>\n",
       "      <td id=\"T_db56b_row1_col0\" class=\"data row1 col0\" >1_404</td>\n",
       "      <td id=\"T_db56b_row1_col1\" class=\"data row1 col1\" >-6.1%</td>\n",
       "    </tr>\n",
       "  </tbody>\n",
       "</table>\n"
      ],
      "text/plain": [
       "<pandas.io.formats.style.Styler at 0x11eec5310>"
      ]
     },
     "metadata": {},
     "output_type": "display_data"
    },
    {
     "name": "stdout",
     "output_type": "stream",
     "text": [
      "тариф ultra\n"
     ]
    },
    {
     "data": {
      "text/html": [
       "<style type=\"text/css\">\n",
       "</style>\n",
       "<table id=\"T_dada2_\">\n",
       "  <thead>\n",
       "    <tr>\n",
       "      <th class=\"blank level0\" >&nbsp;</th>\n",
       "      <th class=\"col_heading level0 col0\" >mean_total_fee</th>\n",
       "      <th class=\"col_heading level0 col1\" >отклонение от среднего</th>\n",
       "    </tr>\n",
       "  </thead>\n",
       "  <tbody>\n",
       "    <tr>\n",
       "      <th id=\"T_dada2_level0_row0\" class=\"row_heading level0 row0\" >Другие города</th>\n",
       "      <td id=\"T_dada2_row0_col0\" class=\"data row0 col0\" >2_155</td>\n",
       "      <td id=\"T_dada2_row0_col1\" class=\"data row0 col1\" >0.7%</td>\n",
       "    </tr>\n",
       "    <tr>\n",
       "      <th id=\"T_dada2_level0_row1\" class=\"row_heading level0 row1\" >Москва</th>\n",
       "      <td id=\"T_dada2_row1_col0\" class=\"data row1 col0\" >2_092</td>\n",
       "      <td id=\"T_dada2_row1_col1\" class=\"data row1 col1\" >-2.3%</td>\n",
       "    </tr>\n",
       "  </tbody>\n",
       "</table>\n"
      ],
      "text/plain": [
       "<pandas.io.formats.style.Styler at 0x1253dbb10>"
      ]
     },
     "metadata": {},
     "output_type": "display_data"
    }
   ],
   "source": [
    "# и для каждого тарифа в отдельности\n",
    "print(f'''Средний размер платежей у пользователей из разных городов:\n",
    "''')\n",
    "for tariff in [smart_df, ultra_df]:\n",
    "    cities = tariff.groupby(user_fees.city=='Москва')['mean_total_fee'].agg(lambda x: round(np.mean(x)))\n",
    "    cities.index = ['Другие города', 'Москва']\n",
    "    cities = pd.DataFrame(cities)\n",
    "    cities['отклонение от среднего'] = cities.mean_total_fee / tariff.mean_total_fee.mean() - 1\n",
    "    print(f'тариф {tariff[\"tariff\"].iloc[0]}')\n",
    "    display(cities.style.format({'mean_total_fee': '{:_.0f}', 'отклонение от среднего': '{:_.1%}'}))"
   ]
  },
  {
   "cell_type": "code",
   "execution_count": 93,
   "id": "d9547406",
   "metadata": {},
   "outputs": [
    {
     "name": "stdout",
     "output_type": "stream",
     "text": [
      "Значение p-value для нулевой гипотезы, что у двух \n",
      "генеральных совокупностей (абоненты из Москвы и других городов) \n",
      "средние значения параметра (размер выручки) равны, составляет 0.50\n",
      "\n",
      "Значение p-value для нулевой гипотезы, что у двух \n",
      "генеральных совокупностей (абоненты тарифа smart из Москвы и других городов) \n",
      "средние значения параметра (размер выручки) равны, составляет 0.35\n",
      "\n",
      "Значение p-value для нулевой гипотезы, что у двух \n",
      "генеральных совокупностей (абоненты тарифа ultra из Москвы и других городов) \n",
      "средние значения параметра (размер выручки) равны, составляет 0.47\n",
      "\n"
     ]
    }
   ],
   "source": [
    "# проверим статистическую значимость отличий, найденных по выборкам\n",
    "\n",
    "all_not_moscow = list(user_fees.groupby(user_fees.city=='Москва')['mean_total_fee'])[0][1]\n",
    "all_moscow = list(user_fees.groupby(user_fees.city=='Москва')['mean_total_fee'])[1][1]\n",
    "pvalue = st.ttest_ind(all_not_moscow, all_moscow, equal_var=True).pvalue\n",
    "print(f'''Значение p-value для нулевой гипотезы, что у двух \n",
    "генеральных совокупностей (абоненты из Москвы и других городов) \n",
    "средние значения параметра (размер выручки) равны, составляет {pvalue:.2f}''')\n",
    "print()\n",
    "for tariff in [smart_df, ultra_df]:\n",
    "    not_moscow = list(tariff.groupby(user_fees.city=='Москва')['mean_total_fee'])[0][1]\n",
    "    moscow = list(tariff.groupby(user_fees.city=='Москва')['mean_total_fee'])[1][1]\n",
    "    pvalue = st.ttest_ind(not_moscow, moscow, equal_var=True).pvalue\n",
    "    print(f'''Значение p-value для нулевой гипотезы, что у двух \n",
    "генеральных совокупностей (абоненты тарифа {tariff[\"tariff\"].iloc[0]} из Москвы и других городов) \n",
    "средние значения параметра (размер выручки) равны, составляет {pvalue:.2f}''')\n",
    "    print()"
   ]
  },
  {
   "cell_type": "markdown",
   "id": "31d49e2a",
   "metadata": {},
   "source": [
    "При расчёте по нашей выборке мы получили результат, что средний размер платежей у абонентов из Москвы ниже, чем у абонентов из других регионов (как в целом, так и в рамках одного тарифа). Однако это различие не проходит проверку статистическим тестом – при таком размере выборки очень высока вероятность того, что обнаруженные отличия – это случайность, и в генеральной совокупности таких отличий мы не увидим."
   ]
  },
  {
   "cell_type": "markdown",
   "id": "86a324e5",
   "metadata": {},
   "source": [
    "#### Структура дополнительных платежей  \n",
    "\n",
    "Структура платежей абонентов тарифов Ultra и Smart заметно различается. **У пользователей Smart – в среднем дополнительные платежи превышают абонентскую плату**. В тарифе Ultra допплатежи составляют меньше 10% от всех поступлений.\n",
    "\n",
    "Ради интереса изучим структуру платежей немного подробнее. Выясним, какую услугу надо продвигать, чтобы получить больше денег."
   ]
  },
  {
   "cell_type": "code",
   "execution_count": 94,
   "id": "0ffedcca",
   "metadata": {},
   "outputs": [
    {
     "name": "stdout",
     "output_type": "stream",
     "text": [
      "Доля дополнительных платежей у абонентов разных тарифов\n",
      "ultra: 9%\n",
      "smart: 63%\n"
     ]
    }
   ],
   "source": [
    "print('Доля дополнительных платежей у абонентов разных тарифов')\n",
    "for tariff in [ultra_df, smart_df]:\n",
    "    print(f'{tariff.tariff.iloc[0]}: {tariff.mean_extra_fee.mean() / tariff.mean_total_fee.mean():.0%}')\n"
   ]
  },
  {
   "cell_type": "code",
   "execution_count": 95,
   "id": "df49e9d5",
   "metadata": {
    "scrolled": false
   },
   "outputs": [
    {
     "name": "stdout",
     "output_type": "stream",
     "text": [
      "ultra\n"
     ]
    },
    {
     "data": {
      "text/html": [
       "<style type=\"text/css\">\n",
       "</style>\n",
       "<table id=\"T_44f9b_\">\n",
       "  <thead>\n",
       "    <tr>\n",
       "      <th class=\"blank level0\" >&nbsp;</th>\n",
       "      <th class=\"col_heading level0 col0\" >user_count</th>\n",
       "      <th class=\"col_heading level0 col1\" >user_share</th>\n",
       "      <th class=\"col_heading level0 col2\" >mean_sms_fees</th>\n",
       "      <th class=\"col_heading level0 col3\" >mean_web_fees</th>\n",
       "      <th class=\"col_heading level0 col4\" >mean_calls_fees</th>\n",
       "    </tr>\n",
       "    <tr>\n",
       "      <th class=\"index_name level0\" >extra_share</th>\n",
       "      <th class=\"blank col0\" >&nbsp;</th>\n",
       "      <th class=\"blank col1\" >&nbsp;</th>\n",
       "      <th class=\"blank col2\" >&nbsp;</th>\n",
       "      <th class=\"blank col3\" >&nbsp;</th>\n",
       "      <th class=\"blank col4\" >&nbsp;</th>\n",
       "    </tr>\n",
       "  </thead>\n",
       "  <tbody>\n",
       "    <tr>\n",
       "      <th id=\"T_44f9b_level0_row0\" class=\"row_heading level0 row0\" >0</th>\n",
       "      <td id=\"T_44f9b_row0_col0\" class=\"data row0 col0\" >99</td>\n",
       "      <td id=\"T_44f9b_row0_col1\" class=\"data row0 col1\" >70%</td>\n",
       "      <td id=\"T_44f9b_row0_col2\" class=\"data row0 col2\" >0</td>\n",
       "      <td id=\"T_44f9b_row0_col3\" class=\"data row0 col3\" >0</td>\n",
       "      <td id=\"T_44f9b_row0_col4\" class=\"data row0 col4\" >0</td>\n",
       "    </tr>\n",
       "    <tr>\n",
       "      <th id=\"T_44f9b_level0_row1\" class=\"row_heading level0 row1\" >1-25%</th>\n",
       "      <td id=\"T_44f9b_row1_col0\" class=\"data row1 col0\" >8</td>\n",
       "      <td id=\"T_44f9b_row1_col1\" class=\"data row1 col1\" >6%</td>\n",
       "      <td id=\"T_44f9b_row1_col2\" class=\"data row1 col2\" >0</td>\n",
       "      <td id=\"T_44f9b_row1_col3\" class=\"data row1 col3\" >96</td>\n",
       "      <td id=\"T_44f9b_row1_col4\" class=\"data row1 col4\" >0</td>\n",
       "    </tr>\n",
       "    <tr>\n",
       "      <th id=\"T_44f9b_level0_row2\" class=\"row_heading level0 row2\" >26-50%</th>\n",
       "      <td id=\"T_44f9b_row2_col0\" class=\"data row2 col0\" >11</td>\n",
       "      <td id=\"T_44f9b_row2_col1\" class=\"data row2 col1\" >8%</td>\n",
       "      <td id=\"T_44f9b_row2_col2\" class=\"data row2 col2\" >0</td>\n",
       "      <td id=\"T_44f9b_row2_col3\" class=\"data row2 col3\" >245</td>\n",
       "      <td id=\"T_44f9b_row2_col4\" class=\"data row2 col4\" >0</td>\n",
       "    </tr>\n",
       "    <tr>\n",
       "      <th id=\"T_44f9b_level0_row3\" class=\"row_heading level0 row3\" >51-75%</th>\n",
       "      <td id=\"T_44f9b_row3_col0\" class=\"data row3 col0\" >6</td>\n",
       "      <td id=\"T_44f9b_row3_col1\" class=\"data row3 col1\" >4%</td>\n",
       "      <td id=\"T_44f9b_row3_col2\" class=\"data row3 col2\" >0</td>\n",
       "      <td id=\"T_44f9b_row3_col3\" class=\"data row3 col3\" >497</td>\n",
       "      <td id=\"T_44f9b_row3_col4\" class=\"data row3 col4\" >0</td>\n",
       "    </tr>\n",
       "    <tr>\n",
       "      <th id=\"T_44f9b_level0_row4\" class=\"row_heading level0 row4\" >76-99%</th>\n",
       "      <td id=\"T_44f9b_row4_col0\" class=\"data row4 col0\" >6</td>\n",
       "      <td id=\"T_44f9b_row4_col1\" class=\"data row4 col1\" >4%</td>\n",
       "      <td id=\"T_44f9b_row4_col2\" class=\"data row4 col2\" >0</td>\n",
       "      <td id=\"T_44f9b_row4_col3\" class=\"data row4 col3\" >923</td>\n",
       "      <td id=\"T_44f9b_row4_col4\" class=\"data row4 col4\" >0</td>\n",
       "    </tr>\n",
       "    <tr>\n",
       "      <th id=\"T_44f9b_level0_row5\" class=\"row_heading level0 row5\" >100%</th>\n",
       "      <td id=\"T_44f9b_row5_col0\" class=\"data row5 col0\" >11</td>\n",
       "      <td id=\"T_44f9b_row5_col1\" class=\"data row5 col1\" >8%</td>\n",
       "      <td id=\"T_44f9b_row5_col2\" class=\"data row5 col2\" >0</td>\n",
       "      <td id=\"T_44f9b_row5_col3\" class=\"data row5 col3\" >1_352</td>\n",
       "      <td id=\"T_44f9b_row5_col4\" class=\"data row5 col4\" >0</td>\n",
       "    </tr>\n",
       "  </tbody>\n",
       "</table>\n"
      ],
      "text/plain": [
       "<pandas.io.formats.style.Styler at 0x11da15dd0>"
      ]
     },
     "metadata": {},
     "output_type": "display_data"
    },
    {
     "name": "stdout",
     "output_type": "stream",
     "text": [
      "-----------------------\n",
      "\n",
      "smart\n"
     ]
    },
    {
     "data": {
      "text/html": [
       "<style type=\"text/css\">\n",
       "</style>\n",
       "<table id=\"T_7f580_\">\n",
       "  <thead>\n",
       "    <tr>\n",
       "      <th class=\"blank level0\" >&nbsp;</th>\n",
       "      <th class=\"col_heading level0 col0\" >user_count</th>\n",
       "      <th class=\"col_heading level0 col1\" >user_share</th>\n",
       "      <th class=\"col_heading level0 col2\" >mean_sms_fees</th>\n",
       "      <th class=\"col_heading level0 col3\" >mean_web_fees</th>\n",
       "      <th class=\"col_heading level0 col4\" >mean_calls_fees</th>\n",
       "    </tr>\n",
       "    <tr>\n",
       "      <th class=\"index_name level0\" >extra_share</th>\n",
       "      <th class=\"blank col0\" >&nbsp;</th>\n",
       "      <th class=\"blank col1\" >&nbsp;</th>\n",
       "      <th class=\"blank col2\" >&nbsp;</th>\n",
       "      <th class=\"blank col3\" >&nbsp;</th>\n",
       "      <th class=\"blank col4\" >&nbsp;</th>\n",
       "    </tr>\n",
       "  </thead>\n",
       "  <tbody>\n",
       "    <tr>\n",
       "      <th id=\"T_7f580_level0_row0\" class=\"row_heading level0 row0\" >0</th>\n",
       "      <td id=\"T_7f580_row0_col0\" class=\"data row0 col0\" >10</td>\n",
       "      <td id=\"T_7f580_row0_col1\" class=\"data row0 col1\" >3%</td>\n",
       "      <td id=\"T_7f580_row0_col2\" class=\"data row0 col2\" >0</td>\n",
       "      <td id=\"T_7f580_row0_col3\" class=\"data row0 col3\" >0</td>\n",
       "      <td id=\"T_7f580_row0_col4\" class=\"data row0 col4\" >0</td>\n",
       "    </tr>\n",
       "    <tr>\n",
       "      <th id=\"T_7f580_level0_row1\" class=\"row_heading level0 row1\" >1-25%</th>\n",
       "      <td id=\"T_7f580_row1_col0\" class=\"data row1 col0\" >11</td>\n",
       "      <td id=\"T_7f580_row1_col1\" class=\"data row1 col1\" >3%</td>\n",
       "      <td id=\"T_7f580_row1_col2\" class=\"data row1 col2\" >0</td>\n",
       "      <td id=\"T_7f580_row1_col3\" class=\"data row1 col3\" >99</td>\n",
       "      <td id=\"T_7f580_row1_col4\" class=\"data row1 col4\" >5</td>\n",
       "    </tr>\n",
       "    <tr>\n",
       "      <th id=\"T_7f580_level0_row2\" class=\"row_heading level0 row2\" >26-50%</th>\n",
       "      <td id=\"T_7f580_row2_col0\" class=\"data row2 col0\" >25</td>\n",
       "      <td id=\"T_7f580_row2_col1\" class=\"data row2 col1\" >8%</td>\n",
       "      <td id=\"T_7f580_row2_col2\" class=\"data row2 col2\" >0</td>\n",
       "      <td id=\"T_7f580_row2_col3\" class=\"data row2 col3\" >208</td>\n",
       "      <td id=\"T_7f580_row2_col4\" class=\"data row2 col4\" >32</td>\n",
       "    </tr>\n",
       "    <tr>\n",
       "      <th id=\"T_7f580_level0_row3\" class=\"row_heading level0 row3\" >51-75%</th>\n",
       "      <td id=\"T_7f580_row3_col0\" class=\"data row3 col0\" >36</td>\n",
       "      <td id=\"T_7f580_row3_col1\" class=\"data row3 col1\" >11%</td>\n",
       "      <td id=\"T_7f580_row3_col2\" class=\"data row3 col2\" >5</td>\n",
       "      <td id=\"T_7f580_row3_col3\" class=\"data row3 col3\" >414</td>\n",
       "      <td id=\"T_7f580_row3_col4\" class=\"data row3 col4\" >43</td>\n",
       "    </tr>\n",
       "    <tr>\n",
       "      <th id=\"T_7f580_level0_row4\" class=\"row_heading level0 row4\" >76-99%</th>\n",
       "      <td id=\"T_7f580_row4_col0\" class=\"data row4 col0\" >41</td>\n",
       "      <td id=\"T_7f580_row4_col1\" class=\"data row4 col1\" >13%</td>\n",
       "      <td id=\"T_7f580_row4_col2\" class=\"data row4 col2\" >5</td>\n",
       "      <td id=\"T_7f580_row4_col3\" class=\"data row4 col3\" >599</td>\n",
       "      <td id=\"T_7f580_row4_col4\" class=\"data row4 col4\" >62</td>\n",
       "    </tr>\n",
       "    <tr>\n",
       "      <th id=\"T_7f580_level0_row5\" class=\"row_heading level0 row5\" >100%</th>\n",
       "      <td id=\"T_7f580_row5_col0\" class=\"data row5 col0\" >201</td>\n",
       "      <td id=\"T_7f580_row5_col1\" class=\"data row5 col1\" >62%</td>\n",
       "      <td id=\"T_7f580_row5_col2\" class=\"data row5 col2\" >31</td>\n",
       "      <td id=\"T_7f580_row5_col3\" class=\"data row5 col3\" >979</td>\n",
       "      <td id=\"T_7f580_row5_col4\" class=\"data row5 col4\" >259</td>\n",
       "    </tr>\n",
       "  </tbody>\n",
       "</table>\n"
      ],
      "text/plain": [
       "<pandas.io.formats.style.Styler at 0x11e1f27d0>"
      ]
     },
     "metadata": {},
     "output_type": "display_data"
    },
    {
     "name": "stdout",
     "output_type": "stream",
     "text": [
      "-----------------------\n",
      "\n"
     ]
    }
   ],
   "source": [
    "# посмотрим, как часто, за что и сколько абоненты разных тарифов платят дополнительно\n",
    "\n",
    "# функция считает долю платежных периодов, когда у абонента были допплатежи, и среднюю сумму этих платежей\n",
    "def count_extra_fee_periods(row):\n",
    "    fee_period_count =  len([_ for _ in row['total_extra_fees'] if _ > 0])\n",
    "    extra_share = fee_period_count / row['periods_count']\n",
    "    mean_sms_fees = np.nanmean(row['sms_fees'])\n",
    "    mean_web_fees = np.nanmean(row['web_fees'])\n",
    "    mean_calls_fees = np.nanmean(row['calls_fees'])\n",
    "    return pd.Series([extra_share, mean_sms_fees, mean_web_fees, mean_calls_fees])\n",
    "\n",
    "# разделим абонентов на группы по тому, как часто они платили дополнительно. \n",
    "# для каждой группы посмотрим за что и сколько платили\n",
    "for tariff in [ultra_df, smart_df]:\n",
    "    df = tariff.apply(count_extra_fee_periods, axis=1).rename({0: 'extra_share',\n",
    "                                                               1: 'mean_sms_fees',\n",
    "                                                               2: 'mean_web_fees',\n",
    "                                                               3: 'mean_calls_fees'}, axis=1)\n",
    "    df = (df.groupby(pd.cut(df['extra_share'],\n",
    "                            bins=[-0.000001, 0.000001, 0.25, 0.5, 0.75, 0.99, 1],\n",
    "                            labels=['0', '1-25%', '26-50%', '51-75%', '76-99%', '100%']))\n",
    "          .agg({'extra_share': 'count',\n",
    "                'mean_sms_fees': 'mean',\n",
    "                'mean_web_fees': 'mean',\n",
    "                'mean_calls_fees': 'mean'})\n",
    "          .rename({'extra_share': 'user_count'}, axis=1)\n",
    "         )\n",
    "\n",
    "    df.insert(1,'user_share', df.user_count / df.user_count.sum())\n",
    "    print(tariff.tariff.iloc[0])\n",
    "    display(df.style.format({'user_share': '{:.0%}',\n",
    "                             'mean_sms_fees': '{:_.0f}',\n",
    "                             'mean_web_fees': '{:_.0f}',\n",
    "                             'mean_calls_fees': '{:_.0f}'}))\n",
    "    print('-----------------------')\n",
    "    print()\n"
   ]
  },
  {
   "cell_type": "code",
   "execution_count": 96,
   "id": "aca56bc3",
   "metadata": {},
   "outputs": [
    {
     "data": {
      "text/plain": [
       "600.0"
      ]
     },
     "execution_count": 96,
     "metadata": {},
     "output_type": "execute_result"
    }
   ],
   "source": [
    "smart_df.web_fees.apply(np.nanmean).median()"
   ]
  },
  {
   "cell_type": "markdown",
   "id": "85095811",
   "metadata": {},
   "source": [
    "Тариф **Ultra**\n",
    "\n",
    "- 70% абонентов за всю свою историю (у нас абоненты со стажем от 1 до 12 месяцев примерно поровну) ни разу не платили за превышение лимитов.\n",
    "- 8% самых хардкорных абонентов платили дополнительно в каждый месяц своей истории.\n",
    "- Единственная услуга, за которую платили, – это дополнительный веб-трафик.\n",
    "- Для 8% хардкорных абонентов эта допплата составляла в среднем более 1350 рублей.\n",
    "\n",
    "Тариф **Smart**\n",
    "\n",
    "- 62% абонентов оплачивали превышение лимитов каждый месяц без исключения.\n",
    "- Абоненты этой группы платили в среднем 980 рублей за интернет, 260 рублей за звонки и 30 рублей за сообщения.\n",
    "- Вообще не платили дополнительно только 3% пользователей тарифа.\n",
    "\n",
    "Итого, мы подтвердили вполне очевидное – сейчас допплатежи актуальны только для тарифа Smart, а самая востребованная услуга, за которую абоненты доплачивают больше всего денег – это доступ в интернет."
   ]
  },
  {
   "cell_type": "markdown",
   "id": "bbbdaa4a",
   "metadata": {},
   "source": [
    "### Прибыль\n",
    "\n",
    "Абоненты более дорого тарифа Ultra платят в среднем больше денег, чем абоненты бюджетного тарифа Smart – даже несмотря на большой объём дополнительных платежей за превышение лимитов у абонентов Smart. Это не удивительно.\n",
    "\n",
    "Однако услуг абоненты Ultra потребляют также больше, чем абоненты Smart. Значит и затраты компании на обслуживание Ultra выше, чем на Smart. Следовательно одного лишь показателя платежей недостаточно для определения группы клиентов более выгодной в плане прибыли.\n",
    "\n",
    "Мы не знаем, как формируется себестоимость оказания услуг абонентам. Но можем ради интереса прикинуть простенькую экономическую модель на основе показателей \"с потолка\".\n",
    "\n",
    "Будем считать, что затраты на одного абонента складываются из:\n",
    "- фиксированной части, не зависящей от объёма потребления – пусть она будет равна 100₽ в месяц.\n",
    "- переменной части, которая зависит от объёма оказанных услуг. Пусть она будет равна 1/10 части от ставок за превышение на тарифе Ultra:\n",
    "    - 1 смс - 0,1₽\n",
    "    - 1 минута связи - 0,1₽\n",
    "    - 1 Гб трафика - 15₽\n",
    "\n",
    "Исходя из этих условных цифр рассчитаем среднюю прибыль от одного абонента на разных тарифах."
   ]
  },
  {
   "cell_type": "code",
   "execution_count": 97,
   "id": "4a4b59c0",
   "metadata": {
    "scrolled": true
   },
   "outputs": [],
   "source": [
    "# словарик со ставками себестоимости разных услуг\n",
    "COSTS = {'web': 15, 'calls': 0.1, 'sms': 0.1, 'const': 500}\n",
    "# COSTS = {'web': 5, 'calls': 0.1, 'sms': 0.01, 'const': 100}\n",
    "\n",
    "# функция для расчёта затрат на абонента\n",
    "def calc_costs(row):\n",
    "    service_costs = np.array([0.0 for _ in range(12)])\n",
    "    for service in ['web', 'calls', 'sms']:\n",
    "        service_fees = np.array([month * COSTS[service] for month in row[service+'_duration']])\n",
    "        service_costs += service_fees\n",
    "    service_costs += COSTS['const']\n",
    "    return np.nanmean(service_costs)\n",
    "\n",
    "# добавим в сет колонку с затратами\n",
    "user_fees['mean_service_cost'] = user_fees.apply(calc_costs, axis=1)"
   ]
  },
  {
   "cell_type": "code",
   "execution_count": 98,
   "id": "49b4bc66",
   "metadata": {},
   "outputs": [
    {
     "data": {
      "text/html": [
       "<div>\n",
       "<style scoped>\n",
       "    .dataframe tbody tr th:only-of-type {\n",
       "        vertical-align: middle;\n",
       "    }\n",
       "\n",
       "    .dataframe tbody tr th {\n",
       "        vertical-align: top;\n",
       "    }\n",
       "\n",
       "    .dataframe thead th {\n",
       "        text-align: right;\n",
       "    }\n",
       "</style>\n",
       "<table border=\"1\" class=\"dataframe\">\n",
       "  <thead>\n",
       "    <tr style=\"text-align: right;\">\n",
       "      <th></th>\n",
       "      <th>Средняя прибыль с одного абонента</th>\n",
       "    </tr>\n",
       "    <tr>\n",
       "      <th>tariff</th>\n",
       "      <th></th>\n",
       "    </tr>\n",
       "  </thead>\n",
       "  <tbody>\n",
       "    <tr>\n",
       "      <th>smart</th>\n",
       "      <td>675</td>\n",
       "    </tr>\n",
       "    <tr>\n",
       "      <th>ultra</th>\n",
       "      <td>1255</td>\n",
       "    </tr>\n",
       "  </tbody>\n",
       "</table>\n",
       "</div>"
      ],
      "text/plain": [
       "        Средняя прибыль с одного абонента\n",
       "tariff                                   \n",
       "smart                                 675\n",
       "ultra                                1255"
      ]
     },
     "execution_count": 98,
     "metadata": {},
     "output_type": "execute_result"
    }
   ],
   "source": [
    "# посчитаем среднюю прибыль\n",
    "revenue = user_fees.groupby('tariff')['mean_total_fee'].mean()\n",
    "cost = user_fees.groupby('tariff')['mean_service_cost'].mean()\n",
    "pd.DataFrame(round(revenue - cost).astype('int')).rename({0: 'Средняя прибыль с одного абонента'}, axis=1)"
   ]
  },
  {
   "cell_type": "markdown",
   "id": "a329a1a2",
   "metadata": {},
   "source": [
    "Ну что ж - если наши оценки затрат хоть немного верны, прибыль прямо пропорциональна выручке, и один абонент тарифа Ultra в среднем приносит компании почти вдвое больше денег, чем один абонент тарифа Smart. "
   ]
  },
  {
   "cell_type": "markdown",
   "id": "c5624c60",
   "metadata": {},
   "source": [
    "## Общий вывод\n",
    "\n",
    "В целом исходные данные у нас нормального качества. Непонятно только, почему количество пользователей тарифа монотонно растёт, и в нашей выборке совсем нет пользователей из прошлого. Распределение абонентов по возрастам выглядит неправдоподобно.\n",
    "\n",
    "Абоненты двух тарифов различаются между собой по объёму потребляемых услуг. У ползователей Ultra на четверть больше, чем на тарифе Smart, продолжительность голосовой связи и на одну пятую – объём интернет-трафика. Эта разница статистически значима.\n",
    "\n",
    "Cредний месячный платеж (абонентская плата + доплата за превышение лимита) абонентов тарифа Ultra (2140₽) в 1,4 раза выше, чем платеж абонентов Smart (1494₽). Эта разница статистически значима.\n",
    "\n",
    "Абоненты Ultra в среднем приносят больше денег, чем абоненты Smart, даже с учётом того, что они потребляют больше услуг.\n",
    "\n",
    "Из-за разности условий тарифов структура платежей по ним различается. На тарифе Smart дополнительные платежи составляют более 60% от всех платежей от абонентов. 62% абонентов тарифа оплачивали превышение лимитов каждый месяц без исключения.\n",
    "\n",
    "На тарифе Ultra дополнительные платежи составляют лишь 7% всей суммы платежей. 70% абонентов тарифа ни разу не платили за превышение лимитов.\n",
    "\n",
    "Самая востребованная услуга, за которую абоненты доплачивают больше всего денег на обоих тарифах, – это доступ в интернет. В среднем абоненты Smart доплачивали за интернет около 750 рублей в месяц.\n",
    "\n",
    "Размер выборки не позволяет достоверно определить отличаются ли пользователи из Москвы от остальных абонентов по объёму потребляемых услуг и платежам."
   ]
  }
 ],
 "metadata": {
  "kernelspec": {
   "display_name": "Python 3",
   "language": "python",
   "name": "python3"
  },
  "language_info": {
   "codemirror_mode": {
    "name": "ipython",
    "version": 3
   },
   "file_extension": ".py",
   "mimetype": "text/x-python",
   "name": "python",
   "nbconvert_exporter": "python",
   "pygments_lexer": "ipython3",
   "version": "3.7.12"
  },
  "toc": {
   "base_numbering": 1,
   "nav_menu": {},
   "number_sections": true,
   "sideBar": true,
   "skip_h1_title": true,
   "title_cell": "Table of Contents",
   "title_sidebar": "Contents",
   "toc_cell": false,
   "toc_position": {},
   "toc_section_display": true,
   "toc_window_display": true
  }
 },
 "nbformat": 4,
 "nbformat_minor": 5
}
